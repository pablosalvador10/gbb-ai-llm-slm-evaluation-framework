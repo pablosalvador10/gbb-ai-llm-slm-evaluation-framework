{
 "cells": [
  {
   "cell_type": "markdown",
   "id": "cac9fa0e",
   "metadata": {},
   "source": [
    "\n",
    "# 🚀 Azure AI Foundry: Foundational 101 Set-Up\n",
    "\n",
    "This notebook serves as a comprehensive guide to getting started with **Azure AI Foundry**. It will walk you through the essential setup, project creation, and usage of core features like model inference, prompt templates, and Azure AI Search.\n",
    "\n",
    "> **Note:** This notebook assumes you have access to the Azure AI Foundry SDK, the required Azure resources, and a valid project connection string.\n",
    "\n",
    "## 🧰 **Prerequisites**\n",
    "To ensure you can follow along, please make sure you have the following in place:\n",
    "- **Azure Subscription** with permissions to create resources.\n",
    "- **Azure CLI** installed to authenticate and access resources.\n",
    "- **Python 3.8+** installed on your system.\n",
    "- **AI Foundry Project** created via the Azure portal. [official Azure AI Foundry documentation](https://learn.microsoft.com/en-us/azure/ai-studio/what-is-ai-studio).\n",
    "\n",
    "## 📚 **Table of Contents**\n",
    "1. [Project Setup](#1-project-setup)\n",
    "2. [Model Inference](#2-model-inference)\n",
    "3. [Prompt Templates](#3-prompt-templates)\n",
    "4. [Observability & Monitoring](#4-observability-monitoring)\n",
    "5. [Evaluations](#5-evaluations)"
   ]
  },
  {
   "cell_type": "markdown",
   "id": "e0d5e65a",
   "metadata": {},
   "source": [
    "## 📁 1. Project Setup"
   ]
  },
  {
   "cell_type": "code",
   "execution_count": 1,
   "id": "c56be27f",
   "metadata": {},
   "outputs": [
    {
     "name": "stdout",
     "output_type": "stream",
     "text": [
      "Directory changed to C:\\Users\\pablosal\\Desktop\\gbb-ai-llm-slm-evaluation-framework\n"
     ]
    }
   ],
   "source": [
    "import os\n",
    "from datetime import datetime\n",
    "from pprint import pprint\n",
    "from dotenv import load_dotenv\n",
    "\n",
    "# Define the target directory (change yours)\n",
    "TARGET_DIRECTORY = r\"C:\\Users\\pablosal\\Desktop\\gbb-ai-llm-slm-evaluation-framework\"\n",
    "\n",
    "# Check if the directory exists\n",
    "if os.path.exists(TARGET_DIRECTORY):\n",
    "    # Change the current working directory\n",
    "    os.chdir(TARGET_DIRECTORY)\n",
    "    print(f\"Directory changed to {os.getcwd()}\")\n",
    "else:\n",
    "    print(f\"Directory {TARGET_DIRECTORY} does not exist.\")"
   ]
  },
  {
   "cell_type": "code",
   "execution_count": 4,
   "id": "963efef0",
   "metadata": {},
   "outputs": [
    {
     "name": "stdout",
     "output_type": "stream",
     "text": [
      "Project client created successfully.\n"
     ]
    }
   ],
   "source": [
    "# Step 1: Import necessary libraries\n",
    "import os\n",
    "from azure.identity import DefaultAzureCredential\n",
    "from azure.ai.projects import AIProjectClient\n",
    "\n",
    "# Step 2: Set your connection string (replace with your actual connection string)\n",
    "project_connection_string = os.getenv(\"AZURE_AI_FOUNDRY_CONNECTION_STRING\")\n",
    "\n",
    "# Step 3: Create the project client\n",
    "project = AIProjectClient.from_connection_string(\n",
    "    conn_str=project_connection_string,\n",
    "    credential=DefaultAzureCredential()\n",
    ")\n",
    "\n",
    "# Verify connection\n",
    "print(\"Project client created successfully.\")\n",
    "    "
   ]
  },
  {
   "cell_type": "markdown",
   "id": "40e665e2",
   "metadata": {},
   "source": [
    "## 🤖 2. Model Inference"
   ]
  },
  {
   "cell_type": "code",
   "execution_count": 4,
   "id": "b5ea2b0b",
   "metadata": {},
   "outputs": [
    {
     "name": "stdout",
     "output_type": "stream",
     "text": [
      "🤖 AI Response:  The theory of relativity, proposed by Albert Einstein, encompasses two theories: special relativity and general relativity.\n",
      "\n",
      "\n",
      "Special relativity, introduced in 1905, deals with the physics of motion in the absence of gravity and holds that the laws of physics are the same for all non-accelerating observers. It introduced the idea that time and space are relative and not absolute concepts. This means that time can slow down or speed up depending on how fast one is moving relative to something else. It also shows that mass and energy are equivalent, as expressed in the famous equation E=mc^2, where E is energy, m is mass, and c is the speed of light.\n",
      "\n",
      "\n",
      "General relativity, published in 1915, extends the theory to include gravity. It describes gravity not as a force, but as a curvature of spacetime caused by mass and energy. Massive objects like stars and planets curve the spacetime around them, and other objects move along these curves, which we perceive as gravitational attraction.\n",
      "\n",
      "\n",
      "Imagine spacetime as a trampoline. If you place a heavy ball in the center, it will cause the trampoline to dip or curve. Now, if you roll a smaller ball across the trampoline, it will spiral towards the heavy ball not because it's being pulled by a force, but because it's following the curved path of spacetime. This is how general relativity explains gravity.\n",
      "\n",
      "\n",
      "Einstein's theories revolutionized our understanding of the universe, leading to numerous technologies and insights about black holes, the expansion of the universe, and the fundamental workings of the cosmos.\n"
     ]
    }
   ],
   "source": [
    "from azure.ai.inference.tracing import AIInferenceInstrumentor\n",
    "\n",
    "# Initialize the AIInferenceInstrumentor for tracing\n",
    "AIInferenceInstrumentor().instrument()\n",
    "\n",
    "# Get the chat completions client\n",
    "chat = project.inference.get_chat_completions_client()\n",
    "\n",
    "# Send a request to the model and get the response\n",
    "response = chat.complete(\n",
    "    model=\"Phi-3.5-mini-instruct\",\n",
    "    messages=[\n",
    "        {\"role\": \"system\", \"content\": \"You are a knowledgeable assistant\"},\n",
    "        {\"role\": \"user\", \"content\": \"Can you explain the theory of relativity in simple terms?\"},\n",
    "    ]\n",
    ")\n",
    "\n",
    "# Print the response from the AI model\n",
    "print(f\"🤖 AI Response: {response.choices[0].message.content}\")"
   ]
  },
  {
   "cell_type": "markdown",
   "id": "911cef8d",
   "metadata": {},
   "source": [
    "## 📄 3. Prompt Templates"
   ]
  },
  {
   "cell_type": "code",
   "execution_count": 5,
   "id": "c7117904",
   "metadata": {},
   "outputs": [
    {
     "name": "stdout",
     "output_type": "stream",
     "text": [
      "[{'role': 'system', 'content': 'system: You are a helpful AI assistant.\\nuser: Write a haiku about the beauty of technology.'}]\n"
     ]
    }
   ],
   "source": [
    "# Step 1: Import the PromptTemplate class\n",
    "from azure.ai.inference.prompts import PromptTemplate\n",
    "\n",
    "# Step 2: Create a prompt template\n",
    "prompt_template = PromptTemplate.from_string(\"\"\"\n",
    "    system: You are a helpful AI assistant.\n",
    "    user: Write a haiku about the beauty of technology.\n",
    "\"\"\")\n",
    "\n",
    "# Step 3: Generate system message from the template\n",
    "messages = prompt_template.create_messages()\n",
    "\n",
    "# Step 4: Print the generated messages\n",
    "print(messages)\n",
    "    "
   ]
  },
  {
   "cell_type": "markdown",
   "id": "4f033a68",
   "metadata": {},
   "source": [
    "## 4. 📡 Tracing and Observability\n",
    "\n",
    "Tracing and observability are essential for monitoring the performance, latency, and errors of AI applications. By enabling OpenTelemetry tracing in Azure AI Foundry, you can visualize and analyze the performance of API requests and model inferences. This is useful for identifying slow responses, debugging errors, and optimizing system performance.\n",
    "\n",
    "With Azure Monitor and Application Insights, you can log telemetry, track request flows, and observe traces in near real-time."
   ]
  },
  {
   "cell_type": "code",
   "execution_count": 6,
   "id": "cafd54fd",
   "metadata": {},
   "outputs": [],
   "source": [
    "## set-up opentelemetry\n",
    "# install !pip install azure-monitor-opentelemetry azure-ai-inference[opentelemetry] opentelemetry-exporter-otlp\n",
    "from azure.core.settings import settings\n",
    "\n",
    "# Set tracing implementation to OpenTelemetry\n",
    "settings.tracing_implementation = \"opentelemetry\"\n",
    "\n",
    "from azure.ai.inference.tracing import AIInferenceInstrumentor\n",
    "\n",
    "# Instrument AI Inference API to enable tracing\n",
    "AIInferenceInstrumentor().instrument()\n",
    "\n",
    "from azure.monitor.opentelemetry import configure_azure_monitor\n",
    "\n",
    "# Retrieve the Application Insights connection string from your AI project\n",
    "application_insights_connection_string = project.telemetry.get_connection_string()\n",
    "\n",
    "# Enable Azure Monitor tracing if the connection string exists\n",
    "if application_insights_connection_string:\n",
    "    configure_azure_monitor(connection_string=application_insights_connection_string)\n",
    "else:\n",
    "    print(\"❌ Application Insights is not enabled for this project.\")\n"
   ]
  },
  {
   "cell_type": "code",
   "execution_count": 7,
   "id": "e1a990ec",
   "metadata": {},
   "outputs": [
    {
     "name": "stdout",
     "output_type": "stream",
     "text": [
      "🤖 AI Response 1:  Absolutely, Alex! The theory of relativity is actually made up of two related theories proposed by Albert Einstein in the early 20th century. Here's a simplified explanation:\n",
      "\n",
      "1. Special Relativity (1905):\n",
      "This part of the theory deals with objects moving at a constant speed in a straight line, particularly when they're moving close to the speed of light. Here are the key points:\n",
      "\n",
      "   a. Time can pass differently for people depending on their speed. Imagine two friends, one staying on Earth and the other traveling at a speed close to the speed of light. When they reunite, the traveler might have aged less than the friend on Earth. This is known as time dilation.\n",
      "\n",
      "   b. Space and time are linked together into a single thing called spacetime. Imagine a trampoline with a heavy ball (like Earth) in the middle causing a dip. Now, if you roll smaller balls around the dip, they'll follow curved paths. This is how gravity works in General Relativity.\n",
      "\n",
      "2. General Relativity (1915):\n",
      "This theory extends special relativity to include gravity. Here's how it works in simple terms:\n",
      "\n",
      "   a. Instead of thinking of gravity as a force pulling objects together (as Newton did), Einstein imagined it as a curve in spacetime caused by mass and energy. So, objects move along these curves, just like you'd roll a marble around the dents on a trampoline.\n",
      "\n",
      "   b. The more massive an object, the more it curves spacetime. This causes other objects to move along these curves, which we perceive as gravity.\n",
      "\n",
      "   c. It also predicts that light, which always travels at a constant speed, will bend when it passes near a massive object due to the curvature of spacetime.\n",
      "\n",
      "Remember, these ideas can seem mind-bending because they challenge our everyday experiences. But that's what makes them so exciting, and why they've helped us understand the universe in ways we never thought possible!\n",
      "\n",
      "\n",
      "I hope this simplified explanation helps, Alex! Feel free to ask if you have more questions.\n",
      "🤖 AI Response 2:  Absolutely, Alex! Think of a computer system like a city. Let's break it down into simpler parts:\n",
      "\n",
      "1. **Hardware**: Just like a city has buildings, roads, and infrastructure, a computer has components like the central processing unit (CPU), memory, and storage devices.\n",
      "\n",
      "   - The CPU is like the city hall or mayor's office, where vital decisions are made and instructions are processed.\n",
      "   - Memory (RAM) is like the city's storage facility, where information is temporarily kept for quick access.\n",
      "   - Storage devices (hard drives or SSDs) are like the city's long-term storage area, where things are kept for a longer time, such as records and files.\n",
      "\n",
      "2. **Software**: Software is like the laws, regulations, and guidelines that govern how a city operates.\n",
      "\n",
      "   - The operating system (OS) is like the city council that coordinates the various activities, managing resources, and ensuring everything runs smoothly.\n",
      "   - Applications are like different departments, such as healthcare, education, or transportation, each performing specific tasks for the citizens.\n",
      "\n",
      "3. **Networking**: A computer system can be connected to others, similar to how cities are connected by roads, public transportation, and communication networks.\n",
      "\n",
      "   - The Internet is like a highway system allowing data to flow between cities, or in this case, computers and devices.\n",
      "   - Local area networks (LANs) and wide area networks (WANs) are like neighborhoods and inter-city connections, respectively, allowing different computer systems to communicate and share resources.\n",
      "\n",
      "By comparing a computer system to a city, it becomes easier to understand how all these parts work together to enable a complex and interactive environment. Just as a city needs well-organized infrastructure, software, and efficient communication to function effectively, a computer system relies on its hardware, software, and networking capabilities to perform its tasks seamlessly.\n",
      "🤖 AI Response 3:  The relation between gravity, time, and space is a fundamental aspect of modern physics, particularly as described by Albert Einstein's General Theory of Relativity. Here's a breakdown to help you understand the connection:\n",
      "\n",
      "1. Space-Time: General Relativity introduced the concept of space-time, which is a four-dimensional structure combining the three dimensions of space (length, width, and height) with the dimension of time. According to Einstein, objects in space-time are not static; they are in constant motion, and this motion is influenced by gravity.\n",
      "\n",
      "2. Gravity: In Einstein's theory, gravity is not a force acting in a straight line between two masses - as Isaac Newton suggested - but rather a curvature of space-time caused by mass and energy. The more massive an object is (like a planet or a star), the more it warps the space-time around it. This curvature is what we experience as gravity. When two objects are near each other, they follow the curved paths within space-time, leading to attractions.\n",
      "\n",
      "3. Time Dilation: The effect of gravity on space-time also leads to a phenomenon called time dilation. This means that time passes at different rates depending on the gravitational pull. The stronger the gravitational pull (closer to a massive object), the slower time passes. This is not just a theoretical idea; it has been tested and confirmed by experiments, such as observing the difference in time experienced by clocks on Earth's surface compared to clocks in space.\n",
      "\n",
      "4. Gravitational waves: Another consequence of Einstein's theory is the existence of gravitational waves. These are ripples in space-time caused by massive objects moving rapidly. When these objects accelerate, such as when black holes or neutron stars collide, they create gravitational waves that travel through space and time, sometimes reaching our detectors on Earth, like LIGO and Virgo.\n",
      "\n",
      "In summary, gravity and time are intricately linked through Einstein's theory of General Relativity. Gravity influences the curvature of space-time, which in turn affects how objects move and how time passes. The relationship between these elements has significant implications for our understanding of the universe and has led to the discovery of new phenomena, such as gravitational waves.\n"
     ]
    }
   ],
   "source": [
    "# Step 1: Import necessary libraries\n",
    "from azure.monitor.opentelemetry import configure_azure_monitor\n",
    "from opentelemetry import trace\n",
    "from azure.core.settings import settings \n",
    "from azure.ai.inference.tracing import AIInferenceInstrumentor \n",
    "from azure.ai.inference.prompts import PromptTemplate\n",
    "\n",
    "# Step 2: Set tracing implementation to OpenTelemetry\n",
    "settings.tracing_implementation = \"opentelemetry\"\n",
    "\n",
    "# Step 3: Instrument AI Inference API\n",
    "AIInferenceInstrumentor().instrument()\n",
    "\n",
    "# Step 4: Get a chat inferencing client using the project's default model inferencing endpoint\n",
    "chat_client = project.inference.get_chat_completions_client()\n",
    "\n",
    "# Step 5: Enable instrumentation of AI packages (inference, agents, openai, langchain)\n",
    "project.telemetry.enable()\n",
    "\n",
    "# Step 6: Log traces to the project's application insights resource\n",
    "application_insights_connection_string = project.telemetry.get_connection_string()\n",
    "if application_insights_connection_string:\n",
    "    configure_azure_monitor(connection_string=application_insights_connection_string)\n",
    "\n",
    "# Step 7: Create a tracer\n",
    "tracer = trace.get_tracer(__name__)\n",
    "\n",
    "# Step 8: Create the prompt template\n",
    "prompt_template = PromptTemplate.from_string(\"\"\"\n",
    "    system: You are a helpful assistant for {{user_name}}.\n",
    "    user: {{user_message}}\n",
    "\"\"\")\n",
    "\n",
    "# Step 9: Define user name for the template\n",
    "user_name = \"Alex\"\n",
    "\n",
    "# Step 10: Start a multi-turn conversation with tracing\n",
    "with tracer.start_as_current_span(\"multi_turn_chat_example\"):\n",
    "    # Turn 1\n",
    "    messages = prompt_template.create_messages(user_name=user_name, user_message=\"Can you explain the theory of relativity in simple terms?\")\n",
    "    response_1 = chat_client.complete(model=\"Phi-3.5-mini-instruct\", messages=messages)\n",
    "    print(f\"🤖 AI Response 1: {response_1.choices[0].message.content}\")\n",
    "    \n",
    "    # Turn 2\n",
    "    messages = prompt_template.create_messages(user_name=user_name, user_message=\"Can you provide a simple analogy to understand it better?\")\n",
    "    response_2 = chat_client.complete(model=\"Phi-3.5-mini-instruct\", messages=messages)\n",
    "    print(f\"🤖 AI Response 2: {response_2.choices[0].message.content}\")\n",
    "    \n",
    "    # Turn 3\n",
    "    messages = prompt_template.create_messages(user_name=user_name, user_message=\"How is it related to gravity and time?\")\n",
    "    response_3 = chat_client.complete(model=\"Phi-3.5-mini-instruct\", messages=messages)\n",
    "    print(f\"🤖 AI Response 3: {response_3.choices[0].message.content}\")\n"
   ]
  },
  {
   "cell_type": "markdown",
   "id": "818a7476",
   "metadata": {},
   "source": [
    "## 🛡️ 5. Evaluations"
   ]
  },
  {
   "cell_type": "markdown",
   "id": "48621ae1",
   "metadata": {},
   "source": [
    "#### 2️⃣ Local Evaluation\n"
   ]
  },
  {
   "cell_type": "code",
   "execution_count": 16,
   "id": "1de4e334",
   "metadata": {},
   "outputs": [],
   "source": [
    "#!pip install azure-ai-evaluation"
   ]
  },
  {
   "cell_type": "code",
   "execution_count": 8,
   "id": "b0fb3581",
   "metadata": {},
   "outputs": [],
   "source": [
    "from azure.ai.projects import AIProjectClient\n",
    "from azure.identity import DefaultAzureCredential\n",
    "\n",
    "# Create AIProjectClient from environment variables\n",
    "project = AIProjectClient.from_connection_string(\n",
    "    conn_str=os.getenv(\"AZURE_AI_FOUNDRY_CONNECTION_STRING\"),\n",
    "    credential=DefaultAzureCredential()\n",
    ")"
   ]
  },
  {
   "cell_type": "code",
   "execution_count": 9,
   "id": "3d0b4cd1",
   "metadata": {},
   "outputs": [],
   "source": [
    "from azure.ai.evaluation import GroundednessEvaluator, ViolenceEvaluator, RelevanceEvaluator\n",
    "\n",
    "# Configure model for the evaluators\n",
    "model_config = {\n",
    "    \"azure_endpoint\": os.getenv(\"AZURE_AOAI_ENDPOINT\"),\n",
    "    \"api_key\": os.getenv(\"AZURE_AOAI_API_KEY\"),\n",
    "    \"azure_deployment\": os.getenv(\"AZURE_AOAI_COMPLETION_MODEL_DEPLOYMENT_ID\"),\n",
    "    \"api_version\": os.getenv(\"AZURE_AOAI_DEPLOYMENT_VERSION\"),\n",
    "}\n",
    "\n",
    "# Initialize Evaluators\n",
    "groundedness_eval = GroundednessEvaluator(model_config)\n",
    "violence_eval = ViolenceEvaluator(credential=DefaultAzureCredential(), azure_ai_project=project.scope)\n",
    "relevance_eval = RelevanceEvaluator(model_config)\n"
   ]
  },
  {
   "cell_type": "code",
   "execution_count": 6,
   "id": "df73bef1",
   "metadata": {},
   "outputs": [
    {
     "name": "stdout",
     "output_type": "stream",
     "text": [
      "\u001b[1;31mInit signature:\u001b[0m \u001b[0mContentSafetyEvaluator\u001b[0m\u001b[1;33m(\u001b[0m\u001b[0mcredential\u001b[0m\u001b[1;33m,\u001b[0m \u001b[0mazure_ai_project\u001b[0m\u001b[1;33m,\u001b[0m \u001b[1;33m**\u001b[0m\u001b[0mkwargs\u001b[0m\u001b[1;33m)\u001b[0m\u001b[1;33m\u001b[0m\u001b[1;33m\u001b[0m\u001b[0m\n",
      "\u001b[1;31mDocstring:\u001b[0m     \n",
      ".. note::    This is an experimental class, and may change at any time. Please see https://aka.ms/azuremlexperimental for more information.\n",
      "\n",
      "\n",
      "Initialize a content safety evaluator configured to evaluate content safetry metrics for QA scenario.\n",
      "\n",
      ":param credential: The credential for connecting to Azure AI project. Required\n",
      ":type credential: ~azure.core.credentials.TokenCredential\n",
      ":param azure_ai_project: The scope of the Azure AI project.\n",
      "    It contains subscription id, resource group, and project name.\n",
      ":type azure_ai_project: ~azure.ai.evaluation.AzureAIProject\n",
      ":param kwargs: Additional arguments to pass to the evaluator.\n",
      ":type kwargs: Any\n",
      ":return: A function that evaluates content-safety metrics for \"question-answering\" scenario.\n",
      "\n",
      ".. admonition:: Example:\n",
      "\n",
      "    .. literalinclude:: ../samples/evaluation_samples_evaluate.py\n",
      "        :start-after: [START content_safety_evaluator]\n",
      "        :end-before: [END content_safety_evaluator]\n",
      "        :language: python\n",
      "        :dedent: 8\n",
      "        :caption: Initialize and call a ContentSafetyEvaluator.\n",
      "\u001b[1;31mFile:\u001b[0m           c:\\users\\pablosal\\appdata\\local\\anaconda3\\envs\\capacity-aoai\\lib\\site-packages\\azure\\ai\\evaluation\\_evaluators\\_content_safety\\_content_safety.py\n",
      "\u001b[1;31mType:\u001b[0m           ABCMeta\n",
      "\u001b[1;31mSubclasses:\u001b[0m     "
     ]
    }
   ],
   "source": [
    "from azure.ai.evaluation import ContentSafetyEvaluator\n",
    "\n",
    "ContentSafetyEvaluator?"
   ]
  },
  {
   "cell_type": "code",
   "execution_count": 10,
   "id": "4c0ec296",
   "metadata": {},
   "outputs": [],
   "source": [
    "import json\n",
    "\n",
    "directory = \"my_utils/evals/data\"\n",
    "file_name = \"evaluation_data.jsonl\"\n",
    "\n",
    "os.makedirs(directory, exist_ok=True)\n",
    "\n",
    "content = [\n",
    "    {\"query\": \"What is the capital of France?\", \"context\": \"France is in Europe\", \"response\": \"Paris is the capital of France.\", \"ground_truth\": \"Paris\"},\n",
    "    {\"query\": \"Who discovered gravity?\", \"context\": \"Isaac Newton discovered gravity when an apple fell on his head.\", \"response\": \"Isaac Newton.\", \"ground_truth\": \"Isaac Newton\"}\n",
    "]\n",
    "\n",
    "# Save the content to the file\n",
    "with open(os.path.join(directory, file_name), 'w') as file:\n",
    "    for item in content:\n",
    "        file.write(f\"{json.dumps(item)}\\n\")"
   ]
  },
  {
   "cell_type": "code",
   "execution_count": 13,
   "id": "937ee16c",
   "metadata": {},
   "outputs": [
    {
     "name": "stderr",
     "output_type": "stream",
     "text": [
      "[2024-12-09 13:21:08 -0600][promptflow._core.entry_meta_generator][WARNING] - Generate meta in current process and timeout won't take effect. Please handle timeout manually outside current process.\n",
      "[2024-12-09 13:21:08 -0600][promptflow._core.entry_meta_generator][WARNING] - Generate meta in current process and timeout won't take effect. Please handle timeout manually outside current process.\n",
      "[2024-12-09 13:21:08 -0600][promptflow._sdk._orchestrator.run_submitter][INFO] - Submitting run azure_ai_evaluation_evaluators_common_base_eval_asyncevaluatorbase_zo0n23x8_20241209_132107_859762, log path: C:\\Users\\pablosal\\.promptflow\\.runs\\azure_ai_evaluation_evaluators_common_base_eval_asyncevaluatorbase_zo0n23x8_20241209_132107_859762\\logs.txt\n",
      "[2024-12-09 13:21:08 -0600][promptflow._sdk._orchestrator.run_submitter][INFO] - Submitting run azure_ai_evaluation_evaluators_common_base_eval_asyncevaluatorbase_wvit_90g_20241209_132107_859762, log path: C:\\Users\\pablosal\\.promptflow\\.runs\\azure_ai_evaluation_evaluators_common_base_eval_asyncevaluatorbase_wvit_90g_20241209_132107_859762\\logs.txt\n"
     ]
    },
    {
     "name": "stdout",
     "output_type": "stream",
     "text": [
      "Prompt flow service has started...\n",
      "Prompt flow service has started...\n",
      "You can view the traces in local from http://127.0.0.1:23333/v1.0/ui/traces/?#run=azure_ai_evaluation_evaluators_common_base_eval_asyncevaluatorbase_wvit_90g_20241209_132107_859762\n",
      "You can view the traces in local from http://127.0.0.1:23333/v1.0/ui/traces/?#run=azure_ai_evaluation_evaluators_common_base_eval_asyncevaluatorbase_zo0n23x8_20241209_132107_859762\n"
     ]
    }
   ],
   "source": [
    "import json\n",
    "from azure.ai.evaluation import evaluate\n",
    "\n",
    "# Run the evaluation locally\n",
    "try:\n",
    "    results = evaluate(\n",
    "        data=\"./my_utils/evals/data/evaluation_data.jsonl\",\n",
    "        evaluators={\n",
    "            \"groundedness\": groundedness_eval,\n",
    "            \"relevance\": relevance_eval\n",
    "        },\n",
    "        evaluator_config={\n",
    "            \"default\": {\n",
    "                \"column_mapping\": {\n",
    "                    \"query\": \"${data.query}\",\n",
    "                    \"context\": \"${data.context}\",\n",
    "                    \"response\": \"${data.response}\"\n",
    "                }\n",
    "            }\n",
    "        },\n",
    "        output_path=\"my_utils/evals/results/local_evaluation_results.json\"\n",
    "    )\n",
    "\n",
    "except Exception as e:\n",
    "    print(f\"An error occurred during evaluation: {e}\")"
   ]
  },
  {
   "cell_type": "code",
   "execution_count": 14,
   "id": "59a6b94e",
   "metadata": {},
   "outputs": [
    {
     "data": {
      "text/plain": [
       "{'rows': [{'inputs.query': 'What is the capital of France?',\n",
       "   'inputs.context': 'France is in Europe',\n",
       "   'inputs.response': 'Paris is the capital of France.',\n",
       "   'inputs.ground_truth': 'Paris',\n",
       "   'outputs.groundedness.groundedness': 3,\n",
       "   'outputs.groundedness.gpt_groundedness': 3,\n",
       "   'outputs.groundedness.groundedness_reason': 'The RESPONSE is accurate but introduces additional information not supported by the CONTEXT.',\n",
       "   'outputs.relevance.relevance': 4,\n",
       "   'outputs.relevance.gpt_relevance': 4,\n",
       "   'outputs.relevance.relevance_reason': 'The response is accurate and complete, directly answering the question without any extraneous information.'},\n",
       "  {'inputs.query': 'Who discovered gravity?',\n",
       "   'inputs.context': 'Isaac Newton discovered gravity when an apple fell on his head.',\n",
       "   'inputs.response': 'Isaac Newton.',\n",
       "   'inputs.ground_truth': 'Isaac Newton',\n",
       "   'outputs.groundedness.groundedness': 4,\n",
       "   'outputs.groundedness.gpt_groundedness': 4,\n",
       "   'outputs.groundedness.groundedness_reason': 'The RESPONSE mentions Isaac Newton, which is relevant, but it omits the critical details about the discovery of gravity and the apple falling on his head.',\n",
       "   'outputs.relevance.relevance': 4,\n",
       "   'outputs.relevance.gpt_relevance': 4,\n",
       "   'outputs.relevance.relevance_reason': 'The response accurately and completely answers the question by providing the name of the person who discovered gravity.'}],\n",
       " 'metrics': {'groundedness.groundedness': 3.5,\n",
       "  'groundedness.gpt_groundedness': 3.5,\n",
       "  'relevance.relevance': 4.0,\n",
       "  'relevance.gpt_relevance': 4.0},\n",
       " 'studio_url': None}"
      ]
     },
     "execution_count": 14,
     "metadata": {},
     "output_type": "execute_result"
    }
   ],
   "source": [
    "results"
   ]
  },
  {
   "cell_type": "markdown",
   "id": "25c4ff01",
   "metadata": {},
   "source": [
    "#### Send to the Cloud (AI Foundry Evaluations)"
   ]
  },
  {
   "cell_type": "code",
   "execution_count": 22,
   "id": "0c89f548",
   "metadata": {},
   "outputs": [],
   "source": [
    "azure_ai_project = {\n",
    "                    \"subscription_id\": AZURE_AI_STUDIO_SUBSCRIPTION_ID,\n",
    "                    \"resource_group_name\": AZURE_AI_STUDIO_RESOURCE_GROUP_NAME,\n",
    "                    \"project_name\": AZURE_AI_STUDIO_PROJECT_NAME\n",
    "                }"
   ]
  },
  {
   "cell_type": "code",
   "execution_count": 23,
   "id": "63976b10",
   "metadata": {},
   "outputs": [
    {
     "name": "stderr",
     "output_type": "stream",
     "text": [
      "[2024-12-09 13:31:00 -0600][promptflow._core.entry_meta_generator][WARNING] - Generate meta in current process and timeout won't take effect. Please handle timeout manually outside current process.\n",
      "[2024-12-09 13:31:00 -0600][promptflow._core.entry_meta_generator][WARNING] - Generate meta in current process and timeout won't take effect. Please handle timeout manually outside current process.\n",
      "[2024-12-09 13:31:00 -0600][promptflow._sdk._orchestrator.run_submitter][INFO] - Submitting run azure_ai_evaluation_evaluators_common_base_eval_asyncevaluatorbase_z_gww5q0_20241209_133100_023603, log path: C:\\Users\\pablosal\\.promptflow\\.runs\\azure_ai_evaluation_evaluators_common_base_eval_asyncevaluatorbase_z_gww5q0_20241209_133100_023603\\logs.txt\n",
      "[2024-12-09 13:31:00 -0600][promptflow._sdk._orchestrator.run_submitter][INFO] - Submitting run azure_ai_evaluation_evaluators_common_base_eval_asyncevaluatorbase_9jyrobxo_20241209_133100_028825, log path: C:\\Users\\pablosal\\.promptflow\\.runs\\azure_ai_evaluation_evaluators_common_base_eval_asyncevaluatorbase_9jyrobxo_20241209_133100_028825\\logs.txt\n"
     ]
    },
    {
     "name": "stdout",
     "output_type": "stream",
     "text": [
      "Prompt flow service has started...\n",
      "You can view the traces in local from http://127.0.0.1:23333/v1.0/ui/traces/?#run=azure_ai_evaluation_evaluators_common_base_eval_asyncevaluatorbase_z_gww5q0_20241209_133100_023603\n",
      "Prompt flow service has started...\n",
      "You can view the traces in local from http://127.0.0.1:23333/v1.0/ui/traces/?#run=azure_ai_evaluation_evaluators_common_base_eval_asyncevaluatorbase_9jyrobxo_20241209_133100_028825\n",
      "2024-12-09 13:31:05 -0600   26948 execution.bulk     INFO     Finished 2 / 2 lines.\n",
      "2024-12-09 13:31:05 -0600   26948 execution.bulk     INFO     Average execution time for completed lines: 2.73 seconds. Estimated time for incomplete lines: 0.0 seconds.\n"
     ]
    }
   ],
   "source": [
    "import json\n",
    "from azure.ai.evaluation import evaluate\n",
    "\n",
    "try:\n",
    "    results = evaluate(\n",
    "        data=\"./my_utils/evals/data/evaluation_data.jsonl\",\n",
    "        evaluators={\n",
    "            \"groundedness\": groundedness_eval,\n",
    "            \"relevance\": relevance_eval\n",
    "        },\n",
    "        evaluator_config={\n",
    "            \"default\": {\n",
    "                \"column_mapping\": {\n",
    "                    \"query\": \"${data.query}\",\n",
    "                    \"context\": \"${data.context}\",\n",
    "                    \"response\": \"${data.response}\"\n",
    "                }\n",
    "            }\n",
    "        },\n",
    "        output_path=\"my_utils/evals/results/local_evaluation_results.json\",\n",
    "        azure_ai_project=azure_ai_project\n",
    "    )\n",
    "except Exception as e:\n",
    "    print(f\"An error occurred during evaluation: {e}\")"
   ]
  },
  {
   "cell_type": "code",
   "execution_count": 26,
   "id": "ce5b263f",
   "metadata": {},
   "outputs": [
    {
     "data": {
      "text/plain": [
       "'https://ai.azure.com/build/evaluation/32881dd3-afda-4ad8-a6da-540ad9425534?wsid=/subscriptions/20c54e6d-27f8-4aeb-8127-3dfa557b9721/resourceGroups/dev-rg-ai-factory/providers/Microsoft.MachineLearningServices/workspaces/dev-factory'"
      ]
     },
     "execution_count": 26,
     "metadata": {},
     "output_type": "execute_result"
    }
   ],
   "source": [
    "results['studio_url']"
   ]
  },
  {
   "cell_type": "markdown",
   "id": "50074c92",
   "metadata": {},
   "source": [
    "#### 3️⃣ Remote (Cloud) Evaluation\n"
   ]
  },
  {
   "cell_type": "code",
   "execution_count": null,
   "id": "e72b14d7",
   "metadata": {},
   "outputs": [],
   "source": [
    "!pip install azure-identity azure-ai-projects azure-ai-ml"
   ]
  },
  {
   "cell_type": "code",
   "execution_count": 61,
   "id": "a7c15688",
   "metadata": {},
   "outputs": [],
   "source": [
    "import os, time\n",
    "from azure.ai.projects import AIProjectClient\n",
    "from azure.identity import DefaultAzureCredential\n",
    "from azure.ai.projects.models import Evaluation, Dataset, EvaluatorConfiguration, ConnectionType\n",
    "from azure.ai.evaluation import F1ScoreEvaluator, RelevanceEvaluator, ViolenceEvaluator"
   ]
  },
  {
   "cell_type": "code",
   "execution_count": 91,
   "id": "4d58bb28",
   "metadata": {},
   "outputs": [],
   "source": [
    "# Upload local file to Azure AI project\n",
    "data_id, _ = project.upload_file(\"./my_utils/evals/data/evaluation_data.jsonl\")\n",
    "print(f\"Uploaded local file with ID: {data_id}\")"
   ]
  },
  {
   "cell_type": "code",
   "execution_count": 92,
   "id": "8d6d232b",
   "metadata": {},
   "outputs": [],
   "source": [
    "from azure.ai.evaluation import F1ScoreEvaluator, RelevanceEvaluator, ViolenceEvaluator\n",
    "print(\"F1 Score evaluator id:\", F1ScoreEvaluator.id)"
   ]
  },
  {
   "cell_type": "code",
   "execution_count": 68,
   "id": "179d7bed",
   "metadata": {},
   "outputs": [],
   "source": [
    "default_connection = project.connections.get_default(connection_type=ConnectionType.AZURE_OPEN_AI)\n",
    "model_config = {\n",
    "    \"azure_endpoint\": os.getenv(\"AZURE_AOAI_ENDPOINT\"),\n",
    "    \"api_key\": os.getenv(\"AZURE_AOAI_API_KEY\"),\n",
    "    \"azure_deployment\": os.getenv(\"AZURE_AOAI_COMPLETION_MODEL_DEPLOYMENT_ID\"),\n",
    "    \"api_version\": os.getenv(\"AZURE_AOAI_DEPLOYMENT_VERSION\"),\n",
    "}\n",
    "model_config = default_connection.to_evaluator_model_config(deployment_name=model_config['azure_deployment'], api_version=model_config[\"api_version\"])\n"
   ]
  },
  {
   "cell_type": "code",
   "execution_count": 70,
   "id": "cadb0bb1",
   "metadata": {},
   "outputs": [
    {
     "data": {
      "text/plain": [
       "{'azure_deployment': 'gpt-4o',\n",
       " 'azure_endpoint': 'https://azureaistudiof7244419895.openai.azure.com',\n",
       " 'type': 'azure_openai',\n",
       " 'api_version': '2024-08-01-preview',\n",
       " 'api_key': '/subscriptions/20c54e6d-27f8-4aeb-8127-3dfa557b9721/resourceGroups/dev-rg-ai-factory/providers/Microsoft.MachineLearningServices/workspaces/dev-factory/connections/azureaistudiof7244419895_aoai/credentials/key'}"
      ]
     },
     "execution_count": 70,
     "metadata": {},
     "output_type": "execute_result"
    }
   ],
   "source": [
    "model_config"
   ]
  },
  {
   "cell_type": "code",
   "execution_count": 94,
   "id": "5c8b6e70",
   "metadata": {},
   "outputs": [],
   "source": [
    "import os\n",
    "from azure.identity import DefaultAzureCredential\n",
    "from azure.ai.projects import AIProjectClient\n",
    "from azure.ai.projects.models import Evaluation, Dataset, EvaluatorConfiguration\n",
    "from azure.ai.evaluation import F1ScoreEvaluator\n",
    "\n",
    "# Setup connection\n",
    "connection_string = os.getenv(\"AZURE_AI_FOUNDRY_CONNECTION_STRING\")\n",
    "if not connection_string:\n",
    "    raise ValueError(\"AZURE_AI_FOUNDRY_CONNECTION_STRING is missing or not set.\")\n",
    "\n",
    "project_client = AIProjectClient.from_connection_string(\n",
    "    credential=DefaultAzureCredential(),\n",
    "    conn_str=connection_string\n",
    ")\n",
    "\n",
    "# Create the evaluation\n",
    "evaluation = Evaluation(\n",
    "    display_name=\"Cloud evaluation\",\n",
    "    description=\"Evaluation of dataset\",\n",
    "    data=Dataset(id=data_id),\n",
    "    evaluators={\n",
    "        \"f1_score\": EvaluatorConfiguration(\n",
    "            id=\"azureml://registries/azureml/models/F1Score-Evaluator/versions/3\"\n",
    "        )\n",
    "    }\n",
    ")"
   ]
  },
  {
   "cell_type": "code",
   "execution_count": 96,
   "id": "07b007b8",
   "metadata": {},
   "outputs": [],
   "source": [
    "try:\n",
    "    response = project_client.evaluations.create(\n",
    "        evaluation=evaluation,\n",
    "        headers={\n",
    "            'Content-Type': 'application/json',\n",
    "            'Accept': 'application/json'\n",
    "        }\n",
    "    )\n",
    "    print(\"Evaluation submitted successfully!\")\n",
    "    print(f\"Evaluation ID: {response.id}\")\n",
    "    print(f\"Check status at: {response.properties.get('AiStudioEvaluationUri')}\")\n",
    "    \n",
    "except Exception as e:\n",
    "    if hasattr(e, 'response') and hasattr(e.response, 'content'):\n",
    "        print(\"Binary content detected, saving to binary_response_output.bin\")\n",
    "        with open('binary_response_output.bin', 'wb') as f:\n",
    "            f.write(e.response.content)\n",
    "    else:\n",
    "        print(\"An unexpected error occurred:\", e)"
   ]
  },
  {
   "cell_type": "markdown",
   "id": "3e4245db",
   "metadata": {},
   "source": [
    "\n",
    "For further information, explore the [official Azure AI Foundry documentation](https://learn.microsoft.com/en-us/azure/ai-studio/what-is-ai-studio).\n",
    "\n",
    "Happy Coding! 🚀\n",
    "    "
   ]
  }
 ],
 "metadata": {
  "kernelspec": {
   "display_name": "capacity-aoai",
   "language": "python",
   "name": "python3"
  },
  "language_info": {
   "codemirror_mode": {
    "name": "ipython",
    "version": 3
   },
   "file_extension": ".py",
   "mimetype": "text/x-python",
   "name": "python",
   "nbconvert_exporter": "python",
   "pygments_lexer": "ipython3",
   "version": "3.9.19"
  }
 },
 "nbformat": 4,
 "nbformat_minor": 5
}
