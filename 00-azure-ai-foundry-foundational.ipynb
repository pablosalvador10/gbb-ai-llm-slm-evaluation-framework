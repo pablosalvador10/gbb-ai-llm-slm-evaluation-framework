{
 "cells": [
  {
   "cell_type": "markdown",
   "id": "cac9fa0e",
   "metadata": {},
   "source": [
    "\n",
    "# 🚀 Azure AI Foundry: Foundational 101 Set-Up\n",
    "\n",
    "This notebook serves as a comprehensive guide to getting started with **Azure AI Foundry**. It will walk you through the essential setup, project creation, and usage of core features like model inference, prompt templates, and Azure AI Search.\n",
    "\n",
    "> **Note:** This notebook assumes you have access to the Azure AI Foundry SDK, the required Azure resources, and a valid project connection string.\n",
    "\n",
    "## 🧰 **Prerequisites**\n",
    "To ensure you can follow along, please make sure you have the following in place:\n",
    "- **Azure Subscription** with permissions to create resources.\n",
    "- **Azure CLI** installed to authenticate and access resources.\n",
    "- **Python 3.8+** installed on your system.\n",
    "- **AI Foundry Project** created via the Azure portal. [official Azure AI Foundry documentation](https://learn.microsoft.com/en-us/azure/ai-studio/what-is-ai-studio).\n",
    "\n",
    "## 📚 **Table of Contents**\n",
    "1. [Project Setup](#1-project-setup)\n",
    "2. [Model Inference](#2-model-inference)\n",
    "3. [Prompt Templates](#3-prompt-templates)\n",
    "4. [Observability & Monitoring](#4-observability-monitoring)\n",
    "5. [Evaluations](#5-evaluations)"
   ]
  },
  {
   "cell_type": "markdown",
   "id": "e0d5e65a",
   "metadata": {},
   "source": [
    "## 📁 1. Project Setup"
   ]
  },
  {
   "cell_type": "code",
   "execution_count": 1,
   "id": "c56be27f",
   "metadata": {},
   "outputs": [
    {
     "name": "stdout",
     "output_type": "stream",
     "text": [
      "Directory changed to C:\\Users\\pablosal\\Desktop\\gbb-ai-llm-slm-evaluation-framework\n"
     ]
    }
   ],
   "source": [
    "import os\n",
    "from datetime import datetime\n",
    "from pprint import pprint\n",
    "from dotenv import load_dotenv\n",
    "\n",
    "# Define the target directory (change yours)\n",
    "TARGET_DIRECTORY = r\"C:\\Users\\pablosal\\Desktop\\gbb-ai-llm-slm-evaluation-framework\"\n",
    "\n",
    "# Check if the directory exists\n",
    "if os.path.exists(TARGET_DIRECTORY):\n",
    "    # Change the current working directory\n",
    "    os.chdir(TARGET_DIRECTORY)\n",
    "    print(f\"Directory changed to {os.getcwd()}\")\n",
    "else:\n",
    "    print(f\"Directory {TARGET_DIRECTORY} does not exist.\")"
   ]
  },
  {
   "cell_type": "code",
   "execution_count": 2,
   "id": "963efef0",
   "metadata": {},
   "outputs": [
    {
     "name": "stdout",
     "output_type": "stream",
     "text": [
      "Project client created successfully.\n"
     ]
    }
   ],
   "source": [
    "# Step 1: Import necessary libraries\n",
    "import os\n",
    "from azure.identity import DefaultAzureCredential\n",
    "from azure.ai.projects import AIProjectClient\n",
    "\n",
    "# Step 2: Set your connection string (replace with your actual connection string)\n",
    "project_connection_string = os.getenv(\"AZURE_AI_FOUNDRY_CONNECTION_STRING\")\n",
    "\n",
    "# Step 3: Create the project client\n",
    "project = AIProjectClient.from_connection_string(\n",
    "    conn_str=project_connection_string,\n",
    "    credential=DefaultAzureCredential()\n",
    ")\n",
    "\n",
    "# Verify connection\n",
    "print(\"Project client created successfully.\")\n",
    "    "
   ]
  },
  {
   "cell_type": "markdown",
   "id": "40e665e2",
   "metadata": {},
   "source": [
    "## 🤖 2. Model Inference"
   ]
  },
  {
   "cell_type": "code",
   "execution_count": 14,
   "id": "b5ea2b0b",
   "metadata": {},
   "outputs": [
    {
     "name": "stdout",
     "output_type": "stream",
     "text": [
      " The theory of relativity, proposed by Albert Einstein, includes two interconnected theories: special relativity and general relativity.\n",
      "\n",
      "\n",
      "Special relativity, introduced in 1905, deals with objects moving at constant speeds, particularly those approaching the speed of light. It introduces two main ideas:\n",
      "\n",
      "1. The laws of physics are the same in all inertial frames of reference (meaning non-accelerating frames of reference).\n",
      "\n",
      "2. The speed of light in a vacuum is constant for all observers, regardless of their relative motion or the motion of the light source.\n",
      "\n",
      "\n",
      "One of the most famous outcomes of special relativity is the equation E=mc², which shows that energy (E) and mass (m) are interchangeable; they are different forms of the same thing, with c representing the speed of light in a vacuum. This implies that as an object's speed increases, its mass effectively increases, and it requires ever-increasing amounts of energy to accelerate it further.\n",
      "\n",
      "\n",
      "General relativity, presented in 1915, extends these concepts to include gravity. Instead of viewing gravity as a force between masses (as Newton did), Einstein proposed that massive objects cause a distortion in space-time, which we perceive as gravity. This distortion changes the path of objects moving through space-time, which is why planets orbit stars and why we feel a pull toward the Earth.\n",
      "\n",
      "\n",
      "In simple terms, relativity tells us that time and space are not fixed but can be influenced by speed and mass, leading to new ways of understanding the universe where gravity is the warping of space-time by mass.\n"
     ]
    }
   ],
   "source": [
    "from azure.ai.inference.tracing import AIInferenceInstrumentor\n",
    "\n",
    "# Initialize the AIInferenceInstrumentor for tracing\n",
    "AIInferenceInstrumentor().instrument()\n",
    "\n",
    "# Get the chat completions client\n",
    "chat = project.inference.get_chat_completions_client()\n",
    "\n",
    "# Send a request to the model and get the response\n",
    "response = chat.complete(\n",
    "    model=\"Phi-3.5-mini-instruct\",\n",
    "    messages=[\n",
    "        {\"role\": \"system\", \"content\": \"You are a knowledgeable assistant\"},\n",
    "        {\"role\": \"user\", \"content\": \"Can you explain the theory of relativity in simple terms?\"},\n",
    "    ]\n",
    ")\n",
    "\n",
    "# Print the response from the AI model\n",
    "print(f\"🤖 AI Response: {response.choices[0].message.content}\")"
   ]
  },
  {
   "cell_type": "markdown",
   "id": "911cef8d",
   "metadata": {},
   "source": [
    "## 📄 3. Prompt Templates"
   ]
  },
  {
   "cell_type": "code",
   "execution_count": 15,
   "id": "c7117904",
   "metadata": {},
   "outputs": [
    {
     "name": "stdout",
     "output_type": "stream",
     "text": [
      "[{'role': 'system', 'content': 'system: You are a helpful AI assistant.\\nuser: Write a haiku about the beauty of technology.'}]\n"
     ]
    }
   ],
   "source": [
    "# Step 1: Import the PromptTemplate class\n",
    "from azure.ai.inference.prompts import PromptTemplate\n",
    "\n",
    "# Step 2: Create a prompt template\n",
    "prompt_template = PromptTemplate.from_string(\"\"\"\n",
    "    system: You are a helpful AI assistant.\n",
    "    user: Write a haiku about the beauty of technology.\n",
    "\"\"\")\n",
    "\n",
    "# Step 3: Generate system message from the template\n",
    "messages = prompt_template.create_messages()\n",
    "\n",
    "# Step 4: Print the generated messages\n",
    "print(messages)\n",
    "    "
   ]
  },
  {
   "cell_type": "markdown",
   "id": "4f033a68",
   "metadata": {},
   "source": [
    "## 4. 📡 Tracing and Observability\n",
    "\n",
    "Tracing and observability are essential for monitoring the performance, latency, and errors of AI applications. By enabling OpenTelemetry tracing in Azure AI Foundry, you can visualize and analyze the performance of API requests and model inferences. This is useful for identifying slow responses, debugging errors, and optimizing system performance.\n",
    "\n",
    "With Azure Monitor and Application Insights, you can log telemetry, track request flows, and observe traces in near real-time."
   ]
  },
  {
   "cell_type": "code",
   "execution_count": 10,
   "id": "cafd54fd",
   "metadata": {},
   "outputs": [],
   "source": [
    "## set-up opentelemetry\n",
    "# install !pip install azure-monitor-opentelemetry azure-ai-inference[opentelemetry] opentelemetry-exporter-otlp\n",
    "from azure.core.settings import settings\n",
    "\n",
    "# Set tracing implementation to OpenTelemetry\n",
    "settings.tracing_implementation = \"opentelemetry\"\n",
    "\n",
    "from azure.ai.inference.tracing import AIInferenceInstrumentor\n",
    "\n",
    "# Instrument AI Inference API to enable tracing\n",
    "AIInferenceInstrumentor().instrument()\n",
    "\n",
    "from azure.monitor.opentelemetry import configure_azure_monitor\n",
    "\n",
    "# Retrieve the Application Insights connection string from your AI project\n",
    "application_insights_connection_string = project.telemetry.get_connection_string()\n",
    "\n",
    "# Enable Azure Monitor tracing if the connection string exists\n",
    "if application_insights_connection_string:\n",
    "    configure_azure_monitor(connection_string=application_insights_connection_string)\n",
    "else:\n",
    "    print(\"❌ Application Insights is not enabled for this project.\")\n"
   ]
  },
  {
   "cell_type": "code",
   "execution_count": 17,
   "id": "e1a990ec",
   "metadata": {},
   "outputs": [
    {
     "name": "stdout",
     "output_type": "stream",
     "text": [
      "🤖 AI Response 1:  Of course, I'd be happy to explain the theory of relativity in simple terms!\n",
      "\n",
      "The theory of relativity is actually made up of two parts: the Special Theory of Relativity and the General Theory of Relativity, both developed by Albert Einstein.\n",
      "\n",
      "1. Special Theory of Relativity (1905): This part focuses on the physics of objects moving at constant speed in a straight line (called inertial frames). Here are the two main ideas:\n",
      "\n",
      "- **Speed of Light is Constant**: No matter how fast you're moving or what direction you're moving, light always travels at the same speed (around 299,792 kilometers per second). This implies that time and space are not absolute but depend on the observer's speed.\n",
      "\n",
      "- **Time Dilation and Length Contraction**: Time can 'slow down' for a moving object as seen by a stationary observer (time dilation). Similarly, objects can appear \"shrunk\" or contracted along the direction of motion (length contraction).\n",
      "\n",
      "In simpler terms, if someone is running at high speed, time would seem to move slower for them than for someone standing still. They would also appear shorter in the direction they're running.\n",
      "\n",
      "2. General Theory of Relativity (1915): This part extends the Special Theory of Relativity to include acceleration and gravity. Here's the main idea:\n",
      "\n",
      "- **Space-Time Curvature**: Mass and energy cause space-time to curve. Think of space-time as a trampoline, where a heavy object (like a planet) creates a dent. Smaller objects (like satellites) move along these curves (like marbles rolling around the dent).\n",
      "\n",
      "In simple terms, gravity is not a force pulling objects towards each other, but a warping of space-time caused by mass. A massive object (like the Earth) creates a 'dent' in space-time, and other objects move along this curvature.\n",
      "\n",
      "Remember, these concepts are quite abstract and often counterintuitive. But these theories have been thoroughly tested and are widely accepted by the scientific community.\n",
      "\n",
      "I hope this simplifies the theory of relativity for you! If you have any more questions, feel free to ask.\n",
      "🤖 AI Response 2:  Of course, I'd be happy to help explain it with an analogy.\n",
      "\n",
      "Imagine a computer system as a large, bustling city. Here's how the components of a simple computer system might relate to a city:\n",
      "\n",
      "1. Central Processing Unit (CPU): This is like the city's mayor's office. The mayor makes critical decisions, keeps track of all the city's activities, and coordinates different departments. The CPU processes all instructions and coordinates the activities of other hardware components.\n",
      "\n",
      "2. Random Access Memory (RAM): This is like the city's temporary storage. It's a place where all the current documents, plans, and schedules are kept for easy access. RAM temporarily stores data and programs that are in active use by the CPU.\n",
      "\n",
      "3. Hard Disk Drive (HDD): This is like the city's permanent records office. It keeps all the permanent files like birth certificates, marriage licenses, and historical documents. HDD stores long-term data, such as software, documents, and pictures.\n",
      "\n",
      "4. Graphics Processing Unit (GPU): This is akin to the city's art department. They specialize in visual tasks, such as designing building plans, maps, or creating city art. The GPU specializes in rendering images and video.\n",
      "\n",
      "5. Motherboard: You could think of this as the city's infrastructure. It's like all the roads, buildings, and utilities that support and connect everything else. The motherboard connects all the different components of the computer, just like the infrastructure connects different parts of a city.\n",
      "\n",
      "6. Power Supply Unit (PSU): Imagine this as the city's electric company. It provides all the electricity needed by the city, just as the PSU delivers electrical power to the computer's components.\n",
      "\n",
      "7. Input Devices (like keyboard, mouse): These could be seen as the city's administrative staff. They input data and commands into the system, just as the staff inputs information into the mayor's office.\n",
      "\n",
      "8. Output Devices (like monitor, printer): These are like the city's communication systems. They communicate the results of the city's activities to the public, such as displaying a city map or printing out a report.\n",
      "\n",
      "And just like a city, if one component malfunctions, it can affect the entire computer system. This is why cities have emergency services, and computers have error-checking and repair systems.\n",
      "\n",
      "Hopefully, this analogy helps you understand the roles of the different parts of a computer system. If you have further questions or would like more analogies, feel free to ask!\n",
      "🤖 AI Response 3:  Gravity and time are fundamentally interconnected in the realm of physics, particularly in the field of General Relativity, which was developed by Albert Einstein. Here's how they are related:\n",
      "\n",
      "1. Gravity as curvature of spacetime: In General Relativity, gravity is not viewed as a force acting at a distance between two masses, as in Newtonian gravity. Instead, it is seen as the warping or curvature of spacetime by mass and energy. This curvature affects how objects move and how time flows.\n",
      "\n",
      "2. Time dilation: When gravity is stronger, as in the presence of a massive object like a planet or a black hole, time passes slower compared to areas with weaker gravity. This is known as gravitational time dilation. An object closer to a massive body will experience time at a slower pace than an object farther away. A practical example is the time dilation experienced by astronauts in orbit compared to people on Earth.\n",
      "\n",
      "3. Gravitational waves: Massive objects accelerating in spacetime can create ripples or waves in the fabric of spacetime, known as gravitational waves. These waves are distortions in spacetime that carry energy and move at the speed of light. They also cause time dilation as they pass through regions of spacetime.\n",
      "\n",
      "4. Gravitational lensing: The warping of spacetime by gravity can also cause light to bend, a phenomenon known as gravitational lensing. This effect can be used to study the distribution of mass in the universe, including objects that cannot be directly observed.\n",
      "\n",
      "5. Black holes and time: Near the event horizon of a black hole, where gravity is extremely strong, time behaves in peculiar and extreme ways. According to General Relativity, time appears to slow down infinitely for an observer falling into the black hole, while for a distant observer, it would seem that the falling object takes an infinite amount of time to cross the event horizon.\n",
      "\n",
      "In summary, gravity and time are closely related in the framework of General Relativity, where gravity is described as the curvature of spacetime. Gravitational forces can cause time dilation, affect the path of light, and create phenomena like black holes, where the relationship between gravity and time becomes particularly extreme. Understanding this relationship has allowed us to make predictions and observe phenomena that were previously inaccessible, advancing our knowledge of the universe and the fundamental laws of physics.\n"
     ]
    }
   ],
   "source": [
    "# Step 1: Import necessary libraries\n",
    "from azure.monitor.opentelemetry import configure_azure_monitor\n",
    "from opentelemetry import trace\n",
    "from azure.core.settings import settings \n",
    "from azure.ai.inference.tracing import AIInferenceInstrumentor \n",
    "from azure.ai.inference.prompts import PromptTemplate\n",
    "\n",
    "# Step 2: Set tracing implementation to OpenTelemetry\n",
    "settings.tracing_implementation = \"opentelemetry\"\n",
    "\n",
    "# Step 3: Instrument AI Inference API\n",
    "AIInferenceInstrumentor().instrument()\n",
    "\n",
    "# Step 4: Get a chat inferencing client using the project's default model inferencing endpoint\n",
    "chat_client = project.inference.get_chat_completions_client()\n",
    "\n",
    "# Step 5: Enable instrumentation of AI packages (inference, agents, openai, langchain)\n",
    "project.telemetry.enable()\n",
    "\n",
    "# Step 6: Log traces to the project's application insights resource\n",
    "application_insights_connection_string = project.telemetry.get_connection_string()\n",
    "if application_insights_connection_string:\n",
    "    configure_azure_monitor(connection_string=application_insights_connection_string)\n",
    "\n",
    "# Step 7: Create a tracer\n",
    "tracer = trace.get_tracer(__name__)\n",
    "\n",
    "# Step 8: Create the prompt template\n",
    "prompt_template = PromptTemplate.from_string(\"\"\"\n",
    "    system: You are a helpful assistant for {{user_name}}.\n",
    "    user: {{user_message}}\n",
    "\"\"\")\n",
    "\n",
    "# Step 9: Define user name for the template\n",
    "user_name = \"Alex\"\n",
    "\n",
    "# Step 10: Start a multi-turn conversation with tracing\n",
    "with tracer.start_as_current_span(\"multi_turn_chat_example\"):\n",
    "    # Turn 1\n",
    "    messages = prompt_template.create_messages(user_name=user_name, user_message=\"Can you explain the theory of relativity in simple terms?\")\n",
    "    response_1 = chat_client.complete(model=\"Phi-3.5-mini-instruct\", messages=messages)\n",
    "    print(f\"🤖 AI Response 1: {response_1.choices[0].message.content}\")\n",
    "    \n",
    "    # Turn 2\n",
    "    messages = prompt_template.create_messages(user_name=user_name, user_message=\"Can you provide a simple analogy to understand it better?\")\n",
    "    response_2 = chat_client.complete(model=\"Phi-3.5-mini-instruct\", messages=messages)\n",
    "    print(f\"🤖 AI Response 2: {response_2.choices[0].message.content}\")\n",
    "    \n",
    "    # Turn 3\n",
    "    messages = prompt_template.create_messages(user_name=user_name, user_message=\"How is it related to gravity and time?\")\n",
    "    response_3 = chat_client.complete(model=\"Phi-3.5-mini-instruct\", messages=messages)\n",
    "    print(f\"🤖 AI Response 3: {response_3.choices[0].message.content}\")\n"
   ]
  },
  {
   "cell_type": "markdown",
   "id": "818a7476",
   "metadata": {},
   "source": [
    "## 🛡️ 5. Evaluations"
   ]
  },
  {
   "cell_type": "markdown",
   "id": "48621ae1",
   "metadata": {},
   "source": [
    "#### 2️⃣ Local Evaluation\n"
   ]
  },
  {
   "cell_type": "code",
   "execution_count": 16,
   "id": "1de4e334",
   "metadata": {},
   "outputs": [],
   "source": [
    "#!pip install azure-ai-evaluation"
   ]
  },
  {
   "cell_type": "code",
   "execution_count": 48,
   "id": "b0fb3581",
   "metadata": {},
   "outputs": [],
   "source": [
    "from azure.ai.projects import AIProjectClient\n",
    "from azure.identity import DefaultAzureCredential\n",
    "\n",
    "# Create AIProjectClient from environment variables\n",
    "project = AIProjectClient.from_connection_string(\n",
    "    conn_str=os.getenv(\"AZURE_AI_FOUNDRY_CONNECTION_STRING\"),\n",
    "    credential=DefaultAzureCredential()\n",
    ")"
   ]
  },
  {
   "cell_type": "code",
   "execution_count": 49,
   "id": "3d0b4cd1",
   "metadata": {},
   "outputs": [],
   "source": [
    "from azure.ai.evaluation import GroundednessEvaluator, ViolenceEvaluator, RelevanceEvaluator\n",
    "\n",
    "# Configure model for the evaluators\n",
    "model_config = {\n",
    "    \"azure_endpoint\": os.getenv(\"AZURE_AOAI_ENDPOINT\"),\n",
    "    \"api_key\": os.getenv(\"AZURE_AOAI_API_KEY\"),\n",
    "    \"azure_deployment\": os.getenv(\"AZURE_AOAI_COMPLETION_MODEL_DEPLOYMENT_ID\"),\n",
    "    \"api_version\": os.getenv(\"AZURE_AOAI_DEPLOYMENT_VERSION\"),\n",
    "}\n",
    "\n",
    "# Initialize Evaluators\n",
    "groundedness_eval = GroundednessEvaluator(model_config)\n",
    "violence_eval = ViolenceEvaluator(credential=DefaultAzureCredential(), azure_ai_project=project.scope)\n",
    "relevance_eval = RelevanceEvaluator(model_config)\n"
   ]
  },
  {
   "cell_type": "code",
   "execution_count": 50,
   "id": "4c0ec296",
   "metadata": {},
   "outputs": [],
   "source": [
    "import json\n",
    "\n",
    "directory = \"my_utils/evals/data\"\n",
    "file_name = \"evaluation_data.jsonl\"\n",
    "\n",
    "os.makedirs(directory, exist_ok=True)\n",
    "\n",
    "content = [\n",
    "    {\"query\": \"What is the capital of France?\", \"context\": \"France is in Europe\", \"response\": \"Paris is the capital of France.\", \"ground_truth\": \"Paris\"},\n",
    "    {\"query\": \"Who discovered gravity?\", \"context\": \"Isaac Newton discovered gravity when an apple fell on his head.\", \"response\": \"Isaac Newton.\", \"ground_truth\": \"Isaac Newton\"}\n",
    "]\n",
    "\n",
    "# Save the content to the file\n",
    "with open(os.path.join(directory, file_name), 'w') as file:\n",
    "    for item in content:\n",
    "        file.write(f\"{json.dumps(item)}\\n\")"
   ]
  },
  {
   "cell_type": "code",
   "execution_count": 51,
   "id": "937ee16c",
   "metadata": {},
   "outputs": [
    {
     "name": "stderr",
     "output_type": "stream",
     "text": [
      "[2024-12-09 10:07:18 -0600][promptflow._core.entry_meta_generator][WARNING] - Generate meta in current process and timeout won't take effect. Please handle timeout manually outside current process.\n",
      "[2024-12-09 10:07:18 -0600][promptflow._core.entry_meta_generator][WARNING] - Generate meta in current process and timeout won't take effect. Please handle timeout manually outside current process.\n",
      "[2024-12-09 10:07:18 -0600][promptflow._sdk._orchestrator.run_submitter][INFO] - Submitting run azure_ai_evaluation_evaluators_common_base_eval_asyncevaluatorbase_1mah6oo0_20241209_100718_775920, log path: C:\\Users\\pablosal\\.promptflow\\.runs\\azure_ai_evaluation_evaluators_common_base_eval_asyncevaluatorbase_1mah6oo0_20241209_100718_775920\\logs.txt\n",
      "[2024-12-09 10:07:18 -0600][promptflow._sdk._orchestrator.run_submitter][INFO] - Submitting run azure_ai_evaluation_evaluators_common_base_eval_asyncevaluatorbase_9zy8niqm_20241209_100718_776925, log path: C:\\Users\\pablosal\\.promptflow\\.runs\\azure_ai_evaluation_evaluators_common_base_eval_asyncevaluatorbase_9zy8niqm_20241209_100718_776925\\logs.txt\n"
     ]
    },
    {
     "name": "stdout",
     "output_type": "stream",
     "text": [
      "Prompt flow service has started...\n",
      "Prompt flow service has started...\n",
      "You can view the traces in local from http://127.0.0.1:23333/v1.0/ui/traces/?#run=azure_ai_evaluation_evaluators_common_base_eval_asyncevaluatorbase_1mah6oo0_20241209_100718_775920\n",
      "You can view the traces in local from http://127.0.0.1:23333/v1.0/ui/traces/?#run=azure_ai_evaluation_evaluators_common_base_eval_asyncevaluatorbase_9zy8niqm_20241209_100718_776925\n"
     ]
    }
   ],
   "source": [
    "import json\n",
    "from azure.ai.evaluation import evaluate\n",
    "\n",
    "# Run the evaluation locally\n",
    "try:\n",
    "    results = evaluate(\n",
    "        data=\"./my_utils/evals/data/evaluation_data.jsonl\",\n",
    "        evaluators={\n",
    "            \"groundedness\": groundedness_eval,\n",
    "            \"relevance\": relevance_eval\n",
    "        },\n",
    "        evaluator_config={\n",
    "            \"default\": {\n",
    "                \"column_mapping\": {\n",
    "                    \"query\": \"${data.query}\",\n",
    "                    \"context\": \"${data.context}\",\n",
    "                    \"response\": \"${data.response}\"\n",
    "                }\n",
    "            }\n",
    "        },\n",
    "        output_path=\"my_utils/evals/results/local_evaluation_results.json\"\n",
    "    )\n",
    "\n",
    "except Exception as e:\n",
    "    print(f\"An error occurred during evaluation: {e}\")"
   ]
  },
  {
   "cell_type": "code",
   "execution_count": 52,
   "id": "59a6b94e",
   "metadata": {},
   "outputs": [
    {
     "data": {
      "text/plain": [
       "{'rows': [{'inputs.query': 'What is the capital of France?',\n",
       "   'inputs.context': 'France is in Europe',\n",
       "   'inputs.response': 'Paris is the capital of France.',\n",
       "   'inputs.ground_truth': 'Paris',\n",
       "   'outputs.groundedness.groundedness': 3,\n",
       "   'outputs.groundedness.gpt_groundedness': 3,\n",
       "   'outputs.groundedness.groundedness_reason': 'The RESPONSE is accurate but introduces additional information that is not supported by the CONTEXT.',\n",
       "   'outputs.relevance.relevance': 4,\n",
       "   'outputs.relevance.gpt_relevance': 4,\n",
       "   'outputs.relevance.relevance_reason': 'The response accurately and completely answers the question about the capital of France.'},\n",
       "  {'inputs.query': 'Who discovered gravity?',\n",
       "   'inputs.context': 'Isaac Newton discovered gravity when an apple fell on his head.',\n",
       "   'inputs.response': 'Isaac Newton.',\n",
       "   'inputs.ground_truth': 'Isaac Newton',\n",
       "   'outputs.groundedness.groundedness': 4,\n",
       "   'outputs.groundedness.gpt_groundedness': 4,\n",
       "   'outputs.groundedness.groundedness_reason': 'The RESPONSE mentions Isaac Newton, which is relevant, but it omits the critical details about the discovery of gravity and the apple falling on his head.',\n",
       "   'outputs.relevance.relevance': 4,\n",
       "   'outputs.relevance.gpt_relevance': 4,\n",
       "   'outputs.relevance.relevance_reason': 'The response accurately and completely answers the question by providing the name of the person who discovered gravity.'}],\n",
       " 'metrics': {'groundedness.groundedness': 3.5,\n",
       "  'groundedness.gpt_groundedness': 3.5,\n",
       "  'relevance.relevance': 4.0,\n",
       "  'relevance.gpt_relevance': 4.0},\n",
       " 'studio_url': None}"
      ]
     },
     "execution_count": 52,
     "metadata": {},
     "output_type": "execute_result"
    }
   ],
   "source": [
    "results"
   ]
  },
  {
   "cell_type": "markdown",
   "id": "50074c92",
   "metadata": {},
   "source": [
    "#### 3️⃣ Remote (Cloud) Evaluation\n"
   ]
  },
  {
   "cell_type": "code",
   "execution_count": null,
   "id": "e72b14d7",
   "metadata": {},
   "outputs": [],
   "source": [
    "!pip install azure-identity azure-ai-projects azure-ai-ml"
   ]
  },
  {
   "cell_type": "code",
   "execution_count": 61,
   "id": "a7c15688",
   "metadata": {},
   "outputs": [],
   "source": [
    "import os, time\n",
    "from azure.ai.projects import AIProjectClient\n",
    "from azure.identity import DefaultAzureCredential\n",
    "from azure.ai.projects.models import Evaluation, Dataset, EvaluatorConfiguration, ConnectionType\n",
    "from azure.ai.evaluation import F1ScoreEvaluator, RelevanceEvaluator, ViolenceEvaluator"
   ]
  },
  {
   "cell_type": "code",
   "execution_count": 91,
   "id": "4d58bb28",
   "metadata": {},
   "outputs": [],
   "source": [
    "# Upload local file to Azure AI project\n",
    "data_id, _ = project.upload_file(\"./my_utils/evals/data/evaluation_data.jsonl\")\n",
    "print(f\"Uploaded local file with ID: {data_id}\")"
   ]
  },
  {
   "cell_type": "code",
   "execution_count": 92,
   "id": "8d6d232b",
   "metadata": {},
   "outputs": [],
   "source": [
    "from azure.ai.evaluation import F1ScoreEvaluator, RelevanceEvaluator, ViolenceEvaluator\n",
    "print(\"F1 Score evaluator id:\", F1ScoreEvaluator.id)"
   ]
  },
  {
   "cell_type": "code",
   "execution_count": 68,
   "id": "179d7bed",
   "metadata": {},
   "outputs": [],
   "source": [
    "default_connection = project.connections.get_default(connection_type=ConnectionType.AZURE_OPEN_AI)\n",
    "model_config = {\n",
    "    \"azure_endpoint\": os.getenv(\"AZURE_AOAI_ENDPOINT\"),\n",
    "    \"api_key\": os.getenv(\"AZURE_AOAI_API_KEY\"),\n",
    "    \"azure_deployment\": os.getenv(\"AZURE_AOAI_COMPLETION_MODEL_DEPLOYMENT_ID\"),\n",
    "    \"api_version\": os.getenv(\"AZURE_AOAI_DEPLOYMENT_VERSION\"),\n",
    "}\n",
    "model_config = default_connection.to_evaluator_model_config(deployment_name=model_config['azure_deployment'], api_version=model_config[\"api_version\"])\n"
   ]
  },
  {
   "cell_type": "code",
   "execution_count": 70,
   "id": "cadb0bb1",
   "metadata": {},
   "outputs": [
    {
     "data": {
      "text/plain": [
       "{'azure_deployment': 'gpt-4o',\n",
       " 'azure_endpoint': 'https://azureaistudiof7244419895.openai.azure.com',\n",
       " 'type': 'azure_openai',\n",
       " 'api_version': '2024-08-01-preview',\n",
       " 'api_key': '/subscriptions/20c54e6d-27f8-4aeb-8127-3dfa557b9721/resourceGroups/dev-rg-ai-factory/providers/Microsoft.MachineLearningServices/workspaces/dev-factory/connections/azureaistudiof7244419895_aoai/credentials/key'}"
      ]
     },
     "execution_count": 70,
     "metadata": {},
     "output_type": "execute_result"
    }
   ],
   "source": [
    "model_config"
   ]
  },
  {
   "cell_type": "code",
   "execution_count": 94,
   "id": "5c8b6e70",
   "metadata": {},
   "outputs": [],
   "source": [
    "import os\n",
    "from azure.identity import DefaultAzureCredential\n",
    "from azure.ai.projects import AIProjectClient\n",
    "from azure.ai.projects.models import Evaluation, Dataset, EvaluatorConfiguration\n",
    "from azure.ai.evaluation import F1ScoreEvaluator\n",
    "\n",
    "# Setup connection\n",
    "connection_string = os.getenv(\"AZURE_AI_FOUNDRY_CONNECTION_STRING\")\n",
    "if not connection_string:\n",
    "    raise ValueError(\"AZURE_AI_FOUNDRY_CONNECTION_STRING is missing or not set.\")\n",
    "\n",
    "project_client = AIProjectClient.from_connection_string(\n",
    "    credential=DefaultAzureCredential(),\n",
    "    conn_str=connection_string\n",
    ")\n",
    "\n",
    "# Create the evaluation\n",
    "evaluation = Evaluation(\n",
    "    display_name=\"Cloud evaluation\",\n",
    "    description=\"Evaluation of dataset\",\n",
    "    data=Dataset(id=data_id),\n",
    "    evaluators={\n",
    "        \"f1_score\": EvaluatorConfiguration(\n",
    "            id=\"azureml://registries/azureml/models/F1Score-Evaluator/versions/3\"\n",
    "        )\n",
    "    }\n",
    ")"
   ]
  },
  {
   "cell_type": "code",
   "execution_count": 96,
   "id": "07b007b8",
   "metadata": {},
   "outputs": [],
   "source": [
    "try:\n",
    "    response = project_client.evaluations.create(\n",
    "        evaluation=evaluation,\n",
    "        headers={\n",
    "            'Content-Type': 'application/json',\n",
    "            'Accept': 'application/json'\n",
    "        }\n",
    "    )\n",
    "    print(\"Evaluation submitted successfully!\")\n",
    "    print(f\"Evaluation ID: {response.id}\")\n",
    "    print(f\"Check status at: {response.properties.get('AiStudioEvaluationUri')}\")\n",
    "    \n",
    "except Exception as e:\n",
    "    if hasattr(e, 'response') and hasattr(e.response, 'content'):\n",
    "        print(\"Binary content detected, saving to binary_response_output.bin\")\n",
    "        with open('binary_response_output.bin', 'wb') as f:\n",
    "            f.write(e.response.content)\n",
    "    else:\n",
    "        print(\"An unexpected error occurred:\", e)"
   ]
  },
  {
   "cell_type": "markdown",
   "id": "3e4245db",
   "metadata": {},
   "source": [
    "\n",
    "For further information, explore the [official Azure AI Foundry documentation](https://learn.microsoft.com/en-us/azure/ai-studio/what-is-ai-studio).\n",
    "\n",
    "Happy Coding! 🚀\n",
    "    "
   ]
  }
 ],
 "metadata": {
  "kernelspec": {
   "display_name": "capacity-aoai",
   "language": "python",
   "name": "python3"
  },
  "language_info": {
   "codemirror_mode": {
    "name": "ipython",
    "version": 3
   },
   "file_extension": ".py",
   "mimetype": "text/x-python",
   "name": "python",
   "nbconvert_exporter": "python",
   "pygments_lexer": "ipython3",
   "version": "3.9.19"
  }
 },
 "nbformat": 4,
 "nbformat_minor": 5
}
