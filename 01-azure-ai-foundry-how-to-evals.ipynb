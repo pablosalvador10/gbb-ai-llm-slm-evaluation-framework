{
 "cells": [
  {
   "cell_type": "markdown",
   "metadata": {},
   "source": [
    "## 📚 Prerequisites\n",
    "\n",
    "Before starting, ensure your Azure Services are set up correctly, your Conda environment is ready, and your environment variables are configured according to the instructions in the [README.md](README.md) file.\n",
    "\n",
    "## 📋 Table of Contents\n",
    "\n",
    "This notebook guides you through creating an Azure AI Search Index, covering the following topics:\n",
    "\n",
    "1. [**Built-in PromptFlow Evaluators and Application Scenarios**](#Built-in-PromptFlow-Evaluators-and-Application-Scenarios): Overview of the evaluators provided by PromptFlow and their use cases.\n",
    "\n",
    "2. [**Building a Validation Framework with PromptFlow SDK and Azure AI Foundry**](#Building-a-Validation-Framework-with-PromptFlow-SDK-and-Azure-AI-Studio): Steps to integrate PromptFlow SDK with Azure AI Foundry for creating a robust validation framework.\n",
    "\n",
    "3. [**Customizing the Validation to Fit Your Scenario**](#Customizing-the-Validation-to-Fit-Your-Scenario): Tailoring the validation framework to meet specific requirements of your project."
   ]
  },
  {
   "cell_type": "markdown",
   "metadata": {},
   "source": [
    "# Built-in Promptflow Evaluators and Application Scenarios\n",
    "\n",
    "The PromptFlow Evaluation Framework provides a suite of built-in evaluators designed to assess the performance and safety of language models across various application scenarios. These evaluators are categorized based on the type of assessment they perform, ranging from the quality of generated content to its safety and appropriateness.\n",
    "\n",
    "## Application Scenarios\n",
    "\n",
    "### Question and Answer\n",
    "This scenario caters to applications that involve posing queries and generating responses. It is ideal for evaluating the model's ability to understand and process information accurately to provide relevant answers.\n",
    "\n",
    "### Chat\n",
    "This scenario is tailored for applications where the model engages in dialogue, employing a retrieval-augmented approach. It assesses the model's capability to extract pertinent information from provided documents and generate coherent, detailed responses.\n",
    "\n",
    "## Overview of Evaluator Categories and Their Technical Applications\n",
    "\n",
    "Each evaluator is meticulously crafted to cater to specific technical scenarios and requirements. For example, the **RelevanceEvaluator** necessitates a `question`, `answer`, and `context` to ascertain the relevance of the provided answer to the posed question within the specified context. This evaluator is indispensable for applications such as virtual assistants or customer support chatbots, where the pertinence of responses critically influences user satisfaction.\n",
    "\n",
    "### Evaluating Q/A Pairs for Accuracy and Coherence\n",
    "\n",
    "Alright, let's dive into how we can check out a Q/A pair, especially when we want to see how a user's answer stacks up against the real deal (aka the ground truth). Here are the key players you'll want to bring into the game:\n",
    "\n",
    "- **SimilarityEvaluator**: This tool scrutinizes the congruence between the user's answer and the ground truth. It is instrumental in gauging how well the user's response aligns with the expected answer, a feature paramount for platforms like educational portals where precision is of the essence.\n",
    "\n",
    "- **F1ScoreEvaluator**: This evaluator computes the F1 score by examining the overlap between the user's answer and the ground truth. It offers invaluable insights into the precision (the relevance of the user's answer) and recall (the extent to which the ground truth is encapsulated by the user's answer), thereby facilitating a nuanced understanding of response accuracy.\n",
    "\n",
    "- **RelevanceEvaluator**: Traditionally employed to evaluate the relevance of an answer to the given question and context, it can also be adeptly used to measure how pertinent the user's answer is in relation to the ground truth, especially in contexts where the backdrop of the question significantly influences the accuracy of the answer.\n",
    "\n",
    "- **CoherenceEvaluator**: This evaluator is essential for assessing the logical flow and coherence of the user's answer vis-à-vis the ground truth. It ensures that the response not only corresponds with the expected answer but also exhibits logical consistency and coherence, crucial for elaborate answers necessitating detailed explanation or justification.\n",
    "\n",
    "### Prioritizing Content Safety\n",
    "\n",
    "Furthermore, the **ContentSafetyEvaluator** and **ContentSafetyChatEvaluator** play a critical role in applications that emphasize user safety, like social media platforms or community forums. These evaluators are dedicated to ensuring that generated content is devoid of any harmful or inappropriate material, safeguarding the community against potential risks.\n",
    "\n",
    "This enhanced framework for evaluator categories and their applications underscores the importance of tailored evaluations in enhancing the accuracy, relevance, and safety of responses across various digital platforms.\n",
    "\n",
    "## Evaluator Categories and Classes\n",
    "\n",
    "| Category            | Evaluator Class            | Required Data Fields          | Example                                                                                                   | Purpose and Applications                                                                                   |\n",
    "|---------------------|----------------------------|-------------------------------|-----------------------------------------------------------------------------------------------------------|------------------------------------------------------------------------------------------------------------|\n",
    "| Performance and Quality | GroundednessEvaluator      | answer, context                | `{\"answer\": \"Paris.\", \"context\": \"France is a country in Europe. Its capital is Paris.\"}`                 | Measures how well the answer is grounded in the provided context. Useful for fact-checking applications.  |\n",
    "|                     | RelevanceEvaluator         | question, answer, context      | `{\"question\": \"What is the capital of France?\", \"answer\": \"Paris.\", \"context\": \"France is a country in Europe. Its capital is Paris.\"}` | Assesses the relevance of the answer to the given question and context. Ideal for QA systems.             |\n",
    "|                     | CoherenceEvaluator         | question, answer               | `{\"question\": \"What is the capital of France?\", \"answer\": \"Paris is the capital of France.\"}`             | Evaluates the logical flow and coherence of the conversation. Useful for dialogue systems.                |\n",
    "|                     | FluencyEvaluator           | question, answer               | `{\"question\": \"What is the capital of France?\", \"answer\": \"Paris is the capital of France.\"}`             | Checks the linguistic fluency and readability of the answer. Important for content generation.           |\n",
    "|                     | SimilarityEvaluator        | question, answer, ground_truth | `{\"question\": \"What is the capital of France?\", \"answer\": \"Paris is the capital of France.\", \"ground_truth\": \"The capital of France is Paris.\"}` | Compares the similarity between the generated answer and a ground truth answer. Useful for automated grading systems. |\n",
    "|                     | F1ScoreEvaluator           | answer, ground_truth           | `{\"answer\": \"Paris is the capital of France.\", \"ground_truth\": \"The capital of France is Paris.\"}`        | Calculates the F1 score based on the overlap between the generated answer and the ground truth. Useful for evaluating model precision and recall. |\n",
    "| Risk and Safety     | ViolenceEvaluator          | question, answer               | `{\"question\": \"What is the capital of France?\", \"answer\": \"Paris.\"}`                                      | Detects violent content in the model's responses. Essential for content moderation.                      |\n",
    "|                     | SexualEvaluator            | question, answer               | `{\"question\": \"What is the capital of France?\", \"answer\": \"Paris.\"}`                                      | Identifies sexual content in responses. Critical for maintaining content appropriateness.                |\n",
    "|                     | SelfHarmEvaluator          | question, answer               | `{\"question\": \"What is the capital of France?\", \"answer\": \"Paris.\"}`                                      | Screens for self-harm related content in answers. Important for user safety.                             |\n",
    "|                     | HateUnfairnessEvaluator    | question, answer               | `{\"question\": \"What is the capital of France?\", \"answer\": \"Paris.\"}`                                      | Detects hate speech and unfairness in content. Vital for ethical AI applications.                        |\n",
    "| Composite           | QAEvaluator                | question, answer, context, ground_truth | `{\"question\": \"What is the capital of France?\", \"answer\": \"Paris is the capital of France.\", \"context\": \"France is a country in Europe. Its capital is Paris.\", \"ground_truth\": \"The capital of France is Paris.\"}` | Combines quality evaluators for QA pairs. Useful for comprehensive QA system evaluation.                 |\n",
    "|                     | ChatEvaluator              | question, answer, context, ground_truth | `{\"question\": \"What is the capital of France?\", \"answer\": \"Paris is the capital of France.\", \"context\": \"France is a country in Europe. Its capital is Paris.\", \"ground_truth\": \"The capital of France is Paris.\"}` | Integrates quality evaluators for chat messages. Ideal for evaluating chatbots.                          |\n",
    "|                     | ContentSafetyEvaluator     | question, answer, context, ground_truth | `{\"question\": \"What is the capital of France?\", \"answer\": \"Paris is the capital of France.\", \"context\": \"France is a country in Europe. Its capital is Paris.\", \"ground_truth\": \"The capital of France is Paris.\"}` | Combines safety evaluators for QA pairs. Essential for ensuring content safety in QA systems.            |\n",
    "|                     | ContentSafetyChatEvaluator | question, answer, context, ground_truth | `{\"question\": \"What is the capital of France?\", \"answer\": \"Paris is the capital of France.\", \"context\": \"France is a country in Europe. Its capital is Paris.\", \"ground_truth\": \"The capital of France is Paris.\"}` | Merges safety evaluators for chat messages. Crucial for safe interactions in chat applications.          |"
   ]
  },
  {
   "cell_type": "markdown",
   "metadata": {},
   "source": [
    "## Building a Validation Framework with PromptFlow SDK and Azure AI Studio"
   ]
  },
  {
   "cell_type": "markdown",
   "metadata": {},
   "source": [
    "### Evaluation Focus for LLM/SLM Benchmarking\n",
    "\n",
    "When evaluating your LLM/SLM, consider the following key areas:\n",
    "\n",
    "- **🧠 Understanding**: Measure the model's reasoning and comprehension abilities. Utilize established datasets such as MMLU, MedPub, and TruthfulQA to benchmark overall performance.\n",
    "\n",
    "- **⚙️ Retrieval System/QA**: Examine the effectiveness of the LLM-based system in its entirety. This includes evaluating its ability to understand context and achieve domain-specific accuracy.\n",
    "\n",
    "- **🛡️ Responsible AI (RAI)**: Ensure the model adheres to Responsible AI principles. This involves assessing ethical considerations, fairness, and transparency to meet responsible AI standards."
   ]
  },
  {
   "cell_type": "code",
   "execution_count": 1,
   "metadata": {},
   "outputs": [
    {
     "name": "stdout",
     "output_type": "stream",
     "text": [
      "Directory changed to C:\\Users\\pablosal\\Desktop\\gbb-ai-llm-slm-evaluation-framework\n"
     ]
    }
   ],
   "source": [
    "import os\n",
    "from datetime import datetime\n",
    "from pprint import pprint\n",
    "\n",
    "# Define the target directory (change yours)\n",
    "TARGET_DIRECTORY = r\"C:\\Users\\pablosal\\Desktop\\gbb-ai-llm-slm-evaluation-framework\"\n",
    "\n",
    "# Check if the directory exists\n",
    "if os.path.exists(TARGET_DIRECTORY):\n",
    "    # Change the current working directory\n",
    "    os.chdir(TARGET_DIRECTORY)\n",
    "    print(f\"Directory changed to {os.getcwd()}\")\n",
    "else:\n",
    "    print(f\"Directory {TARGET_DIRECTORY} does not exist.\")"
   ]
  },
  {
   "cell_type": "markdown",
   "metadata": {},
   "source": [
    "### 0. Optional: Building Your Own SDK for Enhanced Control and Granularity\n",
    "\n",
    "Be mindful of the level of abstraction. If your project requires specific functionalities, including custom encryption or other complex components, consider developing your own SDK."
   ]
  },
  {
   "cell_type": "code",
   "execution_count": 2,
   "metadata": {},
   "outputs": [],
   "source": [
    "from src.quality.gpt_evals import AzureAIQualityEvaluator"
   ]
  },
  {
   "cell_type": "code",
   "execution_count": 3,
   "metadata": {},
   "outputs": [
    {
     "name": "stderr",
     "output_type": "stream",
     "text": [
      "Class ContentSafetyEvaluator: This is an experimental class, and may change at any time. Please see https://aka.ms/azuremlexperimental for more information.\n",
      "Class ViolenceEvaluator: This is an experimental class, and may change at any time. Please see https://aka.ms/azuremlexperimental for more information.\n",
      "Class SexualEvaluator: This is an experimental class, and may change at any time. Please see https://aka.ms/azuremlexperimental for more information.\n",
      "Class SelfHarmEvaluator: This is an experimental class, and may change at any time. Please see https://aka.ms/azuremlexperimental for more information.\n",
      "Class HateUnfairnessEvaluator: This is an experimental class, and may change at any time. Please see https://aka.ms/azuremlexperimental for more information.\n",
      "2024-12-12 07:48:24,571 - micro - MainProcess - INFO     AzureAIQualityEvaluator initialized successfully. (gpt_evals.py:__init__:72)\n"
     ]
    }
   ],
   "source": [
    "quality_evals = AzureAIQualityEvaluator(\n",
    "    azure_endpoint=os.environ.get(\"AZURE_AOAI_ENDPOINT\"),\n",
    "    api_key=os.environ.get(\"AZURE_AOAI_API_KEY\"),\n",
    "    azure_deployment=os.environ.get(\"AZURE_AOAI_COMPLETION_MODEL_DEPLOYMENT_ID\"),\n",
    "    api_version=os.environ.get(\"AZURE_AOAI_DEPLOYMENT_VERSION\"),\n",
    "    subscription_id=os.environ.get(\"AZURE_AI_STUDIO_SUBSCRIPTION_ID\"),\n",
    "    resource_group_name=os.environ.get(\"AZURE_AI_STUDIO_RESOURCE_GROUP_NAME\"),\n",
    "    project_name=os.environ.get(\"AZURE_AI_STUDIO_PROJECT_NAME\"),\n",
    "    azure_ai_foundry_connector=os.getenv(\"AZURE_AI_FOUNDRY_CONNECTION_STRING\")\n",
    "    )"
   ]
  },
  {
   "cell_type": "markdown",
   "metadata": {},
   "source": [
    "### 1. Building Golden Datasets for Evaluation\n",
    "\n",
    "- **Diversity**: Ensure the dataset spans a broad spectrum of scenarios to thoroughly assess model performance.\n",
    "\n",
    "- **Complexity Levels**: Include both straightforward and complex queries to evaluate the model's depth of understanding.\n",
    "\n",
    "- **Ambiguity**: Incorporate queries with multiple valid interpretations to test the model's ambiguity handling.\n",
    "\n",
    "- **Data Enrichment**:\n",
    "  - **Paraphrasing**: Use tools like GPT-4 to paraphrase existing queries, enhancing dataset variety.\n",
    "  - **Synthetic Data**: Employ Large Language Models (LLMs) to generate data for underrepresented scenarios."
   ]
  },
  {
   "cell_type": "code",
   "execution_count": 10,
   "metadata": {},
   "outputs": [],
   "source": [
    "data_input_path = os.path.join(os.getcwd(), \"my_utils\", \"data\", \"evaluations\", \"dataframe\", \"golden_eval_dataset.csv\")"
   ]
  },
  {
   "cell_type": "code",
   "execution_count": 11,
   "metadata": {},
   "outputs": [
    {
     "data": {
      "text/html": [
       "<div>\n",
       "<style scoped>\n",
       "    .dataframe tbody tr th:only-of-type {\n",
       "        vertical-align: middle;\n",
       "    }\n",
       "\n",
       "    .dataframe tbody tr th {\n",
       "        vertical-align: top;\n",
       "    }\n",
       "\n",
       "    .dataframe thead th {\n",
       "        text-align: right;\n",
       "    }\n",
       "</style>\n",
       "<table border=\"1\" class=\"dataframe\">\n",
       "  <thead>\n",
       "    <tr style=\"text-align: right;\">\n",
       "      <th></th>\n",
       "      <th>query</th>\n",
       "      <th>response</th>\n",
       "      <th>context</th>\n",
       "      <th>ground_truth</th>\n",
       "    </tr>\n",
       "  </thead>\n",
       "  <tbody>\n",
       "    <tr>\n",
       "      <th>0</th>\n",
       "      <td>What is the capital of France?</td>\n",
       "      <td>Paris is the capital of France.</td>\n",
       "      <td>France is a country in Europe. Its capital is ...</td>\n",
       "      <td>The capital of France is Paris.</td>\n",
       "    </tr>\n",
       "    <tr>\n",
       "      <th>1</th>\n",
       "      <td>Who developed the theory of relativity?</td>\n",
       "      <td>Albert Einstein developed the theory of relati...</td>\n",
       "      <td>The theory of relativity was developed by Albe...</td>\n",
       "      <td>The theory of relativity was developed by Albe...</td>\n",
       "    </tr>\n",
       "    <tr>\n",
       "      <th>2</th>\n",
       "      <td>What is the speed of light?</td>\n",
       "      <td>The speed of light is approximately 299,792,45...</td>\n",
       "      <td>Light travels at a constant speed in a vacuum,...</td>\n",
       "      <td>Light travels at a speed of 299,792,458 meters...</td>\n",
       "    </tr>\n",
       "    <tr>\n",
       "      <th>3</th>\n",
       "      <td>What is the tallest mountain in the world?</td>\n",
       "      <td>Mount Everest is the tallest mountain in the w...</td>\n",
       "      <td>The tallest mountain in the world is Mount Eve...</td>\n",
       "      <td>The world's tallest mountain is Mount Everest.</td>\n",
       "    </tr>\n",
       "    <tr>\n",
       "      <th>4</th>\n",
       "      <td>Who is the author of '1984'?</td>\n",
       "      <td>George Orwell is the author of '1984'.</td>\n",
       "      <td>The author of '1984' is George Orwell. Citatio...</td>\n",
       "      <td>The author of '1984' is George Orwell.</td>\n",
       "    </tr>\n",
       "  </tbody>\n",
       "</table>\n",
       "</div>"
      ],
      "text/plain": [
       "                                        query  \\\n",
       "0              What is the capital of France?   \n",
       "1     Who developed the theory of relativity?   \n",
       "2                 What is the speed of light?   \n",
       "3  What is the tallest mountain in the world?   \n",
       "4                Who is the author of '1984'?   \n",
       "\n",
       "                                            response  \\\n",
       "0                    Paris is the capital of France.   \n",
       "1  Albert Einstein developed the theory of relati...   \n",
       "2  The speed of light is approximately 299,792,45...   \n",
       "3  Mount Everest is the tallest mountain in the w...   \n",
       "4             George Orwell is the author of '1984'.   \n",
       "\n",
       "                                             context  \\\n",
       "0  France is a country in Europe. Its capital is ...   \n",
       "1  The theory of relativity was developed by Albe...   \n",
       "2  Light travels at a constant speed in a vacuum,...   \n",
       "3  The tallest mountain in the world is Mount Eve...   \n",
       "4  The author of '1984' is George Orwell. Citatio...   \n",
       "\n",
       "                                        ground_truth  \n",
       "0                    The capital of France is Paris.  \n",
       "1  The theory of relativity was developed by Albe...  \n",
       "2  Light travels at a speed of 299,792,458 meters...  \n",
       "3     The world's tallest mountain is Mount Everest.  \n",
       "4             The author of '1984' is George Orwell.  "
      ]
     },
     "execution_count": 11,
     "metadata": {},
     "output_type": "execute_result"
    }
   ],
   "source": [
    "import pandas as pd\n",
    "df = pd.read_csv(data_input_path)\n",
    "df = df.drop(columns=[\"count\"])\n",
    "df.head()"
   ]
  },
  {
   "cell_type": "markdown",
   "metadata": {},
   "source": [
    "### 2. Evaluating Quality and Performance\n",
    "\n",
    "\n",
    "**📊 What metrics are we evaluating?**\n",
    "\n",
    "- **F1 Score**: Measures the balance between precision and recall. \n",
    "  - **Range**: 0 (worst) to 1 (best).\n",
    "\n",
    "- **GPT Groundedness**: Assesses the factual accuracy or realism of the content.\n",
    "  - **Range**: 0 (not grounded in reality) to 5 (highly factual).\n",
    "\n",
    "- **GPT Relevance**: Evaluates how relevant the content is to the given context or query.\n",
    "  - **Range**: 0 (not relevant) to 5 (highly relevant).\n",
    "\n",
    "- **GPT Coherence**: Measures the logical flow and consistency of the content.\n",
    "  - **Range**: 0 (incoherent) to 5 (highly coherent).\n",
    "\n",
    "- **GPT Fluency**: Assesses the readability and smoothness of the text.\n",
    "  - **Range**: 0 (hard to read) to 5 (extremely fluent).\n",
    "\n",
    "- **GPT Similarity**: Measures how similar the evaluated content is to a reference or expected response.\n",
    "  - **Range**: 0 (not similar) to 5 (very similar).\n"
   ]
  },
  {
   "cell_type": "code",
   "execution_count": null,
   "metadata": {},
   "outputs": [],
   "source": [
    "data_input_path = os.path.join(os.getcwd(), \"my_utils\", \"data\", \"evaluations\", \"dataframe\", \"golden_eval_dataset.csv\")\n",
    "\n",
    "# Execute the quality evaluation in parallel and batch mode. This approach optimizes performance by calculating each of the metrics mentioned above (F1 score, GPT groundedness, relevance, coherence, fluency, and similarity) concurrently across multiple data points. After computing these metrics individually, the results are aggregated to provide a comprehensive quality assessment. This method ensures efficient processing and a holistic evaluation of the chat quality.\n",
    "metrics_quality, azure_ai_studio_url = quality_evals.run_chat_quality(data_input=data_input_path)"
   ]
  },
  {
   "cell_type": "code",
   "execution_count": null,
   "metadata": {},
   "outputs": [],
   "source": [
    "pprint(metrics_quality)"
   ]
  },
  {
   "cell_type": "code",
   "execution_count": 9,
   "metadata": {},
   "outputs": [
    {
     "data": {
      "application/vnd.plotly.v1+json": {
       "config": {
        "plotlyServerURL": "https://plot.ly"
       },
       "data": [
        {
         "name": "Score (Bar)",
         "type": "bar",
         "x": [
          "f1_score",
          "gpt_groundedness",
          "gpt_fluency",
          "gpt_relevance",
          "gpt_coherence",
          "gpt_similarity"
         ],
         "xaxis": "x",
         "y": [
          0.9785592185579999,
          3.44,
          5,
          3.64,
          5,
          5
         ],
         "yaxis": "y"
        },
        {
         "mode": "lines+markers",
         "name": "Score (Line)",
         "type": "scatter",
         "x": [
          "f1_score",
          "gpt_groundedness",
          "gpt_fluency",
          "gpt_relevance",
          "gpt_coherence",
          "gpt_similarity"
         ],
         "xaxis": "x",
         "y": [
          0.9785592185579999,
          3.44,
          5,
          3.64,
          5,
          5
         ],
         "yaxis": "y2"
        }
       ],
       "layout": {
        "legend": {
         "title": {
          "text": "Metric Type"
         }
        },
        "template": {
         "data": {
          "bar": [
           {
            "error_x": {
             "color": "#2a3f5f"
            },
            "error_y": {
             "color": "#2a3f5f"
            },
            "marker": {
             "line": {
              "color": "white",
              "width": 0.5
             },
             "pattern": {
              "fillmode": "overlay",
              "size": 10,
              "solidity": 0.2
             }
            },
            "type": "bar"
           }
          ],
          "barpolar": [
           {
            "marker": {
             "line": {
              "color": "white",
              "width": 0.5
             },
             "pattern": {
              "fillmode": "overlay",
              "size": 10,
              "solidity": 0.2
             }
            },
            "type": "barpolar"
           }
          ],
          "carpet": [
           {
            "aaxis": {
             "endlinecolor": "#2a3f5f",
             "gridcolor": "#C8D4E3",
             "linecolor": "#C8D4E3",
             "minorgridcolor": "#C8D4E3",
             "startlinecolor": "#2a3f5f"
            },
            "baxis": {
             "endlinecolor": "#2a3f5f",
             "gridcolor": "#C8D4E3",
             "linecolor": "#C8D4E3",
             "minorgridcolor": "#C8D4E3",
             "startlinecolor": "#2a3f5f"
            },
            "type": "carpet"
           }
          ],
          "choropleth": [
           {
            "colorbar": {
             "outlinewidth": 0,
             "ticks": ""
            },
            "type": "choropleth"
           }
          ],
          "contour": [
           {
            "colorbar": {
             "outlinewidth": 0,
             "ticks": ""
            },
            "colorscale": [
             [
              0,
              "#0d0887"
             ],
             [
              0.1111111111111111,
              "#46039f"
             ],
             [
              0.2222222222222222,
              "#7201a8"
             ],
             [
              0.3333333333333333,
              "#9c179e"
             ],
             [
              0.4444444444444444,
              "#bd3786"
             ],
             [
              0.5555555555555556,
              "#d8576b"
             ],
             [
              0.6666666666666666,
              "#ed7953"
             ],
             [
              0.7777777777777778,
              "#fb9f3a"
             ],
             [
              0.8888888888888888,
              "#fdca26"
             ],
             [
              1,
              "#f0f921"
             ]
            ],
            "type": "contour"
           }
          ],
          "contourcarpet": [
           {
            "colorbar": {
             "outlinewidth": 0,
             "ticks": ""
            },
            "type": "contourcarpet"
           }
          ],
          "heatmap": [
           {
            "colorbar": {
             "outlinewidth": 0,
             "ticks": ""
            },
            "colorscale": [
             [
              0,
              "#0d0887"
             ],
             [
              0.1111111111111111,
              "#46039f"
             ],
             [
              0.2222222222222222,
              "#7201a8"
             ],
             [
              0.3333333333333333,
              "#9c179e"
             ],
             [
              0.4444444444444444,
              "#bd3786"
             ],
             [
              0.5555555555555556,
              "#d8576b"
             ],
             [
              0.6666666666666666,
              "#ed7953"
             ],
             [
              0.7777777777777778,
              "#fb9f3a"
             ],
             [
              0.8888888888888888,
              "#fdca26"
             ],
             [
              1,
              "#f0f921"
             ]
            ],
            "type": "heatmap"
           }
          ],
          "heatmapgl": [
           {
            "colorbar": {
             "outlinewidth": 0,
             "ticks": ""
            },
            "colorscale": [
             [
              0,
              "#0d0887"
             ],
             [
              0.1111111111111111,
              "#46039f"
             ],
             [
              0.2222222222222222,
              "#7201a8"
             ],
             [
              0.3333333333333333,
              "#9c179e"
             ],
             [
              0.4444444444444444,
              "#bd3786"
             ],
             [
              0.5555555555555556,
              "#d8576b"
             ],
             [
              0.6666666666666666,
              "#ed7953"
             ],
             [
              0.7777777777777778,
              "#fb9f3a"
             ],
             [
              0.8888888888888888,
              "#fdca26"
             ],
             [
              1,
              "#f0f921"
             ]
            ],
            "type": "heatmapgl"
           }
          ],
          "histogram": [
           {
            "marker": {
             "pattern": {
              "fillmode": "overlay",
              "size": 10,
              "solidity": 0.2
             }
            },
            "type": "histogram"
           }
          ],
          "histogram2d": [
           {
            "colorbar": {
             "outlinewidth": 0,
             "ticks": ""
            },
            "colorscale": [
             [
              0,
              "#0d0887"
             ],
             [
              0.1111111111111111,
              "#46039f"
             ],
             [
              0.2222222222222222,
              "#7201a8"
             ],
             [
              0.3333333333333333,
              "#9c179e"
             ],
             [
              0.4444444444444444,
              "#bd3786"
             ],
             [
              0.5555555555555556,
              "#d8576b"
             ],
             [
              0.6666666666666666,
              "#ed7953"
             ],
             [
              0.7777777777777778,
              "#fb9f3a"
             ],
             [
              0.8888888888888888,
              "#fdca26"
             ],
             [
              1,
              "#f0f921"
             ]
            ],
            "type": "histogram2d"
           }
          ],
          "histogram2dcontour": [
           {
            "colorbar": {
             "outlinewidth": 0,
             "ticks": ""
            },
            "colorscale": [
             [
              0,
              "#0d0887"
             ],
             [
              0.1111111111111111,
              "#46039f"
             ],
             [
              0.2222222222222222,
              "#7201a8"
             ],
             [
              0.3333333333333333,
              "#9c179e"
             ],
             [
              0.4444444444444444,
              "#bd3786"
             ],
             [
              0.5555555555555556,
              "#d8576b"
             ],
             [
              0.6666666666666666,
              "#ed7953"
             ],
             [
              0.7777777777777778,
              "#fb9f3a"
             ],
             [
              0.8888888888888888,
              "#fdca26"
             ],
             [
              1,
              "#f0f921"
             ]
            ],
            "type": "histogram2dcontour"
           }
          ],
          "mesh3d": [
           {
            "colorbar": {
             "outlinewidth": 0,
             "ticks": ""
            },
            "type": "mesh3d"
           }
          ],
          "parcoords": [
           {
            "line": {
             "colorbar": {
              "outlinewidth": 0,
              "ticks": ""
             }
            },
            "type": "parcoords"
           }
          ],
          "pie": [
           {
            "automargin": true,
            "type": "pie"
           }
          ],
          "scatter": [
           {
            "fillpattern": {
             "fillmode": "overlay",
             "size": 10,
             "solidity": 0.2
            },
            "type": "scatter"
           }
          ],
          "scatter3d": [
           {
            "line": {
             "colorbar": {
              "outlinewidth": 0,
              "ticks": ""
             }
            },
            "marker": {
             "colorbar": {
              "outlinewidth": 0,
              "ticks": ""
             }
            },
            "type": "scatter3d"
           }
          ],
          "scattercarpet": [
           {
            "marker": {
             "colorbar": {
              "outlinewidth": 0,
              "ticks": ""
             }
            },
            "type": "scattercarpet"
           }
          ],
          "scattergeo": [
           {
            "marker": {
             "colorbar": {
              "outlinewidth": 0,
              "ticks": ""
             }
            },
            "type": "scattergeo"
           }
          ],
          "scattergl": [
           {
            "marker": {
             "colorbar": {
              "outlinewidth": 0,
              "ticks": ""
             }
            },
            "type": "scattergl"
           }
          ],
          "scattermapbox": [
           {
            "marker": {
             "colorbar": {
              "outlinewidth": 0,
              "ticks": ""
             }
            },
            "type": "scattermapbox"
           }
          ],
          "scatterpolar": [
           {
            "marker": {
             "colorbar": {
              "outlinewidth": 0,
              "ticks": ""
             }
            },
            "type": "scatterpolar"
           }
          ],
          "scatterpolargl": [
           {
            "marker": {
             "colorbar": {
              "outlinewidth": 0,
              "ticks": ""
             }
            },
            "type": "scatterpolargl"
           }
          ],
          "scatterternary": [
           {
            "marker": {
             "colorbar": {
              "outlinewidth": 0,
              "ticks": ""
             }
            },
            "type": "scatterternary"
           }
          ],
          "surface": [
           {
            "colorbar": {
             "outlinewidth": 0,
             "ticks": ""
            },
            "colorscale": [
             [
              0,
              "#0d0887"
             ],
             [
              0.1111111111111111,
              "#46039f"
             ],
             [
              0.2222222222222222,
              "#7201a8"
             ],
             [
              0.3333333333333333,
              "#9c179e"
             ],
             [
              0.4444444444444444,
              "#bd3786"
             ],
             [
              0.5555555555555556,
              "#d8576b"
             ],
             [
              0.6666666666666666,
              "#ed7953"
             ],
             [
              0.7777777777777778,
              "#fb9f3a"
             ],
             [
              0.8888888888888888,
              "#fdca26"
             ],
             [
              1,
              "#f0f921"
             ]
            ],
            "type": "surface"
           }
          ],
          "table": [
           {
            "cells": {
             "fill": {
              "color": "#EBF0F8"
             },
             "line": {
              "color": "white"
             }
            },
            "header": {
             "fill": {
              "color": "#C8D4E3"
             },
             "line": {
              "color": "white"
             }
            },
            "type": "table"
           }
          ]
         },
         "layout": {
          "annotationdefaults": {
           "arrowcolor": "#2a3f5f",
           "arrowhead": 0,
           "arrowwidth": 1
          },
          "autotypenumbers": "strict",
          "coloraxis": {
           "colorbar": {
            "outlinewidth": 0,
            "ticks": ""
           }
          },
          "colorscale": {
           "diverging": [
            [
             0,
             "#8e0152"
            ],
            [
             0.1,
             "#c51b7d"
            ],
            [
             0.2,
             "#de77ae"
            ],
            [
             0.3,
             "#f1b6da"
            ],
            [
             0.4,
             "#fde0ef"
            ],
            [
             0.5,
             "#f7f7f7"
            ],
            [
             0.6,
             "#e6f5d0"
            ],
            [
             0.7,
             "#b8e186"
            ],
            [
             0.8,
             "#7fbc41"
            ],
            [
             0.9,
             "#4d9221"
            ],
            [
             1,
             "#276419"
            ]
           ],
           "sequential": [
            [
             0,
             "#0d0887"
            ],
            [
             0.1111111111111111,
             "#46039f"
            ],
            [
             0.2222222222222222,
             "#7201a8"
            ],
            [
             0.3333333333333333,
             "#9c179e"
            ],
            [
             0.4444444444444444,
             "#bd3786"
            ],
            [
             0.5555555555555556,
             "#d8576b"
            ],
            [
             0.6666666666666666,
             "#ed7953"
            ],
            [
             0.7777777777777778,
             "#fb9f3a"
            ],
            [
             0.8888888888888888,
             "#fdca26"
            ],
            [
             1,
             "#f0f921"
            ]
           ],
           "sequentialminus": [
            [
             0,
             "#0d0887"
            ],
            [
             0.1111111111111111,
             "#46039f"
            ],
            [
             0.2222222222222222,
             "#7201a8"
            ],
            [
             0.3333333333333333,
             "#9c179e"
            ],
            [
             0.4444444444444444,
             "#bd3786"
            ],
            [
             0.5555555555555556,
             "#d8576b"
            ],
            [
             0.6666666666666666,
             "#ed7953"
            ],
            [
             0.7777777777777778,
             "#fb9f3a"
            ],
            [
             0.8888888888888888,
             "#fdca26"
            ],
            [
             1,
             "#f0f921"
            ]
           ]
          },
          "colorway": [
           "#636efa",
           "#EF553B",
           "#00cc96",
           "#ab63fa",
           "#FFA15A",
           "#19d3f3",
           "#FF6692",
           "#B6E880",
           "#FF97FF",
           "#FECB52"
          ],
          "font": {
           "color": "#2a3f5f"
          },
          "geo": {
           "bgcolor": "white",
           "lakecolor": "white",
           "landcolor": "white",
           "showlakes": true,
           "showland": true,
           "subunitcolor": "#C8D4E3"
          },
          "hoverlabel": {
           "align": "left"
          },
          "hovermode": "closest",
          "mapbox": {
           "style": "light"
          },
          "paper_bgcolor": "white",
          "plot_bgcolor": "white",
          "polar": {
           "angularaxis": {
            "gridcolor": "#EBF0F8",
            "linecolor": "#EBF0F8",
            "ticks": ""
           },
           "bgcolor": "white",
           "radialaxis": {
            "gridcolor": "#EBF0F8",
            "linecolor": "#EBF0F8",
            "ticks": ""
           }
          },
          "scene": {
           "xaxis": {
            "backgroundcolor": "white",
            "gridcolor": "#DFE8F3",
            "gridwidth": 2,
            "linecolor": "#EBF0F8",
            "showbackground": true,
            "ticks": "",
            "zerolinecolor": "#EBF0F8"
           },
           "yaxis": {
            "backgroundcolor": "white",
            "gridcolor": "#DFE8F3",
            "gridwidth": 2,
            "linecolor": "#EBF0F8",
            "showbackground": true,
            "ticks": "",
            "zerolinecolor": "#EBF0F8"
           },
           "zaxis": {
            "backgroundcolor": "white",
            "gridcolor": "#DFE8F3",
            "gridwidth": 2,
            "linecolor": "#EBF0F8",
            "showbackground": true,
            "ticks": "",
            "zerolinecolor": "#EBF0F8"
           }
          },
          "shapedefaults": {
           "line": {
            "color": "#2a3f5f"
           }
          },
          "ternary": {
           "aaxis": {
            "gridcolor": "#DFE8F3",
            "linecolor": "#A2B1C6",
            "ticks": ""
           },
           "baxis": {
            "gridcolor": "#DFE8F3",
            "linecolor": "#A2B1C6",
            "ticks": ""
           },
           "bgcolor": "white",
           "caxis": {
            "gridcolor": "#DFE8F3",
            "linecolor": "#A2B1C6",
            "ticks": ""
           }
          },
          "title": {
           "x": 0.05
          },
          "xaxis": {
           "automargin": true,
           "gridcolor": "#EBF0F8",
           "linecolor": "#EBF0F8",
           "ticks": "",
           "title": {
            "standoff": 15
           },
           "zerolinecolor": "#EBF0F8",
           "zerolinewidth": 2
          },
          "yaxis": {
           "automargin": true,
           "gridcolor": "#EBF0F8",
           "linecolor": "#EBF0F8",
           "ticks": "",
           "title": {
            "standoff": 15
           },
           "zerolinecolor": "#EBF0F8",
           "zerolinewidth": 2
          }
         }
        },
        "title": {
         "text": "Metrics Overview for gpt-4o-global-standard-us2"
        },
        "xaxis": {
         "anchor": "y",
         "domain": [
          0,
          0.94
         ],
         "title": {
          "text": "Metric"
         }
        },
        "yaxis": {
         "anchor": "x",
         "domain": [
          0,
          1
         ],
         "range": [
          0,
          5.5
         ],
         "title": {
          "text": "Bar Score"
         }
        },
        "yaxis2": {
         "anchor": "x",
         "overlaying": "y",
         "range": [
          0,
          5.5
         ],
         "side": "right",
         "title": {
          "text": "Line Score"
         }
        }
       }
      }
     },
     "metadata": {},
     "output_type": "display_data"
    }
   ],
   "source": [
    "quality_evals.plot_metrics(metrics_quality)"
   ]
  },
  {
   "cell_type": "markdown",
   "metadata": {},
   "source": [
    "The azure_ai_studio_url variable is used to automatically send the flow and evaluation results to a remote server in Azure AI Studio for tracking. This is particularly useful in production environments where monitoring the performance and outcomes of AI models is crucial. By sending data to Azure AI Studio, you can leverage its tools for detailed analysis, visualization, and comparison of model performance over time, aiding in the continuous improvement of your AI solutions."
   ]
  },
  {
   "cell_type": "code",
   "execution_count": 11,
   "metadata": {},
   "outputs": [
    {
     "data": {
      "text/plain": [
       "'https://ai.azure.com/build/evaluation/a1ab5922-439a-438e-a4bc-8ec71edfe010?wsid=/subscriptions/20c54e6d-27f8-4aeb-8127-3dfa557b9721/resourceGroups/dev-rg-ai-factory/providers/Microsoft.MachineLearningServices/workspaces/dev-factory'"
      ]
     },
     "execution_count": 11,
     "metadata": {},
     "output_type": "execute_result"
    }
   ],
   "source": [
    "# Tracking the evaluation results - Remote \n",
    "azure_ai_studio_url"
   ]
  },
  {
   "cell_type": "markdown",
   "metadata": {},
   "source": [
    "![Azure AI Studio](my_utils/images/AzureAIstudio.png)"
   ]
  },
  {
   "cell_type": "markdown",
   "metadata": {},
   "source": [
    "### 3. Evaluating RAI (Responsible AI)\n",
    "\n",
    "**📊 What metrics are we evaluating?**\n",
    "\n",
    "- **Self Harm Defect Rate**: Measures the frequency of self-harm content in the generated text.\n",
    "  - **Range**: 0 (none) to 1 (high frequency).\n",
    "\n",
    "- **Sexual Defect Rate**: Assesses the occurrence of inappropriate sexual content.\n",
    "  - **Range**: 0 (none) to 1 (high occurrence).\n",
    "\n",
    "- **Hate Unfairness Defect Rate**: Evaluates the presence of hate speech or unfair content towards individuals or groups.\n",
    "  - **Range**: 0 (none) to 1 (high presence).\n",
    "\n",
    "- **Violence Defect Rate**: Measures the level of violent content in the outputs.\n",
    "  - **Range**: 0 (none) to 1 (high level)."
   ]
  },
  {
   "cell_type": "code",
   "execution_count": 12,
   "metadata": {},
   "outputs": [
    {
     "name": "stderr",
     "output_type": "stream",
     "text": [
      "2024-11-11 23:43:23,283 - micro - MainProcess - INFO     Data successfully converted to JSONL format. (gpt_evals.py:_convert_to_jsonl:79)\n",
      "INFO:micro:Data successfully converted to JSONL format.\n"
     ]
    },
    {
     "name": "stderr",
     "output_type": "stream",
     "text": [
      "[2024-11-11 23:43:38 -0600][promptflow._sdk._orchestrator.run_submitter][INFO] - Upload run to cloud: True\n",
      "[2024-11-11 23:43:45 -0600][promptflow._core.entry_meta_generator][WARNING] - Generate meta in current process and timeout won't take effect. Please handle timeout manually outside current process.\n",
      "[2024-11-11 23:43:45 -0600][promptflow._sdk._orchestrator.run_submitter][INFO] - Submitting run promptflow_evals_evaluators_content_safety_content_safety_contentsafetyevaluator_fddhllzt_20241111_234338_375058, log path: C:\\Users\\pablosal\\.promptflow\\.runs\\promptflow_evals_evaluators_content_safety_content_safety_contentsafetyevaluator_fddhllzt_20241111_234338_375058\\logs.txt\n"
     ]
    },
    {
     "name": "stdout",
     "output_type": "stream",
     "text": [
      "Prompt flow service has started...\n",
      "You can view the traces in local from http://127.0.0.1:23333/v1.0/ui/traces/?#run=promptflow_evals_evaluators_content_safety_content_safety_contentsafetyevaluator_fddhllzt_20241111_234338_375058\n",
      "You can view the traces in azure portal since trace destination is set to: azureml://subscriptions/20c54e6d-27f8-4aeb-8127-3dfa557b9721/resourceGroups/dev-rg-ai-factory/providers/Microsoft.MachineLearningServices/workspaces/dev-factory. The link will be printed once the run is finished.\n"
     ]
    },
    {
     "name": "stderr",
     "output_type": "stream",
     "text": [
      "[2024-11-11 23:49:15 -0600][promptflow._sdk._orchestrator.run_submitter][WARNING] - 50 out of 50 runs failed in batch run.\n",
      " Please check out C:/Users/pablosal/.promptflow/.runs/promptflow_evals_evaluators_content_safety_content_safety_contentsafetyevaluator_fddhllzt_20241111_234338_375058 for more details.\n",
      "[2024-11-11 23:49:18 -0600][promptflow._sdk._orchestrator.run_submitter][INFO] - Uploading run 'promptflow_evals_evaluators_content_safety_content_safety_contentsafetyevaluator_fddhllzt_20241111_234338_375058' to cloud...\n",
      "2024-11-11 23:49:30,786 - micro - MainProcess - ERROR    ServiceResponseError: ('Connection aborted.', ConnectionResetError(10054, 'An existing connection was forcibly closed by the remote host', None, 10054, None)) (gpt_evals.py:run_chat_content_safety:177)\n",
      "ERROR:micro:ServiceResponseError: ('Connection aborted.', ConnectionResetError(10054, 'An existing connection was forcibly closed by the remote host', None, 10054, None))\n",
      "2024-11-11 23:49:30,804 - micro - MainProcess - ERROR    Error removing temporary file: [WinError 32] The process cannot access the file because it is being used by another process: 'C:\\\\Users\\\\pablosal\\\\AppData\\\\Local\\\\Temp\\\\tmp0db0j3k1.jsonl' (gpt_evals.py:run_chat_content_safety:188)\n",
      "ERROR:micro:Error removing temporary file: [WinError 32] The process cannot access the file because it is being used by another process: 'C:\\\\Users\\\\pablosal\\\\AppData\\\\Local\\\\Temp\\\\tmp0db0j3k1.jsonl'\n"
     ]
    },
    {
     "ename": "TypeError",
     "evalue": "cannot unpack non-iterable NoneType object",
     "output_type": "error",
     "traceback": [
      "\u001b[1;31m---------------------------------------------------------------------------\u001b[0m",
      "\u001b[1;31mTypeError\u001b[0m                                 Traceback (most recent call last)",
      "Cell \u001b[1;32mIn[12], line 1\u001b[0m\n\u001b[1;32m----> 1\u001b[0m metrics, azure_ai_studio_url \u001b[38;5;241m=\u001b[39m quality_evals\u001b[38;5;241m.\u001b[39mrun_chat_content_safety(data_input\u001b[38;5;241m=\u001b[39m\u001b[38;5;124mr\u001b[39m\u001b[38;5;124m\"\u001b[39m\u001b[38;5;124mC:\u001b[39m\u001b[38;5;124m\\\u001b[39m\u001b[38;5;124mUsers\u001b[39m\u001b[38;5;124m\\\u001b[39m\u001b[38;5;124mpablosal\u001b[39m\u001b[38;5;124m\\\u001b[39m\u001b[38;5;124mDesktop\u001b[39m\u001b[38;5;124m\\\u001b[39m\u001b[38;5;124mgbb-ai-llm-slm-evaluation-framework\u001b[39m\u001b[38;5;124m\\\u001b[39m\u001b[38;5;124mmy_utils\u001b[39m\u001b[38;5;124m\\\u001b[39m\u001b[38;5;124mdata\u001b[39m\u001b[38;5;124m\\\u001b[39m\u001b[38;5;124mevaluations\u001b[39m\u001b[38;5;124m\\\u001b[39m\u001b[38;5;124mdataframe\u001b[39m\u001b[38;5;124m\\\u001b[39m\u001b[38;5;124mgolden_eval_dataset.csv\u001b[39m\u001b[38;5;124m\"\u001b[39m)\n",
      "\u001b[1;31mTypeError\u001b[0m: cannot unpack non-iterable NoneType object"
     ]
    }
   ],
   "source": [
    "metrics, azure_ai_studio_url = quality_evals.run_chat_content_safety(data_input=r\"C:\\Users\\pablosal\\Desktop\\gbb-ai-llm-slm-evaluation-framework\\my_utils\\data\\evaluations\\dataframe\\golden_eval_dataset.csv\")"
   ]
  },
  {
   "cell_type": "code",
   "execution_count": 17,
   "metadata": {},
   "outputs": [
    {
     "data": {
      "application/vnd.plotly.v1+json": {
       "config": {
        "plotlyServerURL": "https://plot.ly"
       },
       "data": [
        {
         "name": "Score (Bar)",
         "type": "bar",
         "x": [
          "sexual_defect_rate",
          "self_harm_defect_rate",
          "hate_unfairness_defect_rate",
          "violence_defect_rate"
         ],
         "xaxis": "x",
         "y": [
          0,
          0,
          0,
          0
         ],
         "yaxis": "y"
        },
        {
         "mode": "lines+markers",
         "name": "Score (Line)",
         "type": "scatter",
         "x": [
          "sexual_defect_rate",
          "self_harm_defect_rate",
          "hate_unfairness_defect_rate",
          "violence_defect_rate"
         ],
         "xaxis": "x",
         "y": [
          0,
          0,
          0,
          0
         ],
         "yaxis": "y2"
        }
       ],
       "layout": {
        "legend": {
         "title": {
          "text": "Metric Type"
         }
        },
        "template": {
         "data": {
          "bar": [
           {
            "error_x": {
             "color": "#2a3f5f"
            },
            "error_y": {
             "color": "#2a3f5f"
            },
            "marker": {
             "line": {
              "color": "white",
              "width": 0.5
             },
             "pattern": {
              "fillmode": "overlay",
              "size": 10,
              "solidity": 0.2
             }
            },
            "type": "bar"
           }
          ],
          "barpolar": [
           {
            "marker": {
             "line": {
              "color": "white",
              "width": 0.5
             },
             "pattern": {
              "fillmode": "overlay",
              "size": 10,
              "solidity": 0.2
             }
            },
            "type": "barpolar"
           }
          ],
          "carpet": [
           {
            "aaxis": {
             "endlinecolor": "#2a3f5f",
             "gridcolor": "#C8D4E3",
             "linecolor": "#C8D4E3",
             "minorgridcolor": "#C8D4E3",
             "startlinecolor": "#2a3f5f"
            },
            "baxis": {
             "endlinecolor": "#2a3f5f",
             "gridcolor": "#C8D4E3",
             "linecolor": "#C8D4E3",
             "minorgridcolor": "#C8D4E3",
             "startlinecolor": "#2a3f5f"
            },
            "type": "carpet"
           }
          ],
          "choropleth": [
           {
            "colorbar": {
             "outlinewidth": 0,
             "ticks": ""
            },
            "type": "choropleth"
           }
          ],
          "contour": [
           {
            "colorbar": {
             "outlinewidth": 0,
             "ticks": ""
            },
            "colorscale": [
             [
              0,
              "#0d0887"
             ],
             [
              0.1111111111111111,
              "#46039f"
             ],
             [
              0.2222222222222222,
              "#7201a8"
             ],
             [
              0.3333333333333333,
              "#9c179e"
             ],
             [
              0.4444444444444444,
              "#bd3786"
             ],
             [
              0.5555555555555556,
              "#d8576b"
             ],
             [
              0.6666666666666666,
              "#ed7953"
             ],
             [
              0.7777777777777778,
              "#fb9f3a"
             ],
             [
              0.8888888888888888,
              "#fdca26"
             ],
             [
              1,
              "#f0f921"
             ]
            ],
            "type": "contour"
           }
          ],
          "contourcarpet": [
           {
            "colorbar": {
             "outlinewidth": 0,
             "ticks": ""
            },
            "type": "contourcarpet"
           }
          ],
          "heatmap": [
           {
            "colorbar": {
             "outlinewidth": 0,
             "ticks": ""
            },
            "colorscale": [
             [
              0,
              "#0d0887"
             ],
             [
              0.1111111111111111,
              "#46039f"
             ],
             [
              0.2222222222222222,
              "#7201a8"
             ],
             [
              0.3333333333333333,
              "#9c179e"
             ],
             [
              0.4444444444444444,
              "#bd3786"
             ],
             [
              0.5555555555555556,
              "#d8576b"
             ],
             [
              0.6666666666666666,
              "#ed7953"
             ],
             [
              0.7777777777777778,
              "#fb9f3a"
             ],
             [
              0.8888888888888888,
              "#fdca26"
             ],
             [
              1,
              "#f0f921"
             ]
            ],
            "type": "heatmap"
           }
          ],
          "heatmapgl": [
           {
            "colorbar": {
             "outlinewidth": 0,
             "ticks": ""
            },
            "colorscale": [
             [
              0,
              "#0d0887"
             ],
             [
              0.1111111111111111,
              "#46039f"
             ],
             [
              0.2222222222222222,
              "#7201a8"
             ],
             [
              0.3333333333333333,
              "#9c179e"
             ],
             [
              0.4444444444444444,
              "#bd3786"
             ],
             [
              0.5555555555555556,
              "#d8576b"
             ],
             [
              0.6666666666666666,
              "#ed7953"
             ],
             [
              0.7777777777777778,
              "#fb9f3a"
             ],
             [
              0.8888888888888888,
              "#fdca26"
             ],
             [
              1,
              "#f0f921"
             ]
            ],
            "type": "heatmapgl"
           }
          ],
          "histogram": [
           {
            "marker": {
             "pattern": {
              "fillmode": "overlay",
              "size": 10,
              "solidity": 0.2
             }
            },
            "type": "histogram"
           }
          ],
          "histogram2d": [
           {
            "colorbar": {
             "outlinewidth": 0,
             "ticks": ""
            },
            "colorscale": [
             [
              0,
              "#0d0887"
             ],
             [
              0.1111111111111111,
              "#46039f"
             ],
             [
              0.2222222222222222,
              "#7201a8"
             ],
             [
              0.3333333333333333,
              "#9c179e"
             ],
             [
              0.4444444444444444,
              "#bd3786"
             ],
             [
              0.5555555555555556,
              "#d8576b"
             ],
             [
              0.6666666666666666,
              "#ed7953"
             ],
             [
              0.7777777777777778,
              "#fb9f3a"
             ],
             [
              0.8888888888888888,
              "#fdca26"
             ],
             [
              1,
              "#f0f921"
             ]
            ],
            "type": "histogram2d"
           }
          ],
          "histogram2dcontour": [
           {
            "colorbar": {
             "outlinewidth": 0,
             "ticks": ""
            },
            "colorscale": [
             [
              0,
              "#0d0887"
             ],
             [
              0.1111111111111111,
              "#46039f"
             ],
             [
              0.2222222222222222,
              "#7201a8"
             ],
             [
              0.3333333333333333,
              "#9c179e"
             ],
             [
              0.4444444444444444,
              "#bd3786"
             ],
             [
              0.5555555555555556,
              "#d8576b"
             ],
             [
              0.6666666666666666,
              "#ed7953"
             ],
             [
              0.7777777777777778,
              "#fb9f3a"
             ],
             [
              0.8888888888888888,
              "#fdca26"
             ],
             [
              1,
              "#f0f921"
             ]
            ],
            "type": "histogram2dcontour"
           }
          ],
          "mesh3d": [
           {
            "colorbar": {
             "outlinewidth": 0,
             "ticks": ""
            },
            "type": "mesh3d"
           }
          ],
          "parcoords": [
           {
            "line": {
             "colorbar": {
              "outlinewidth": 0,
              "ticks": ""
             }
            },
            "type": "parcoords"
           }
          ],
          "pie": [
           {
            "automargin": true,
            "type": "pie"
           }
          ],
          "scatter": [
           {
            "fillpattern": {
             "fillmode": "overlay",
             "size": 10,
             "solidity": 0.2
            },
            "type": "scatter"
           }
          ],
          "scatter3d": [
           {
            "line": {
             "colorbar": {
              "outlinewidth": 0,
              "ticks": ""
             }
            },
            "marker": {
             "colorbar": {
              "outlinewidth": 0,
              "ticks": ""
             }
            },
            "type": "scatter3d"
           }
          ],
          "scattercarpet": [
           {
            "marker": {
             "colorbar": {
              "outlinewidth": 0,
              "ticks": ""
             }
            },
            "type": "scattercarpet"
           }
          ],
          "scattergeo": [
           {
            "marker": {
             "colorbar": {
              "outlinewidth": 0,
              "ticks": ""
             }
            },
            "type": "scattergeo"
           }
          ],
          "scattergl": [
           {
            "marker": {
             "colorbar": {
              "outlinewidth": 0,
              "ticks": ""
             }
            },
            "type": "scattergl"
           }
          ],
          "scattermapbox": [
           {
            "marker": {
             "colorbar": {
              "outlinewidth": 0,
              "ticks": ""
             }
            },
            "type": "scattermapbox"
           }
          ],
          "scatterpolar": [
           {
            "marker": {
             "colorbar": {
              "outlinewidth": 0,
              "ticks": ""
             }
            },
            "type": "scatterpolar"
           }
          ],
          "scatterpolargl": [
           {
            "marker": {
             "colorbar": {
              "outlinewidth": 0,
              "ticks": ""
             }
            },
            "type": "scatterpolargl"
           }
          ],
          "scatterternary": [
           {
            "marker": {
             "colorbar": {
              "outlinewidth": 0,
              "ticks": ""
             }
            },
            "type": "scatterternary"
           }
          ],
          "surface": [
           {
            "colorbar": {
             "outlinewidth": 0,
             "ticks": ""
            },
            "colorscale": [
             [
              0,
              "#0d0887"
             ],
             [
              0.1111111111111111,
              "#46039f"
             ],
             [
              0.2222222222222222,
              "#7201a8"
             ],
             [
              0.3333333333333333,
              "#9c179e"
             ],
             [
              0.4444444444444444,
              "#bd3786"
             ],
             [
              0.5555555555555556,
              "#d8576b"
             ],
             [
              0.6666666666666666,
              "#ed7953"
             ],
             [
              0.7777777777777778,
              "#fb9f3a"
             ],
             [
              0.8888888888888888,
              "#fdca26"
             ],
             [
              1,
              "#f0f921"
             ]
            ],
            "type": "surface"
           }
          ],
          "table": [
           {
            "cells": {
             "fill": {
              "color": "#EBF0F8"
             },
             "line": {
              "color": "white"
             }
            },
            "header": {
             "fill": {
              "color": "#C8D4E3"
             },
             "line": {
              "color": "white"
             }
            },
            "type": "table"
           }
          ]
         },
         "layout": {
          "annotationdefaults": {
           "arrowcolor": "#2a3f5f",
           "arrowhead": 0,
           "arrowwidth": 1
          },
          "autotypenumbers": "strict",
          "coloraxis": {
           "colorbar": {
            "outlinewidth": 0,
            "ticks": ""
           }
          },
          "colorscale": {
           "diverging": [
            [
             0,
             "#8e0152"
            ],
            [
             0.1,
             "#c51b7d"
            ],
            [
             0.2,
             "#de77ae"
            ],
            [
             0.3,
             "#f1b6da"
            ],
            [
             0.4,
             "#fde0ef"
            ],
            [
             0.5,
             "#f7f7f7"
            ],
            [
             0.6,
             "#e6f5d0"
            ],
            [
             0.7,
             "#b8e186"
            ],
            [
             0.8,
             "#7fbc41"
            ],
            [
             0.9,
             "#4d9221"
            ],
            [
             1,
             "#276419"
            ]
           ],
           "sequential": [
            [
             0,
             "#0d0887"
            ],
            [
             0.1111111111111111,
             "#46039f"
            ],
            [
             0.2222222222222222,
             "#7201a8"
            ],
            [
             0.3333333333333333,
             "#9c179e"
            ],
            [
             0.4444444444444444,
             "#bd3786"
            ],
            [
             0.5555555555555556,
             "#d8576b"
            ],
            [
             0.6666666666666666,
             "#ed7953"
            ],
            [
             0.7777777777777778,
             "#fb9f3a"
            ],
            [
             0.8888888888888888,
             "#fdca26"
            ],
            [
             1,
             "#f0f921"
            ]
           ],
           "sequentialminus": [
            [
             0,
             "#0d0887"
            ],
            [
             0.1111111111111111,
             "#46039f"
            ],
            [
             0.2222222222222222,
             "#7201a8"
            ],
            [
             0.3333333333333333,
             "#9c179e"
            ],
            [
             0.4444444444444444,
             "#bd3786"
            ],
            [
             0.5555555555555556,
             "#d8576b"
            ],
            [
             0.6666666666666666,
             "#ed7953"
            ],
            [
             0.7777777777777778,
             "#fb9f3a"
            ],
            [
             0.8888888888888888,
             "#fdca26"
            ],
            [
             1,
             "#f0f921"
            ]
           ]
          },
          "colorway": [
           "#636efa",
           "#EF553B",
           "#00cc96",
           "#ab63fa",
           "#FFA15A",
           "#19d3f3",
           "#FF6692",
           "#B6E880",
           "#FF97FF",
           "#FECB52"
          ],
          "font": {
           "color": "#2a3f5f"
          },
          "geo": {
           "bgcolor": "white",
           "lakecolor": "white",
           "landcolor": "white",
           "showlakes": true,
           "showland": true,
           "subunitcolor": "#C8D4E3"
          },
          "hoverlabel": {
           "align": "left"
          },
          "hovermode": "closest",
          "mapbox": {
           "style": "light"
          },
          "paper_bgcolor": "white",
          "plot_bgcolor": "white",
          "polar": {
           "angularaxis": {
            "gridcolor": "#EBF0F8",
            "linecolor": "#EBF0F8",
            "ticks": ""
           },
           "bgcolor": "white",
           "radialaxis": {
            "gridcolor": "#EBF0F8",
            "linecolor": "#EBF0F8",
            "ticks": ""
           }
          },
          "scene": {
           "xaxis": {
            "backgroundcolor": "white",
            "gridcolor": "#DFE8F3",
            "gridwidth": 2,
            "linecolor": "#EBF0F8",
            "showbackground": true,
            "ticks": "",
            "zerolinecolor": "#EBF0F8"
           },
           "yaxis": {
            "backgroundcolor": "white",
            "gridcolor": "#DFE8F3",
            "gridwidth": 2,
            "linecolor": "#EBF0F8",
            "showbackground": true,
            "ticks": "",
            "zerolinecolor": "#EBF0F8"
           },
           "zaxis": {
            "backgroundcolor": "white",
            "gridcolor": "#DFE8F3",
            "gridwidth": 2,
            "linecolor": "#EBF0F8",
            "showbackground": true,
            "ticks": "",
            "zerolinecolor": "#EBF0F8"
           }
          },
          "shapedefaults": {
           "line": {
            "color": "#2a3f5f"
           }
          },
          "ternary": {
           "aaxis": {
            "gridcolor": "#DFE8F3",
            "linecolor": "#A2B1C6",
            "ticks": ""
           },
           "baxis": {
            "gridcolor": "#DFE8F3",
            "linecolor": "#A2B1C6",
            "ticks": ""
           },
           "bgcolor": "white",
           "caxis": {
            "gridcolor": "#DFE8F3",
            "linecolor": "#A2B1C6",
            "ticks": ""
           }
          },
          "title": {
           "x": 0.05
          },
          "xaxis": {
           "automargin": true,
           "gridcolor": "#EBF0F8",
           "linecolor": "#EBF0F8",
           "ticks": "",
           "title": {
            "standoff": 15
           },
           "zerolinecolor": "#EBF0F8",
           "zerolinewidth": 2
          },
          "yaxis": {
           "automargin": true,
           "gridcolor": "#EBF0F8",
           "linecolor": "#EBF0F8",
           "ticks": "",
           "title": {
            "standoff": 15
           },
           "zerolinecolor": "#EBF0F8",
           "zerolinewidth": 2
          }
         }
        },
        "title": {
         "text": "Metrics Overview for gpt-4o-2024-05-13"
        },
        "xaxis": {
         "anchor": "y",
         "domain": [
          0,
          0.94
         ],
         "title": {
          "text": "Metric"
         }
        },
        "yaxis": {
         "anchor": "x",
         "domain": [
          0,
          1
         ],
         "range": [
          0,
          1
         ],
         "title": {
          "text": "Bar Score"
         }
        },
        "yaxis2": {
         "anchor": "x",
         "overlaying": "y",
         "range": [
          0,
          1
         ],
         "side": "right",
         "title": {
          "text": "Line Score"
         }
        }
       }
      }
     },
     "metadata": {},
     "output_type": "display_data"
    }
   ],
   "source": [
    "quality_evals.plot_metrics(metrics)"
   ]
  },
  {
   "cell_type": "markdown",
   "metadata": {},
   "source": [
    "## Customizing the Validation to Fit Your Scenario\n",
    "\n",
    "#### Scenario 1: Combine Built-in PromptFlow Custom Evaluation for Contextual Accuracy in Q&A Matching\n",
    "\n",
    "**Objective**: Assess the performance of our AI bot (LLM/SLM) in responding to user queries, focusing on the accuracy of responses and contextual understanding, with a predefined ground truth for comparison.\n",
    "\n",
    "**Setup**:\n",
    "- **Input**: User queries encompassing a wide range of topics and complexities.\n",
    "- **AI Bot**: Our system tasked with providing responses to the queries.\n",
    "\n",
    "**Evaluation Criteria**:\n",
    "- **Contextual Understanding**: Evaluates the AI bot's ability to comprehend the context and intent behind each query.\n",
    "- **Response Accuracy**: Measures how closely the AI bot's responses align with the expected answers based on the ground truth.\n",
    "\n",
    "**Goal**: Determine the effectiveness of our AI bot in delivering contextually accurate and precise responses to user queries, highlighting areas for improvement."
   ]
  },
  {
   "cell_type": "code",
   "execution_count": 4,
   "metadata": {},
   "outputs": [],
   "source": [
    "from promptflow.evals.evaluators import (RelevanceEvaluator, F1ScoreEvaluator, GroundednessEvaluator, ChatEvaluator, \n",
    "                                         ViolenceEvaluator, SexualEvaluator, SelfHarmEvaluator, HateUnfairnessEvaluator, \n",
    "                                         CoherenceEvaluator, FluencyEvaluator, SimilarityEvaluator, QAEvaluator,\n",
    "                                        ContentSafetyEvaluator, ContentSafetyChatEvaluator)"
   ]
  },
  {
   "cell_type": "code",
   "execution_count": 5,
   "metadata": {},
   "outputs": [],
   "source": [
    "import os\n",
    "from promptflow.core import AzureOpenAIModelConfiguration\n",
    "\n",
    "# Initialize Azure OpenAI Connection with your environment variables\n",
    "model_config = AzureOpenAIModelConfiguration(\n",
    "    azure_endpoint=os.environ.get(\"AZURE_AOAI_ENDPOINT\"),\n",
    "    api_key=os.environ.get(\"AZURE_AOAI_API_KEY\"),\n",
    "    azure_deployment=os.environ.get(\"AZURE_AOAI_COMPLETION_MODEL_DEPLOYMENT_ID\"),\n",
    "    api_version=os.environ.get(\"AZURE_AOAI_DEPLOYMENT_VERSION\"),\n",
    ")"
   ]
  },
  {
   "cell_type": "code",
   "execution_count": 6,
   "metadata": {},
   "outputs": [],
   "source": [
    "qa_eval = F1ScoreEvaluator()\n",
    "context_similarity = SimilarityEvaluator(model_config)\n",
    "azure_ai_project = {\n",
    "    \"subscription_id\": os.environ.get(\"AZURE_AI_STUDIO_SUBSCRIPTION_ID\"),\n",
    "    \"resource_group_name\": os.environ.get(\"AZURE_AI_STUDIO_RESOURCE_GROUP_NAME\"),\n",
    "    \"project_name\": os.environ.get(\"AZURE_AI_STUDIO_PROJECT_NAME\"),\n",
    "}"
   ]
  },
  {
   "cell_type": "code",
   "execution_count": 7,
   "metadata": {},
   "outputs": [],
   "source": [
    "from promptflow.evals.evaluate import evaluate"
   ]
  },
  {
   "cell_type": "code",
   "execution_count": 41,
   "metadata": {},
   "outputs": [
    {
     "name": "stderr",
     "output_type": "stream",
     "text": [
      "[2024-07-17 09:08:40 -0500][promptflow._sdk._orchestrator.run_submitter][INFO] - Upload run to cloud: True\n",
      "[2024-07-17 09:08:40 -0500][promptflow._sdk._orchestrator.run_submitter][INFO] - Upload run to cloud: True\n",
      "[2024-07-17 09:08:45 -0500][promptflow._core.entry_meta_generator][WARNING] - Generate meta in current process and timeout won't take effect. Please handle timeout manually outside current process.\n",
      "[2024-07-17 09:08:45 -0500][promptflow._sdk._orchestrator.run_submitter][INFO] - Submitting run promptflow_evals_evaluators_f1_score_f1_score_f1scoreevaluator_j9cfg500_20240717_090840_451542, log path: C:\\Users\\pablosal\\.promptflow\\.runs\\promptflow_evals_evaluators_f1_score_f1_score_f1scoreevaluator_j9cfg500_20240717_090840_451542\\logs.txt\n"
     ]
    },
    {
     "name": "stdout",
     "output_type": "stream",
     "text": [
      "Prompt flow service has started...\n",
      "You can view the traces in local from http://127.0.0.1:23333/v1.0/ui/traces/?#run=promptflow_evals_evaluators_f1_score_f1_score_f1scoreevaluator_j9cfg500_20240717_090840_451542\n",
      "You can view the traces in azure portal since trace destination is set to: azureml://subscriptions/1a4bb722-f155-4502-8033-022a9eb1481b/resourceGroups/dev/providers/Microsoft.MachineLearningServices/workspaces/test-env. The link will be printed once the run is finished.\n"
     ]
    },
    {
     "name": "stderr",
     "output_type": "stream",
     "text": [
      "[2024-07-17 09:08:45 -0500][promptflow._core.entry_meta_generator][WARNING] - Generate meta in current process and timeout won't take effect. Please handle timeout manually outside current process.\n",
      "[2024-07-17 09:08:45 -0500][promptflow._sdk._orchestrator.run_submitter][INFO] - Submitting run promptflow_evals_evaluators_similarity_similarity_similarityevaluator_oplavj6t_20240717_090840_450424, log path: C:\\Users\\pablosal\\.promptflow\\.runs\\promptflow_evals_evaluators_similarity_similarity_similarityevaluator_oplavj6t_20240717_090840_450424\\logs.txt\n"
     ]
    },
    {
     "name": "stdout",
     "output_type": "stream",
     "text": [
      "Prompt flow service has started...\n",
      "You can view the traces in local from http://127.0.0.1:23333/v1.0/ui/traces/?#run=promptflow_evals_evaluators_similarity_similarity_similarityevaluator_oplavj6t_20240717_090840_450424\n",
      "You can view the traces in azure portal since trace destination is set to: azureml://subscriptions/1a4bb722-f155-4502-8033-022a9eb1481b/resourceGroups/dev/providers/Microsoft.MachineLearningServices/workspaces/test-env. The link will be printed once the run is finished.\n"
     ]
    },
    {
     "name": "stderr",
     "output_type": "stream",
     "text": [
      "[2024-07-17 09:09:06 -0500][promptflow._sdk._orchestrator.run_submitter][INFO] - Uploading run 'promptflow_evals_evaluators_f1_score_f1_score_f1scoreevaluator_j9cfg500_20240717_090840_451542' to cloud...\n"
     ]
    },
    {
     "name": "stdout",
     "output_type": "stream",
     "text": [
      "2024-07-17 09:09:09 -0500   28312 execution.bulk     INFO     Process name(SpawnProcess-30)-Process id(38572)-Line number(1) completed.\n",
      "2024-07-17 09:09:09 -0500   28312 execution.bulk     INFO     Process name(SpawnProcess-30)-Process id(38572)-Line number(2) start execution.\n",
      "2024-07-17 09:09:10 -0500   28312 execution.bulk     INFO     Process name(SpawnProcess-30)-Process id(38572)-Line number(2) completed.\n",
      "2024-07-17 09:09:10 -0500   28312 execution.bulk     INFO     Process name(SpawnProcess-30)-Process id(38572)-Line number(3) start execution.\n",
      "2024-07-17 09:09:10 -0500   28312 execution.bulk     INFO     Finished 3 / 30 lines.\n",
      "2024-07-17 09:09:10 -0500   28312 execution.bulk     INFO     Average execution time for completed lines: 5.72 seconds. Estimated time for incomplete lines: 154.44 seconds.\n",
      "2024-07-17 09:09:11 -0500   28312 execution.bulk     INFO     Process name(SpawnProcess-30)-Process id(38572)-Line number(3) completed.\n",
      "2024-07-17 09:09:11 -0500   28312 execution.bulk     INFO     Process name(SpawnProcess-30)-Process id(38572)-Line number(4) start execution.\n",
      "2024-07-17 09:09:12 -0500   28312 execution.bulk     INFO     Process name(SpawnProcess-30)-Process id(38572)-Line number(4) completed.\n",
      "2024-07-17 09:09:12 -0500   28312 execution.bulk     INFO     Process name(SpawnProcess-30)-Process id(38572)-Line number(5) start execution.\n"
     ]
    },
    {
     "name": "stderr",
     "output_type": "stream",
     "text": [
      "[2024-07-17 09:09:12 -0500][promptflow._sdk._orchestrator.run_submitter][INFO] - Updating run 'promptflow_evals_evaluators_f1_score_f1_score_f1scoreevaluator_j9cfg500_20240717_090840_451542' portal url to 'https://ai.azure.com/projectflows/trace/run/promptflow_evals_evaluators_f1_score_f1_score_f1scoreevaluator_j9cfg500_20240717_090840_451542/details?wsid=/subscriptions/1a4bb722-f155-4502-8033-022a9eb1481b/resourcegroups/dev/providers/Microsoft.MachineLearningServices/workspaces/test-env'.\n"
     ]
    },
    {
     "name": "stdout",
     "output_type": "stream",
     "text": [
      "Portal url: https://ai.azure.com/projectflows/trace/run/promptflow_evals_evaluators_f1_score_f1_score_f1scoreevaluator_j9cfg500_20240717_090840_451542/details?wsid=/subscriptions/1a4bb722-f155-4502-8033-022a9eb1481b/resourcegroups/dev/providers/Microsoft.MachineLearningServices/workspaces/test-env\n",
      "2024-07-17 09:08:45 -0500   28312 execution.bulk     INFO     Current thread is not main thread, skip signal handler registration in BatchEngine.\n",
      "2024-07-17 09:08:45 -0500   28312 execution.bulk     INFO     Current system's available memory is 1098.0390625MB, memory consumption of current process is 683.40234375MB, estimated available worker count is 1098.0390625/683.40234375 = 1\n",
      "2024-07-17 09:08:45 -0500   28312 execution.bulk     INFO     Set process count to 1 by taking the minimum value among the factors of {'default_worker_count': 4, 'row_count': 30, 'estimated_worker_count_based_on_memory_usage': 1}.\n",
      "2024-07-17 09:08:53 -0500   28312 execution.bulk     INFO     Process name(SpawnProcess-29)-Process id(10440)-Line number(0) start execution.\n",
      "2024-07-17 09:08:59 -0500   28312 execution.bulk     INFO     Process name(SpawnProcess-29)-Process id(10440)-Line number(0) completed.\n",
      "2024-07-17 09:08:59 -0500   28312 execution.bulk     INFO     Process name(SpawnProcess-29)-Process id(10440)-Line number(1) start execution.\n",
      "2024-07-17 09:08:59 -0500   28312 execution.bulk     INFO     Process name(SpawnProcess-29)-Process id(10440)-Line number(1) completed.\n",
      "2024-07-17 09:08:59 -0500   28312 execution.bulk     INFO     Process name(SpawnProcess-29)-Process id(10440)-Line number(2) start execution.\n",
      "2024-07-17 09:08:59 -0500   28312 execution.bulk     INFO     Process name(SpawnProcess-29)-Process id(10440)-Line number(2) completed.\n",
      "2024-07-17 09:08:59 -0500   28312 execution.bulk     INFO     Process name(SpawnProcess-29)-Process id(10440)-Line number(3) start execution.\n",
      "2024-07-17 09:08:59 -0500   28312 execution.bulk     INFO     Process name(SpawnProcess-29)-Process id(10440)-Line number(3) completed.\n",
      "2024-07-17 09:08:59 -0500   28312 execution.bulk     INFO     Process name(SpawnProcess-29)-Process id(10440)-Line number(4) start execution.\n",
      "2024-07-17 09:08:59 -0500   28312 execution.bulk     INFO     Process name(SpawnProcess-29)-Process id(10440)-Line number(4) completed.\n",
      "2024-07-17 09:08:59 -0500   28312 execution.bulk     INFO     Process name(SpawnProcess-29)-Process id(10440)-Line number(5) start execution.\n",
      "2024-07-17 09:08:59 -0500   28312 execution.bulk     INFO     Process name(SpawnProcess-29)-Process id(10440)-Line number(5) completed.\n",
      "2024-07-17 09:08:59 -0500   28312 execution.bulk     INFO     Process name(SpawnProcess-29)-Process id(10440)-Line number(6) start execution.\n",
      "2024-07-17 09:08:59 -0500   28312 execution.bulk     INFO     Process name(SpawnProcess-29)-Process id(10440)-Line number(6) completed.\n",
      "2024-07-17 09:08:59 -0500   28312 execution.bulk     INFO     Process name(SpawnProcess-29)-Process id(10440)-Line number(7) start execution.\n",
      "2024-07-17 09:08:59 -0500   28312 execution.bulk     INFO     Process name(SpawnProcess-29)-Process id(10440)-Line number(7) completed.\n",
      "2024-07-17 09:08:59 -0500   28312 execution.bulk     INFO     Process name(SpawnProcess-29)-Process id(10440)-Line number(8) start execution.\n",
      "2024-07-17 09:08:59 -0500   28312 execution.bulk     INFO     Process name(SpawnProcess-29)-Process id(10440)-Line number(8) completed.\n",
      "2024-07-17 09:08:59 -0500   28312 execution.bulk     INFO     Process name(SpawnProcess-29)-Process id(10440)-Line number(9) start execution.\n",
      "2024-07-17 09:08:59 -0500   28312 execution.bulk     INFO     Process name(SpawnProcess-29)-Process id(10440)-Line number(9) completed.\n",
      "2024-07-17 09:08:59 -0500   28312 execution.bulk     INFO     Process name(SpawnProcess-29)-Process id(10440)-Line number(10) start execution.\n",
      "2024-07-17 09:08:59 -0500   28312 execution.bulk     INFO     Process name(SpawnProcess-29)-Process id(10440)-Line number(10) completed.\n",
      "2024-07-17 09:08:59 -0500   28312 execution.bulk     INFO     Process name(SpawnProcess-29)-Process id(10440)-Line number(11) start execution.\n",
      "2024-07-17 09:08:59 -0500   28312 execution.bulk     INFO     Process name(SpawnProcess-29)-Process id(10440)-Line number(11) completed.\n",
      "2024-07-17 09:08:59 -0500   28312 execution.bulk     INFO     Process name(SpawnProcess-29)-Process id(10440)-Line number(12) start execution.\n",
      "2024-07-17 09:08:59 -0500   28312 execution.bulk     INFO     Process name(SpawnProcess-29)-Process id(10440)-Line number(12) completed.\n",
      "2024-07-17 09:08:59 -0500   28312 execution.bulk     INFO     Process name(SpawnProcess-29)-Process id(10440)-Line number(13) start execution.\n",
      "2024-07-17 09:08:59 -0500   28312 execution.bulk     INFO     Process name(SpawnProcess-29)-Process id(10440)-Line number(13) completed.\n",
      "2024-07-17 09:08:59 -0500   28312 execution.bulk     INFO     Process name(SpawnProcess-29)-Process id(10440)-Line number(14) start execution.\n",
      "2024-07-17 09:08:59 -0500   28312 execution.bulk     INFO     Finished 14 / 30 lines.\n",
      "2024-07-17 09:08:59 -0500   28312 execution.bulk     INFO     Average execution time for completed lines: 0.43 seconds. Estimated time for incomplete lines: 6.88 seconds.\n",
      "2024-07-17 09:08:59 -0500   28312 execution.bulk     INFO     Process name(SpawnProcess-29)-Process id(10440)-Line number(14) completed.\n",
      "2024-07-17 09:08:59 -0500   28312 execution.bulk     INFO     Process name(SpawnProcess-29)-Process id(10440)-Line number(15) start execution.\n",
      "2024-07-17 09:08:59 -0500   28312 execution.bulk     INFO     Process name(SpawnProcess-29)-Process id(10440)-Line number(15) completed.\n",
      "2024-07-17 09:08:59 -0500   28312 execution.bulk     INFO     Process name(SpawnProcess-29)-Process id(10440)-Line number(16) start execution.\n",
      "2024-07-17 09:08:59 -0500   28312 execution.bulk     INFO     Process name(SpawnProcess-29)-Process id(10440)-Line number(16) completed.\n",
      "2024-07-17 09:08:59 -0500   28312 execution.bulk     INFO     Process name(SpawnProcess-29)-Process id(10440)-Line number(17) start execution.\n",
      "2024-07-17 09:08:59 -0500   28312 execution.bulk     INFO     Process name(SpawnProcess-29)-Process id(10440)-Line number(17) completed.\n",
      "2024-07-17 09:08:59 -0500   28312 execution.bulk     INFO     Process name(SpawnProcess-29)-Process id(10440)-Line number(18) start execution.\n",
      "2024-07-17 09:08:59 -0500   28312 execution.bulk     INFO     Process name(SpawnProcess-29)-Process id(10440)-Line number(18) completed.\n",
      "2024-07-17 09:08:59 -0500   28312 execution.bulk     INFO     Process name(SpawnProcess-29)-Process id(10440)-Line number(19) start execution.\n",
      "2024-07-17 09:08:59 -0500   28312 execution.bulk     INFO     Process name(SpawnProcess-29)-Process id(10440)-Line number(19) completed.\n",
      "2024-07-17 09:08:59 -0500   28312 execution.bulk     INFO     Process name(SpawnProcess-29)-Process id(10440)-Line number(20) start execution.\n",
      "2024-07-17 09:08:59 -0500   28312 execution.bulk     INFO     Process name(SpawnProcess-29)-Process id(10440)-Line number(20) completed.\n",
      "2024-07-17 09:08:59 -0500   28312 execution.bulk     INFO     Process name(SpawnProcess-29)-Process id(10440)-Line number(21) start execution.\n",
      "2024-07-17 09:08:59 -0500   28312 execution.bulk     INFO     Process name(SpawnProcess-29)-Process id(10440)-Line number(21) completed.\n",
      "2024-07-17 09:08:59 -0500   28312 execution.bulk     INFO     Process name(SpawnProcess-29)-Process id(10440)-Line number(22) start execution.\n",
      "2024-07-17 09:08:59 -0500   28312 execution.bulk     INFO     Process name(SpawnProcess-29)-Process id(10440)-Line number(22) completed.\n",
      "2024-07-17 09:08:59 -0500   28312 execution.bulk     INFO     Process name(SpawnProcess-29)-Process id(10440)-Line number(23) start execution.\n",
      "2024-07-17 09:08:59 -0500   28312 execution.bulk     INFO     Process name(SpawnProcess-29)-Process id(10440)-Line number(23) completed.\n",
      "2024-07-17 09:08:59 -0500   28312 execution.bulk     INFO     Process name(SpawnProcess-29)-Process id(10440)-Line number(24) start execution.\n",
      "2024-07-17 09:09:00 -0500   28312 execution.bulk     INFO     Process name(SpawnProcess-29)-Process id(10440)-Line number(24) completed.\n",
      "2024-07-17 09:09:00 -0500   28312 execution.bulk     INFO     Process name(SpawnProcess-29)-Process id(10440)-Line number(25) start execution.\n",
      "2024-07-17 09:09:00 -0500   28312 execution.bulk     INFO     Process name(SpawnProcess-29)-Process id(10440)-Line number(25) completed.\n",
      "2024-07-17 09:09:00 -0500   28312 execution.bulk     INFO     Process name(SpawnProcess-29)-Process id(10440)-Line number(26) start execution.\n",
      "2024-07-17 09:09:00 -0500   28312 execution.bulk     INFO     Process name(SpawnProcess-29)-Process id(10440)-Line number(26) completed.\n",
      "2024-07-17 09:09:00 -0500   28312 execution.bulk     INFO     Process name(SpawnProcess-29)-Process id(10440)-Line number(27) start execution.\n",
      "2024-07-17 09:09:00 -0500   28312 execution.bulk     INFO     Process name(SpawnProcess-29)-Process id(10440)-Line number(27) completed.\n",
      "2024-07-17 09:09:00 -0500   28312 execution.bulk     INFO     Process name(SpawnProcess-29)-Process id(10440)-Line number(28) start execution.\n",
      "2024-07-17 09:09:00 -0500   28312 execution.bulk     INFO     Process name(SpawnProcess-29)-Process id(10440)-Line number(28) completed.\n",
      "2024-07-17 09:09:00 -0500   28312 execution.bulk     INFO     Process name(SpawnProcess-29)-Process id(10440)-Line number(29) start execution.\n",
      "2024-07-17 09:09:00 -0500   28312 execution.bulk     INFO     Process name(SpawnProcess-29)-Process id(10440)-Line number(29) completed.\n",
      "2024-07-17 09:09:00 -0500   28312 execution.bulk     INFO     Finished 30 / 30 lines.\n",
      "2024-07-17 09:09:00 -0500   28312 execution.bulk     INFO     Average execution time for completed lines: 0.24 seconds. Estimated time for incomplete lines: 0.0 seconds.\n",
      "2024-07-17 09:09:00 -0500   28312 execution.bulk     INFO     The thread monitoring the process [10440-SpawnProcess-29] will be terminated.\n",
      "2024-07-17 09:09:05 -0500   28312 execution.bulk     INFO     Process 10440 terminated.\n",
      "======= Run Summary =======\n",
      "\n",
      "Run name: \"promptflow_evals_evaluators_f1_score_f1_score_f1scoreevaluator_j9cfg500_20240717_090840_451542\"\n",
      "Run status: \"Completed\"\n",
      "Start time: \"2024-07-17 09:08:40.445088-05:00\"\n",
      "Duration: \"0:00:26.194605\"\n",
      "Output path: \"C:\\Users\\pablosal\\.promptflow\\.runs\\promptflow_evals_evaluators_f1_score_f1_score_f1scoreevaluator_j9cfg500_20240717_090840_451542\"\n",
      "\n",
      "2024-07-17 09:09:13 -0500   28312 execution.bulk     INFO     Process name(SpawnProcess-30)-Process id(38572)-Line number(5) completed.\n",
      "2024-07-17 09:09:13 -0500   28312 execution.bulk     INFO     Process name(SpawnProcess-30)-Process id(38572)-Line number(6) start execution.\n",
      "2024-07-17 09:09:13 -0500   28312 execution.bulk     INFO     Finished 6 / 30 lines.\n",
      "2024-07-17 09:09:13 -0500   28312 execution.bulk     INFO     Average execution time for completed lines: 3.37 seconds. Estimated time for incomplete lines: 80.88 seconds.\n",
      "2024-07-17 09:09:15 -0500   28312 execution.bulk     INFO     Process name(SpawnProcess-30)-Process id(38572)-Line number(6) completed.\n",
      "2024-07-17 09:09:15 -0500   28312 execution.bulk     INFO     Process name(SpawnProcess-30)-Process id(38572)-Line number(7) start execution.\n",
      "2024-07-17 09:09:16 -0500   28312 execution.bulk     INFO     Process name(SpawnProcess-30)-Process id(38572)-Line number(7) completed.\n",
      "2024-07-17 09:09:16 -0500   28312 execution.bulk     INFO     Process name(SpawnProcess-30)-Process id(38572)-Line number(8) start execution.\n",
      "2024-07-17 09:09:17 -0500   28312 execution.bulk     INFO     Process name(SpawnProcess-30)-Process id(38572)-Line number(8) completed.\n",
      "2024-07-17 09:09:17 -0500   28312 execution.bulk     INFO     Process name(SpawnProcess-30)-Process id(38572)-Line number(9) start execution.\n",
      "2024-07-17 09:09:17 -0500   28312 execution.bulk     INFO     Process name(SpawnProcess-30)-Process id(38572)-Line number(9) completed.\n",
      "2024-07-17 09:09:17 -0500   28312 execution.bulk     INFO     Process name(SpawnProcess-30)-Process id(38572)-Line number(10) start execution.\n",
      "2024-07-17 09:09:17 -0500   28312 execution.bulk     INFO     Finished 10 / 30 lines.\n",
      "2024-07-17 09:09:17 -0500   28312 execution.bulk     INFO     Average execution time for completed lines: 2.42 seconds. Estimated time for incomplete lines: 48.4 seconds.\n",
      "2024-07-17 09:09:18 -0500   28312 execution.bulk     INFO     Process name(SpawnProcess-30)-Process id(38572)-Line number(10) completed.\n",
      "2024-07-17 09:09:18 -0500   28312 execution.bulk     INFO     Process name(SpawnProcess-30)-Process id(38572)-Line number(11) start execution.\n",
      "2024-07-17 09:09:19 -0500   28312 execution.bulk     INFO     Process name(SpawnProcess-30)-Process id(38572)-Line number(11) completed.\n",
      "2024-07-17 09:09:20 -0500   28312 execution.bulk     INFO     Process name(SpawnProcess-30)-Process id(38572)-Line number(12) start execution.\n",
      "2024-07-17 09:09:20 -0500   28312 execution.bulk     INFO     Process name(SpawnProcess-30)-Process id(38572)-Line number(12) completed.\n",
      "2024-07-17 09:09:20 -0500   28312 execution.bulk     INFO     Process name(SpawnProcess-30)-Process id(38572)-Line number(13) start execution.\n",
      "2024-07-17 09:09:20 -0500   28312 execution.bulk     INFO     Finished 13 / 30 lines.\n",
      "2024-07-17 09:09:20 -0500   28312 execution.bulk     INFO     Average execution time for completed lines: 2.1 seconds. Estimated time for incomplete lines: 35.7 seconds.\n",
      "2024-07-17 09:09:21 -0500   28312 execution.bulk     INFO     Process name(SpawnProcess-30)-Process id(38572)-Line number(13) completed.\n",
      "2024-07-17 09:09:21 -0500   28312 execution.bulk     INFO     Process name(SpawnProcess-30)-Process id(38572)-Line number(14) start execution.\n",
      "2024-07-17 09:09:22 -0500   28312 execution.bulk     INFO     Process name(SpawnProcess-30)-Process id(38572)-Line number(14) completed.\n",
      "2024-07-17 09:09:22 -0500   28312 execution.bulk     INFO     Process name(SpawnProcess-30)-Process id(38572)-Line number(15) start execution.\n",
      "2024-07-17 09:09:23 -0500   28312 execution.bulk     INFO     Finished 15 / 30 lines.\n",
      "2024-07-17 09:09:23 -0500   28312 execution.bulk     INFO     Average execution time for completed lines: 1.95 seconds. Estimated time for incomplete lines: 29.25 seconds.\n",
      "2024-07-17 09:09:23 -0500   28312 execution.bulk     INFO     Process name(SpawnProcess-30)-Process id(38572)-Line number(15) completed.\n",
      "2024-07-17 09:09:23 -0500   28312 execution.bulk     INFO     Process name(SpawnProcess-30)-Process id(38572)-Line number(16) start execution.\n",
      "2024-07-17 09:09:24 -0500   28312 execution.bulk     INFO     Process name(SpawnProcess-30)-Process id(38572)-Line number(16) completed.\n",
      "2024-07-17 09:09:24 -0500   28312 execution.bulk     INFO     Process name(SpawnProcess-30)-Process id(38572)-Line number(17) start execution.\n",
      "2024-07-17 09:09:25 -0500   28312 execution.bulk     INFO     Process name(SpawnProcess-30)-Process id(38572)-Line number(17) completed.\n",
      "2024-07-17 09:09:25 -0500   28312 execution.bulk     INFO     Process name(SpawnProcess-30)-Process id(38572)-Line number(18) start execution.\n",
      "2024-07-17 09:09:26 -0500   28312 execution.bulk     INFO     Finished 18 / 30 lines.\n",
      "2024-07-17 09:09:26 -0500   28312 execution.bulk     INFO     Average execution time for completed lines: 1.79 seconds. Estimated time for incomplete lines: 21.48 seconds.\n",
      "2024-07-17 09:09:26 -0500   28312 execution.bulk     INFO     Process name(SpawnProcess-30)-Process id(38572)-Line number(18) completed.\n",
      "2024-07-17 09:09:26 -0500   28312 execution.bulk     INFO     Process name(SpawnProcess-30)-Process id(38572)-Line number(19) start execution.\n",
      "2024-07-17 09:09:27 -0500   28312 execution.bulk     INFO     Process name(SpawnProcess-30)-Process id(38572)-Line number(19) completed.\n",
      "2024-07-17 09:09:27 -0500   28312 execution.bulk     INFO     Process name(SpawnProcess-30)-Process id(38572)-Line number(20) start execution.\n",
      "2024-07-17 09:09:28 -0500   28312 execution.bulk     INFO     Process name(SpawnProcess-30)-Process id(38572)-Line number(20) completed.\n",
      "2024-07-17 09:09:28 -0500   28312 execution.bulk     INFO     Process name(SpawnProcess-30)-Process id(38572)-Line number(21) start execution.\n",
      "2024-07-17 09:09:29 -0500   28312 execution.bulk     INFO     Finished 21 / 30 lines.\n",
      "2024-07-17 09:09:29 -0500   28312 execution.bulk     INFO     Average execution time for completed lines: 1.68 seconds. Estimated time for incomplete lines: 15.12 seconds.\n",
      "2024-07-17 09:09:29 -0500   28312 execution.bulk     INFO     Process name(SpawnProcess-30)-Process id(38572)-Line number(21) completed.\n",
      "2024-07-17 09:09:29 -0500   28312 execution.bulk     INFO     Process name(SpawnProcess-30)-Process id(38572)-Line number(22) start execution.\n",
      "2024-07-17 09:09:30 -0500   28312 execution.bulk     INFO     Process name(SpawnProcess-30)-Process id(38572)-Line number(22) completed.\n",
      "2024-07-17 09:09:30 -0500   28312 execution.bulk     INFO     Process name(SpawnProcess-30)-Process id(38572)-Line number(23) start execution.\n",
      "2024-07-17 09:09:31 -0500   28312 execution.bulk     INFO     Process name(SpawnProcess-30)-Process id(38572)-Line number(23) completed.\n",
      "2024-07-17 09:09:31 -0500   28312 execution.bulk     INFO     Process name(SpawnProcess-30)-Process id(38572)-Line number(24) start execution.\n",
      "2024-07-17 09:09:32 -0500   28312 execution.bulk     INFO     Finished 24 / 30 lines.\n",
      "2024-07-17 09:09:32 -0500   28312 execution.bulk     INFO     Average execution time for completed lines: 1.6 seconds. Estimated time for incomplete lines: 9.6 seconds.\n",
      "2024-07-17 09:09:32 -0500   28312 execution.bulk     INFO     Process name(SpawnProcess-30)-Process id(38572)-Line number(24) completed.\n",
      "2024-07-17 09:09:32 -0500   28312 execution.bulk     INFO     Process name(SpawnProcess-30)-Process id(38572)-Line number(25) start execution.\n",
      "2024-07-17 09:09:33 -0500   28312 execution.bulk     INFO     Process name(SpawnProcess-30)-Process id(38572)-Line number(25) completed.\n",
      "2024-07-17 09:09:33 -0500   28312 execution.bulk     INFO     Process name(SpawnProcess-30)-Process id(38572)-Line number(26) start execution.\n",
      "2024-07-17 09:09:34 -0500   28312 execution.bulk     INFO     Process name(SpawnProcess-30)-Process id(38572)-Line number(26) completed.\n",
      "2024-07-17 09:09:34 -0500   28312 execution.bulk     INFO     Process name(SpawnProcess-30)-Process id(38572)-Line number(27) start execution.\n",
      "2024-07-17 09:09:34 -0500   28312 execution.bulk     INFO     Finished 27 / 30 lines.\n",
      "2024-07-17 09:09:34 -0500   28312 execution.bulk     INFO     Average execution time for completed lines: 1.5 seconds. Estimated time for incomplete lines: 4.5 seconds.\n",
      "2024-07-17 09:09:34 -0500   28312 execution.bulk     INFO     Process name(SpawnProcess-30)-Process id(38572)-Line number(27) completed.\n",
      "2024-07-17 09:09:34 -0500   28312 execution.bulk     INFO     Process name(SpawnProcess-30)-Process id(38572)-Line number(28) start execution.\n",
      "2024-07-17 09:09:35 -0500   28312 execution.bulk     INFO     Process name(SpawnProcess-30)-Process id(38572)-Line number(28) completed.\n",
      "2024-07-17 09:09:35 -0500   28312 execution.bulk     INFO     Process name(SpawnProcess-30)-Process id(38572)-Line number(29) start execution.\n",
      "2024-07-17 09:09:36 -0500   28312 execution.bulk     INFO     Process name(SpawnProcess-30)-Process id(38572)-Line number(29) completed.\n",
      "2024-07-17 09:09:37 -0500   28312 execution.bulk     INFO     Finished 30 / 30 lines.\n",
      "2024-07-17 09:09:37 -0500   28312 execution.bulk     INFO     Average execution time for completed lines: 1.45 seconds. Estimated time for incomplete lines: 0.0 seconds.\n",
      "2024-07-17 09:09:37 -0500   28312 execution.bulk     INFO     The thread monitoring the process [38572-SpawnProcess-30] will be terminated.\n",
      "2024-07-17 09:09:37 -0500   28312 execution.bulk     INFO     Process 38572 terminated.\n"
     ]
    },
    {
     "name": "stderr",
     "output_type": "stream",
     "text": [
      "[2024-07-17 09:09:38 -0500][promptflow._sdk._orchestrator.run_submitter][INFO] - Uploading run 'promptflow_evals_evaluators_similarity_similarity_similarityevaluator_oplavj6t_20240717_090840_450424' to cloud...\n",
      "[2024-07-17 09:09:44 -0500][promptflow._sdk._orchestrator.run_submitter][INFO] - Updating run 'promptflow_evals_evaluators_similarity_similarity_similarityevaluator_oplavj6t_20240717_090840_450424' portal url to 'https://ai.azure.com/projectflows/trace/run/promptflow_evals_evaluators_similarity_similarity_similarityevaluator_oplavj6t_20240717_090840_450424/details?wsid=/subscriptions/1a4bb722-f155-4502-8033-022a9eb1481b/resourcegroups/dev/providers/Microsoft.MachineLearningServices/workspaces/test-env'.\n"
     ]
    },
    {
     "name": "stdout",
     "output_type": "stream",
     "text": [
      "Portal url: https://ai.azure.com/projectflows/trace/run/promptflow_evals_evaluators_similarity_similarity_similarityevaluator_oplavj6t_20240717_090840_450424/details?wsid=/subscriptions/1a4bb722-f155-4502-8033-022a9eb1481b/resourcegroups/dev/providers/Microsoft.MachineLearningServices/workspaces/test-env\n",
      "2024-07-17 09:08:46 -0500   28312 execution.bulk     INFO     Current thread is not main thread, skip signal handler registration in BatchEngine.\n",
      "2024-07-17 09:08:46 -0500   28312 execution.bulk     INFO     Current system's available memory is 1088.25390625MB, memory consumption of current process is 684.12890625MB, estimated available worker count is 1088.25390625/684.12890625 = 1\n",
      "2024-07-17 09:08:46 -0500   28312 execution.bulk     INFO     Set process count to 1 by taking the minimum value among the factors of {'default_worker_count': 4, 'row_count': 30, 'estimated_worker_count_based_on_memory_usage': 1}.\n",
      "2024-07-17 09:08:53 -0500   28312 execution.bulk     INFO     Process name(SpawnProcess-30)-Process id(38572)-Line number(0) start execution.\n",
      "2024-07-17 09:08:59 -0500   10440 execution          WARNING  [Flex in line 0 (index starts from 0)] stderr> [2024-07-17 09:08:59 -0500][flowinvoker][INFO] - Getting connections from pf client with provider from args: local...\n",
      "2024-07-17 09:08:59 -0500   10440 execution          WARNING  [Flex in line 0 (index starts from 0)] stderr> [2024-07-17 09:08:59 -0500][flowinvoker][INFO] - Promptflow get connections successfully. keys: dict_keys([])\n",
      "2024-07-17 09:08:59 -0500   10440 execution          WARNING  [Flex in line 0 (index starts from 0)] stderr> [2024-07-17 09:08:59 -0500][flowinvoker][INFO] - Promptflow executor starts initializing...\n",
      "2024-07-17 09:08:59 -0500   10440 execution          WARNING  [Flex in line 0 (index starts from 0)] stderr> [2024-07-17 09:08:59 -0500][flowinvoker][INFO] - Promptflow executor initiated successfully.\n",
      "2024-07-17 09:08:59 -0500   10440 execution          WARNING  [Flex in line 0 (index starts from 0)] stderr> [2024-07-17 09:08:59 -0500][flowinvoker][INFO] - Validating flow input with data {'answer': 'Paris is the capital of France.', 'ground_truth': 'The capital of France is Paris.'}\n",
      "2024-07-17 09:08:59 -0500   10440 execution          WARNING  [Flex in line 0 (index starts from 0)] stderr> [2024-07-17 09:08:59 -0500][flowinvoker][INFO] - Execute flow with data {'answer': 'Paris is the capital of France.', 'ground_truth': 'The capital of France is Paris.'}\n",
      "2024-07-17 09:08:59 -0500   10440 execution          WARNING  [Flex in line 0 (index starts from 0)] stderr> [2024-07-17 09:08:59 -0500][flowinvoker][INFO] - Validating flow input with data {'answer': 'Albert Einstein developed the theory of relativity.', 'ground_truth': 'The theory of relativity was developed by Albert Einstein.'}\n",
      "2024-07-17 09:08:59 -0500   10440 execution          WARNING  [Flex in line 0 (index starts from 0)] stderr> [2024-07-17 09:08:59 -0500][flowinvoker][INFO] - Execute flow with data {'answer': 'Albert Einstein developed the theory of relativity.', 'ground_truth': 'The theory of relativity was developed by Albert Einstein.'}\n",
      "2024-07-17 09:08:59 -0500   10440 execution          WARNING  [Flex in line 0 (index starts from 0)] stderr> [2024-07-17 09:08:59 -0500][flowinvoker][INFO] - Validating flow input with data {'answer': 'The speed of light is approximately 299,792,458 meters per second.', 'ground_truth': 'Light travels at a speed of 299,792,458 meters per second.'}\n",
      "2024-07-17 09:08:59 -0500   10440 execution          WARNING  [Flex in line 0 (index starts from 0)] stderr> [2024-07-17 09:08:59 -0500][flowinvoker][INFO] - Execute flow with data {'answer': 'The speed of light is approximately 299,792,458 meters per second.', 'ground_truth': 'Light travels at a speed of 299,792,458 meters per second.'}\n",
      "2024-07-17 09:08:59 -0500   10440 execution          WARNING  [Flex in line 0 (index starts from 0)] stderr> [2024-07-17 09:08:59 -0500][flowinvoker][INFO] - Validating flow input with data {'answer': 'Mount Everest is the tallest mountain in the world.', 'ground_truth': \"The world's tallest mountain is Mount Everest.\"}\n",
      "2024-07-17 09:08:59 -0500   10440 execution          WARNING  [Flex in line 0 (index starts from 0)] stderr> [2024-07-17 09:08:59 -0500][flowinvoker][INFO] - Execute flow with data {'answer': 'Mount Everest is the tallest mountain in the world.', 'ground_truth': \"The world's tallest mountain is Mount Everest.\"}\n",
      "2024-07-17 09:08:59 -0500   10440 execution          WARNING  [Flex in line 0 (index starts from 0)] stderr> [2024-07-17 09:08:59 -0500][flowinvoker][INFO] - Validating flow input with data {'answer': \"George Orwell is the author of '1984'.\", 'ground_truth': \"The author of '1984' is George Orwell.\"}\n",
      "2024-07-17 09:08:59 -0500   10440 execution          WARNING  [Flex in line 0 (index starts from 0)] stderr> [2024-07-17 09:08:59 -0500][flowinvoker][INFO] - Execute flow with data {'answer': \"George Orwell is the author of '1984'.\", 'ground_truth': \"The author of '1984' is George Orwell.\"}\n",
      "2024-07-17 09:08:59 -0500   10440 execution          WARNING  [Flex in line 0 (index starts from 0)] stderr> [2024-07-17 09:08:59 -0500][flowinvoker][INFO] - Validating flow input with data {'answer': 'Tokyo is the capital of Japan.', 'ground_truth': \"Japan's capital is Tokyo.\"}\n",
      "2024-07-17 09:08:59 -0500   10440 execution          WARNING  [Flex in line 0 (index starts from 0)] stderr> [2024-07-17 09:08:59 -0500][flowinvoker][INFO] - Execute flow with data {'answer': 'Tokyo is the capital of Japan.', 'ground_truth': \"Japan's capital is Tokyo.\"}\n",
      "2024-07-17 09:08:59 -0500   10440 execution          WARNING  [Flex in line 0 (index starts from 0)] stderr> [2024-07-17 09:08:59 -0500][flowinvoker][INFO] - Validating flow input with data {'answer': 'Leonardo da Vinci painted the Mona Lisa.', 'ground_truth': 'The Mona Lisa was painted by Leonardo da Vinci.'}\n",
      "2024-07-17 09:08:59 -0500   10440 execution          WARNING  [Flex in line 0 (index starts from 0)] stderr> [2024-07-17 09:08:59 -0500][flowinvoker][INFO] - Execute flow with data {'answer': 'Leonardo da Vinci painted the Mona Lisa.', 'ground_truth': 'The Mona Lisa was painted by Leonardo da Vinci.'}\n",
      "2024-07-17 09:08:59 -0500   10440 execution          WARNING  [Flex in line 0 (index starts from 0)] stderr> [2024-07-17 09:08:59 -0500][flowinvoker][INFO] - Validating flow input with data {'answer': 'Jupiter is the largest planet in our solar system.', 'ground_truth': 'The largest planet in our solar system is Jupiter.'}\n",
      "2024-07-17 09:08:59 -0500   10440 execution          WARNING  [Flex in line 0 (index starts from 0)] stderr> [2024-07-17 09:08:59 -0500][flowinvoker][INFO] - Execute flow with data {'answer': 'Jupiter is the largest planet in our solar system.', 'ground_truth': 'The largest planet in our solar system is Jupiter.'}\n",
      "2024-07-17 09:08:59 -0500   10440 execution          WARNING  [Flex in line 0 (index starts from 0)] stderr> [2024-07-17 09:08:59 -0500][flowinvoker][INFO] - Validating flow input with data {'answer': 'H2O is the chemical symbol for water.', 'ground_truth': 'The chemical symbol for water is H2O.'}\n",
      "2024-07-17 09:08:59 -0500   10440 execution          WARNING  [Flex in line 0 (index starts from 0)] stderr> [2024-07-17 09:08:59 -0500][flowinvoker][INFO] - Execute flow with data {'answer': 'H2O is the chemical symbol for water.', 'ground_truth': 'The chemical symbol for water is H2O.'}\n",
      "2024-07-17 09:08:59 -0500   10440 execution          WARNING  [Flex in line 0 (index starts from 0)] stderr> [2024-07-17 09:08:59 -0500][flowinvoker][INFO] - Validating flow input with data {'answer': 'The Pacific Ocean is the largest ocean on Earth.', 'ground_truth': 'The largest ocean on Earth is the Pacific Ocean.'}\n",
      "2024-07-17 09:08:59 -0500   10440 execution          WARNING  [Flex in line 0 (index starts from 0)] stderr> [2024-07-17 09:08:59 -0500][flowinvoker][INFO] - Execute flow with data {'answer': 'The Pacific Ocean is the largest ocean on Earth.', 'ground_truth': 'The largest ocean on Earth is the Pacific Ocean.'}\n",
      "2024-07-17 09:08:59 -0500   10440 execution          WARNING  [Flex in line 0 (index starts from 0)] stderr> [2024-07-17 09:08:59 -0500][flowinvoker][INFO] - Validating flow input with data {'answer': 'The Great Pyramid of Giza was built by Alexander the Great.', 'ground_truth': 'The Great Pyramid of Giza was built by the Egyptians.'}\n",
      "2024-07-17 09:08:59 -0500   10440 execution          WARNING  [Flex in line 0 (index starts from 0)] stderr> [2024-07-17 09:08:59 -0500][flowinvoker][INFO] - Execute flow with data {'answer': 'The Great Pyramid of Giza was built by Alexander the Great.', 'ground_truth': 'The Great Pyramid of Giza was built by the Egyptians.'}\n",
      "2024-07-17 09:08:59 -0500   10440 execution          WARNING  [Flex in line 0 (index starts from 0)] stderr> [2024-07-17 09:08:59 -0500][flowinvoker][INFO] - Validating flow input with data {'answer': 'The human body has four senses.', 'ground_truth': 'The human body has five primary senses.'}\n",
      "2024-07-17 09:08:59 -0500   10440 execution          WARNING  [Flex in line 0 (index starts from 0)] stderr> [2024-07-17 09:08:59 -0500][flowinvoker][INFO] - Execute flow with data {'answer': 'The human body has four senses.', 'ground_truth': 'The human body has five primary senses.'}\n",
      "2024-07-17 09:08:59 -0500   10440 execution          WARNING  [Flex in line 0 (index starts from 0)] stderr> [2024-07-17 09:08:59 -0500][flowinvoker][INFO] - Validating flow input with data {'answer': 'The Amazon is the longest river in the world.', 'ground_truth': 'The Nile is often cited as the longest river in the world, but some sources claim the Amazon is longer.'}\n",
      "2024-07-17 09:08:59 -0500   10440 execution          WARNING  [Flex in line 0 (index starts from 0)] stderr> [2024-07-17 09:08:59 -0500][flowinvoker][INFO] - Execute flow with data {'answer': 'The Amazon is the longest river in the world.', 'ground_truth': 'The Nile is often cited as the longest river in the world, but some sources claim the Amazon is longer.'}\n",
      "2024-07-17 09:08:59 -0500   10440 execution          WARNING  [Flex in line 0 (index starts from 0)] stderr> [2024-07-17 09:08:59 -0500][flowinvoker][INFO] - Validating flow input with data {'answer': 'The internet was invented in the 1960s.', 'ground_truth': 'The foundational technology of the internet was developed in the late 1960s.'}\n",
      "2024-07-17 09:08:59 -0500   10440 execution          WARNING  [Flex in line 0 (index starts from 0)] stderr> [2024-07-17 09:08:59 -0500][flowinvoker][INFO] - Execute flow with data {'answer': 'The internet was invented in the 1960s.', 'ground_truth': 'The foundational technology of the internet was developed in the late 1960s.'}\n",
      "2024-07-17 09:08:59 -0500   10440 execution          WARNING  [Flex in line 0 (index starts from 0)] stderr> [2024-07-17 09:08:59 -0500][flowinvoker][INFO] - Validating flow input with data {'answer': 'The heart is on the right side of the human body.', 'ground_truth': 'The heart is located slightly to the left side of the chest in the human body.'}\n",
      "2024-07-17 09:08:59 -0500   10440 execution          WARNING  [Flex in line 0 (index starts from 0)] stderr> [2024-07-17 09:08:59 -0500][flowinvoker][INFO] - Execute flow with data {'answer': 'The heart is on the right side of the human body.', 'ground_truth': 'The heart is located slightly to the left side of the chest in the human body.'}\n",
      "2024-07-17 09:08:59 -0500   10440 execution          WARNING  [Flex in line 0 (index starts from 0)] stderr> [2024-07-17 09:08:59 -0500][flowinvoker][INFO] - Validating flow input with data {'answer': 'The sun revolves around the Earth.', 'ground_truth': 'The Earth revolves around the sun.'}\n",
      "2024-07-17 09:08:59 -0500   10440 execution          WARNING  [Flex in line 0 (index starts from 0)] stderr> [2024-07-17 09:08:59 -0500][flowinvoker][INFO] - Execute flow with data {'answer': 'The sun revolves around the Earth.', 'ground_truth': 'The Earth revolves around the sun.'}\n",
      "2024-07-17 09:08:59 -0500   10440 execution          WARNING  [Flex in line 0 (index starts from 0)] stderr> [2024-07-17 09:08:59 -0500][flowinvoker][INFO] - Validating flow input with data {'answer': 'Sharks are mammals.', 'ground_truth': 'Sharks are a group of fish characterized by a cartilaginous skeleton.'}\n",
      "2024-07-17 09:08:59 -0500   10440 execution          WARNING  [Flex in line 0 (index starts from 0)] stderr> [2024-07-17 09:08:59 -0500][flowinvoker][INFO] - Execute flow with data {'answer': 'Sharks are mammals.', 'ground_truth': 'Sharks are a group of fish characterized by a cartilaginous skeleton.'}\n",
      "2024-07-17 09:08:59 -0500   10440 execution          WARNING  [Flex in line 0 (index starts from 0)] stderr> [2024-07-17 09:08:59 -0500][flowinvoker][INFO] - Validating flow input with data {'answer': 'The capital of Canada is Toronto.', 'ground_truth': 'The capital of Canada is Ottawa.'}\n",
      "2024-07-17 09:08:59 -0500   10440 execution          WARNING  [Flex in line 0 (index starts from 0)] stderr> [2024-07-17 09:08:59 -0500][flowinvoker][INFO] - Execute flow with data {'answer': 'The capital of Canada is Toronto.', 'ground_truth': 'The capital of Canada is Ottawa.'}\n",
      "2024-07-17 09:08:59 -0500   10440 execution          WARNING  [Flex in line 0 (index starts from 0)] stderr> [2024-07-17 09:08:59 -0500][flowinvoker][INFO] - Validating flow input with data {'answer': 'The inventor of the telephone was Thomas Edison.', 'ground_truth': 'Alexander Graham Bell is credited with inventing the first practical telephone.'}\n",
      "2024-07-17 09:08:59 -0500   10440 execution          WARNING  [Flex in line 0 (index starts from 0)] stderr> [2024-07-17 09:08:59 -0500][flowinvoker][INFO] - Execute flow with data {'answer': 'The inventor of the telephone was Thomas Edison.', 'ground_truth': 'Alexander Graham Bell is credited with inventing the first practical telephone.'}\n",
      "2024-07-17 09:08:59 -0500   10440 execution          WARNING  [Flex in line 0 (index starts from 0)] stderr> [2024-07-17 09:08:59 -0500][flowinvoker][INFO] - Validating flow input with data {'answer': 'The chemical symbol for gold is Ag.', 'ground_truth': 'The chemical symbol for gold is Au.'}\n",
      "2024-07-17 09:08:59 -0500   10440 execution          WARNING  [Flex in line 0 (index starts from 0)] stderr> [2024-07-17 09:08:59 -0500][flowinvoker][INFO] - Execute flow with data {'answer': 'The chemical symbol for gold is Ag.', 'ground_truth': 'The chemical symbol for gold is Au.'}\n",
      "2024-07-17 09:08:59 -0500   10440 execution          WARNING  [Flex in line 0 (index starts from 0)] stderr> [2024-07-17 09:08:59 -0500][flowinvoker][INFO] - Validating flow input with data {'answer': 'The largest desert in the world is the Sahara.', 'ground_truth': 'The largest desert in the world is Antarctica.'}\n",
      "2024-07-17 09:08:59 -0500   10440 execution          WARNING  [Flex in line 0 (index starts from 0)] stderr> [2024-07-17 09:08:59 -0500][flowinvoker][INFO] - Execute flow with data {'answer': 'The largest desert in the world is the Sahara.', 'ground_truth': 'The largest desert in the world is Antarctica.'}\n",
      "2024-07-17 09:08:59 -0500   10440 execution          WARNING  [Flex in line 0 (index starts from 0)] stderr> [2024-07-17 09:08:59 -0500][flowinvoker][INFO] - Validating flow input with data {'answer': 'The first man to step on the moon was Lance Armstrong.', 'ground_truth': 'The first man to step on the moon was Neil Armstrong.'}\n",
      "2024-07-17 09:08:59 -0500   10440 execution          WARNING  [Flex in line 0 (index starts from 0)] stderr> [2024-07-17 09:08:59 -0500][flowinvoker][INFO] - Execute flow with data {'answer': 'The first man to step on the moon was Lance Armstrong.', 'ground_truth': 'The first man to step on the moon was Neil Armstrong.'}\n",
      "2024-07-17 09:08:59 -0500   10440 execution          WARNING  [Flex in line 0 (index starts from 0)] stderr> [2024-07-17 09:08:59 -0500][flowinvoker][INFO] - Validating flow input with data {'answer': 'The capital of Egypt is Cairo.', 'ground_truth': 'The capital of Egypt is Cairo.'}\n",
      "2024-07-17 09:08:59 -0500   10440 execution          WARNING  [Flex in line 0 (index starts from 0)] stderr> [2024-07-17 09:08:59 -0500][flowinvoker][INFO] - Execute flow with data {'answer': 'The capital of Egypt is Cairo.', 'ground_truth': 'The capital of Egypt is Cairo.'}\n",
      "2024-07-17 09:08:59 -0500   10440 execution          WARNING  [Flex in line 0 (index starts from 0)] stderr> [2024-07-17 09:08:59 -0500][flowinvoker][INFO] - Validating flow input with data {'answer': 'Photosynthesis is performed by animals.', 'ground_truth': 'Photosynthesis is performed by plants.'}\n",
      "2024-07-17 09:08:59 -0500   10440 execution          WARNING  [Flex in line 0 (index starts from 0)] stderr> [2024-07-17 09:08:59 -0500][flowinvoker][INFO] - Execute flow with data {'answer': 'Photosynthesis is performed by animals.', 'ground_truth': 'Photosynthesis is performed by plants.'}\n",
      "2024-07-17 09:09:00 -0500   10440 execution          WARNING  [Flex in line 0 (index starts from 0)] stderr> [2024-07-17 09:09:00 -0500][flowinvoker][INFO] - Validating flow input with data {'answer': 'The smallest bone in the human body is the femur.', 'ground_truth': 'The smallest bone in the human body is the stapes bone in the ear.'}\n",
      "2024-07-17 09:09:00 -0500   10440 execution          WARNING  [Flex in line 0 (index starts from 0)] stderr> [2024-07-17 09:09:00 -0500][flowinvoker][INFO] - Execute flow with data {'answer': 'The smallest bone in the human body is the femur.', 'ground_truth': 'The smallest bone in the human body is the stapes bone in the ear.'}\n",
      "2024-07-17 09:09:00 -0500   10440 execution          WARNING  [Flex in line 0 (index starts from 0)] stderr> [2024-07-17 09:09:00 -0500][flowinvoker][INFO] - Validating flow input with data {'answer': 'The Pacific Ocean is the warmest ocean.', 'ground_truth': 'The Indian Ocean is considered the warmest ocean.'}\n",
      "2024-07-17 09:09:00 -0500   10440 execution          WARNING  [Flex in line 0 (index starts from 0)] stderr> [2024-07-17 09:09:00 -0500][flowinvoker][INFO] - Execute flow with data {'answer': 'The Pacific Ocean is the warmest ocean.', 'ground_truth': 'The Indian Ocean is considered the warmest ocean.'}\n",
      "2024-07-17 09:09:00 -0500   10440 execution          WARNING  [Flex in line 0 (index starts from 0)] stderr> [2024-07-17 09:09:00 -0500][flowinvoker][INFO] - Validating flow input with data {'answer': 'The light bulb was invented by Nikola Tesla.', 'ground_truth': 'The light bulb was invented by Thomas Edison.'}\n",
      "2024-07-17 09:09:00 -0500   10440 execution          WARNING  [Flex in line 0 (index starts from 0)] stderr> [2024-07-17 09:09:00 -0500][flowinvoker][INFO] - Execute flow with data {'answer': 'The light bulb was invented by Nikola Tesla.', 'ground_truth': 'The light bulb was invented by Thomas Edison.'}\n",
      "2024-07-17 09:09:00 -0500   10440 execution          WARNING  [Flex in line 0 (index starts from 0)] stderr> [2024-07-17 09:09:00 -0500][flowinvoker][INFO] - Validating flow input with data {'answer': 'The first president of the United States was John Adams.', 'ground_truth': 'The first president of the United States was George Washington.'}\n",
      "2024-07-17 09:09:00 -0500   10440 execution          WARNING  [Flex in line 0 (index starts from 0)] stderr> [2024-07-17 09:09:00 -0500][flowinvoker][INFO] - Execute flow with data {'answer': 'The first president of the United States was John Adams.', 'ground_truth': 'The first president of the United States was George Washington.'}\n",
      "2024-07-17 09:09:00 -0500   10440 execution          WARNING  [Flex in line 0 (index starts from 0)] stderr> [2024-07-17 09:09:00 -0500][flowinvoker][INFO] - Validating flow input with data {'answer': 'The formula for water is CO2.', 'ground_truth': 'The formula for water is H2O.'}\n",
      "2024-07-17 09:09:00 -0500   10440 execution          WARNING  [Flex in line 0 (index starts from 0)] stderr> [2024-07-17 09:09:00 -0500][flowinvoker][INFO] - Execute flow with data {'answer': 'The formula for water is CO2.', 'ground_truth': 'The formula for water is H2O.'}\n",
      "2024-07-17 09:09:00 -0500   10440 execution          WARNING  [Flex in line 0 (index starts from 0)] stderr> [2024-07-17 09:09:00 -0500][flowinvoker][INFO] - Validating flow input with data {'answer': 'The tallest building in the world is the Empire State Building.', 'ground_truth': 'The tallest building in the world is the Burj Khalifa.'}\n",
      "2024-07-17 09:09:00 -0500   10440 execution          WARNING  [Flex in line 0 (index starts from 0)] stderr> [2024-07-17 09:09:00 -0500][flowinvoker][INFO] - Execute flow with data {'answer': 'The tallest building in the world is the Empire State Building.', 'ground_truth': 'The tallest building in the world is the Burj Khalifa.'}\n",
      "2024-07-17 09:09:00 -0500   28312 execution.bulk     INFO     Process name(SpawnProcess-30)-Process id(38572)-Line number(0) completed.\n",
      "2024-07-17 09:09:00 -0500   28312 execution.bulk     INFO     Process name(SpawnProcess-30)-Process id(38572)-Line number(1) start execution.\n",
      "2024-07-17 09:09:00 -0500   10440 execution.bulk     INFO     The process [10440] has received a terminate signal.\n",
      "2024-07-17 09:09:09 -0500   28312 execution.bulk     INFO     Process name(SpawnProcess-30)-Process id(38572)-Line number(1) completed.\n",
      "2024-07-17 09:09:09 -0500   28312 execution.bulk     INFO     Process name(SpawnProcess-30)-Process id(38572)-Line number(2) start execution.\n",
      "2024-07-17 09:09:10 -0500   28312 execution.bulk     INFO     Process name(SpawnProcess-30)-Process id(38572)-Line number(2) completed.\n",
      "2024-07-17 09:09:10 -0500   28312 execution.bulk     INFO     Process name(SpawnProcess-30)-Process id(38572)-Line number(3) start execution.\n",
      "2024-07-17 09:09:10 -0500   28312 execution.bulk     INFO     Finished 3 / 30 lines.\n",
      "2024-07-17 09:09:10 -0500   28312 execution.bulk     INFO     Average execution time for completed lines: 5.72 seconds. Estimated time for incomplete lines: 154.44 seconds.\n",
      "2024-07-17 09:09:11 -0500   28312 execution.bulk     INFO     Process name(SpawnProcess-30)-Process id(38572)-Line number(3) completed.\n",
      "2024-07-17 09:09:11 -0500   28312 execution.bulk     INFO     Process name(SpawnProcess-30)-Process id(38572)-Line number(4) start execution.\n",
      "2024-07-17 09:09:12 -0500   28312 execution.bulk     INFO     Process name(SpawnProcess-30)-Process id(38572)-Line number(4) completed.\n",
      "2024-07-17 09:09:12 -0500   28312 execution.bulk     INFO     Process name(SpawnProcess-30)-Process id(38572)-Line number(5) start execution.\n",
      "2024-07-17 09:09:13 -0500   28312 execution.bulk     INFO     Process name(SpawnProcess-30)-Process id(38572)-Line number(5) completed.\n",
      "2024-07-17 09:09:13 -0500   28312 execution.bulk     INFO     Process name(SpawnProcess-30)-Process id(38572)-Line number(6) start execution.\n",
      "2024-07-17 09:09:13 -0500   28312 execution.bulk     INFO     Finished 6 / 30 lines.\n",
      "2024-07-17 09:09:13 -0500   28312 execution.bulk     INFO     Average execution time for completed lines: 3.37 seconds. Estimated time for incomplete lines: 80.88 seconds.\n",
      "2024-07-17 09:09:15 -0500   28312 execution.bulk     INFO     Process name(SpawnProcess-30)-Process id(38572)-Line number(6) completed.\n",
      "2024-07-17 09:09:15 -0500   28312 execution.bulk     INFO     Process name(SpawnProcess-30)-Process id(38572)-Line number(7) start execution.\n",
      "2024-07-17 09:09:16 -0500   28312 execution.bulk     INFO     Process name(SpawnProcess-30)-Process id(38572)-Line number(7) completed.\n",
      "2024-07-17 09:09:16 -0500   28312 execution.bulk     INFO     Process name(SpawnProcess-30)-Process id(38572)-Line number(8) start execution.\n",
      "2024-07-17 09:09:17 -0500   28312 execution.bulk     INFO     Process name(SpawnProcess-30)-Process id(38572)-Line number(8) completed.\n",
      "2024-07-17 09:09:17 -0500   28312 execution.bulk     INFO     Process name(SpawnProcess-30)-Process id(38572)-Line number(9) start execution.\n",
      "2024-07-17 09:09:17 -0500   28312 execution.bulk     INFO     Process name(SpawnProcess-30)-Process id(38572)-Line number(9) completed.\n",
      "2024-07-17 09:09:17 -0500   28312 execution.bulk     INFO     Process name(SpawnProcess-30)-Process id(38572)-Line number(10) start execution.\n",
      "2024-07-17 09:09:17 -0500   28312 execution.bulk     INFO     Finished 10 / 30 lines.\n",
      "2024-07-17 09:09:17 -0500   28312 execution.bulk     INFO     Average execution time for completed lines: 2.42 seconds. Estimated time for incomplete lines: 48.4 seconds.\n",
      "2024-07-17 09:09:18 -0500   28312 execution.bulk     INFO     Process name(SpawnProcess-30)-Process id(38572)-Line number(10) completed.\n",
      "2024-07-17 09:09:18 -0500   28312 execution.bulk     INFO     Process name(SpawnProcess-30)-Process id(38572)-Line number(11) start execution.\n",
      "2024-07-17 09:09:19 -0500   28312 execution.bulk     INFO     Process name(SpawnProcess-30)-Process id(38572)-Line number(11) completed.\n",
      "2024-07-17 09:09:20 -0500   28312 execution.bulk     INFO     Process name(SpawnProcess-30)-Process id(38572)-Line number(12) start execution.\n",
      "2024-07-17 09:09:20 -0500   28312 execution.bulk     INFO     Process name(SpawnProcess-30)-Process id(38572)-Line number(12) completed.\n",
      "2024-07-17 09:09:20 -0500   28312 execution.bulk     INFO     Process name(SpawnProcess-30)-Process id(38572)-Line number(13) start execution.\n",
      "2024-07-17 09:09:20 -0500   28312 execution.bulk     INFO     Finished 13 / 30 lines.\n",
      "2024-07-17 09:09:20 -0500   28312 execution.bulk     INFO     Average execution time for completed lines: 2.1 seconds. Estimated time for incomplete lines: 35.7 seconds.\n",
      "2024-07-17 09:09:21 -0500   28312 execution.bulk     INFO     Process name(SpawnProcess-30)-Process id(38572)-Line number(13) completed.\n",
      "2024-07-17 09:09:21 -0500   28312 execution.bulk     INFO     Process name(SpawnProcess-30)-Process id(38572)-Line number(14) start execution.\n",
      "2024-07-17 09:09:22 -0500   28312 execution.bulk     INFO     Process name(SpawnProcess-30)-Process id(38572)-Line number(14) completed.\n",
      "2024-07-17 09:09:22 -0500   28312 execution.bulk     INFO     Process name(SpawnProcess-30)-Process id(38572)-Line number(15) start execution.\n",
      "2024-07-17 09:09:23 -0500   28312 execution.bulk     INFO     Finished 15 / 30 lines.\n",
      "2024-07-17 09:09:23 -0500   28312 execution.bulk     INFO     Average execution time for completed lines: 1.95 seconds. Estimated time for incomplete lines: 29.25 seconds.\n",
      "2024-07-17 09:09:23 -0500   28312 execution.bulk     INFO     Process name(SpawnProcess-30)-Process id(38572)-Line number(15) completed.\n",
      "2024-07-17 09:09:23 -0500   28312 execution.bulk     INFO     Process name(SpawnProcess-30)-Process id(38572)-Line number(16) start execution.\n",
      "2024-07-17 09:09:24 -0500   28312 execution.bulk     INFO     Process name(SpawnProcess-30)-Process id(38572)-Line number(16) completed.\n",
      "2024-07-17 09:09:24 -0500   28312 execution.bulk     INFO     Process name(SpawnProcess-30)-Process id(38572)-Line number(17) start execution.\n",
      "2024-07-17 09:09:25 -0500   28312 execution.bulk     INFO     Process name(SpawnProcess-30)-Process id(38572)-Line number(17) completed.\n",
      "2024-07-17 09:09:25 -0500   28312 execution.bulk     INFO     Process name(SpawnProcess-30)-Process id(38572)-Line number(18) start execution.\n",
      "2024-07-17 09:09:26 -0500   28312 execution.bulk     INFO     Finished 18 / 30 lines.\n",
      "2024-07-17 09:09:26 -0500   28312 execution.bulk     INFO     Average execution time for completed lines: 1.79 seconds. Estimated time for incomplete lines: 21.48 seconds.\n",
      "2024-07-17 09:09:26 -0500   28312 execution.bulk     INFO     Process name(SpawnProcess-30)-Process id(38572)-Line number(18) completed.\n",
      "2024-07-17 09:09:26 -0500   28312 execution.bulk     INFO     Process name(SpawnProcess-30)-Process id(38572)-Line number(19) start execution.\n",
      "2024-07-17 09:09:27 -0500   28312 execution.bulk     INFO     Process name(SpawnProcess-30)-Process id(38572)-Line number(19) completed.\n",
      "2024-07-17 09:09:27 -0500   28312 execution.bulk     INFO     Process name(SpawnProcess-30)-Process id(38572)-Line number(20) start execution.\n",
      "2024-07-17 09:09:28 -0500   28312 execution.bulk     INFO     Process name(SpawnProcess-30)-Process id(38572)-Line number(20) completed.\n",
      "2024-07-17 09:09:28 -0500   28312 execution.bulk     INFO     Process name(SpawnProcess-30)-Process id(38572)-Line number(21) start execution.\n",
      "2024-07-17 09:09:29 -0500   28312 execution.bulk     INFO     Finished 21 / 30 lines.\n",
      "2024-07-17 09:09:29 -0500   28312 execution.bulk     INFO     Average execution time for completed lines: 1.68 seconds. Estimated time for incomplete lines: 15.12 seconds.\n",
      "2024-07-17 09:09:29 -0500   28312 execution.bulk     INFO     Process name(SpawnProcess-30)-Process id(38572)-Line number(21) completed.\n",
      "2024-07-17 09:09:29 -0500   28312 execution.bulk     INFO     Process name(SpawnProcess-30)-Process id(38572)-Line number(22) start execution.\n",
      "2024-07-17 09:09:30 -0500   28312 execution.bulk     INFO     Process name(SpawnProcess-30)-Process id(38572)-Line number(22) completed.\n",
      "2024-07-17 09:09:30 -0500   28312 execution.bulk     INFO     Process name(SpawnProcess-30)-Process id(38572)-Line number(23) start execution.\n",
      "2024-07-17 09:09:31 -0500   28312 execution.bulk     INFO     Process name(SpawnProcess-30)-Process id(38572)-Line number(23) completed.\n",
      "2024-07-17 09:09:31 -0500   28312 execution.bulk     INFO     Process name(SpawnProcess-30)-Process id(38572)-Line number(24) start execution.\n",
      "2024-07-17 09:09:32 -0500   28312 execution.bulk     INFO     Finished 24 / 30 lines.\n",
      "2024-07-17 09:09:32 -0500   28312 execution.bulk     INFO     Average execution time for completed lines: 1.6 seconds. Estimated time for incomplete lines: 9.6 seconds.\n",
      "2024-07-17 09:09:32 -0500   28312 execution.bulk     INFO     Process name(SpawnProcess-30)-Process id(38572)-Line number(24) completed.\n",
      "2024-07-17 09:09:32 -0500   28312 execution.bulk     INFO     Process name(SpawnProcess-30)-Process id(38572)-Line number(25) start execution.\n",
      "2024-07-17 09:09:33 -0500   28312 execution.bulk     INFO     Process name(SpawnProcess-30)-Process id(38572)-Line number(25) completed.\n",
      "2024-07-17 09:09:33 -0500   28312 execution.bulk     INFO     Process name(SpawnProcess-30)-Process id(38572)-Line number(26) start execution.\n",
      "2024-07-17 09:09:34 -0500   28312 execution.bulk     INFO     Process name(SpawnProcess-30)-Process id(38572)-Line number(26) completed.\n",
      "2024-07-17 09:09:34 -0500   28312 execution.bulk     INFO     Process name(SpawnProcess-30)-Process id(38572)-Line number(27) start execution.\n",
      "2024-07-17 09:09:34 -0500   28312 execution.bulk     INFO     Finished 27 / 30 lines.\n",
      "2024-07-17 09:09:34 -0500   28312 execution.bulk     INFO     Average execution time for completed lines: 1.5 seconds. Estimated time for incomplete lines: 4.5 seconds.\n",
      "2024-07-17 09:09:34 -0500   28312 execution.bulk     INFO     Process name(SpawnProcess-30)-Process id(38572)-Line number(27) completed.\n",
      "2024-07-17 09:09:34 -0500   28312 execution.bulk     INFO     Process name(SpawnProcess-30)-Process id(38572)-Line number(28) start execution.\n",
      "2024-07-17 09:09:35 -0500   28312 execution.bulk     INFO     Process name(SpawnProcess-30)-Process id(38572)-Line number(28) completed.\n",
      "2024-07-17 09:09:35 -0500   28312 execution.bulk     INFO     Process name(SpawnProcess-30)-Process id(38572)-Line number(29) start execution.\n",
      "2024-07-17 09:09:36 -0500   28312 execution.bulk     INFO     Process name(SpawnProcess-30)-Process id(38572)-Line number(29) completed.\n",
      "2024-07-17 09:09:37 -0500   28312 execution.bulk     INFO     Finished 30 / 30 lines.\n",
      "2024-07-17 09:09:37 -0500   28312 execution.bulk     INFO     Average execution time for completed lines: 1.45 seconds. Estimated time for incomplete lines: 0.0 seconds.\n",
      "2024-07-17 09:09:37 -0500   28312 execution.bulk     INFO     The thread monitoring the process [38572-SpawnProcess-30] will be terminated.\n",
      "2024-07-17 09:09:37 -0500   38572 execution.bulk     INFO     The process [38572] has received a terminate signal.\n",
      "2024-07-17 09:09:37 -0500   28312 execution.bulk     INFO     Process 38572 terminated.\n",
      "======= Run Summary =======\n",
      "\n",
      "Run name: \"promptflow_evals_evaluators_similarity_similarity_similarityevaluator_oplavj6t_20240717_090840_450424\"\n",
      "Run status: \"Completed\"\n",
      "Start time: \"2024-07-17 09:08:40.445088-05:00\"\n",
      "Duration: \"0:00:58.167514\"\n",
      "Output path: \"C:\\Users\\pablosal\\.promptflow\\.runs\\promptflow_evals_evaluators_similarity_similarity_similarityevaluator_oplavj6t_20240717_090840_450424\"\n",
      "\n"
     ]
    },
    {
     "name": "stderr",
     "output_type": "stream",
     "text": [
      "c:\\Users\\pablosal\\AppData\\Local\\anaconda3\\envs\\upgrade-llm\\lib\\site-packages\\promptflow\\_sdk\\operations\\_local_storage_operations.py:516: FutureWarning:\n",
      "\n",
      "Setting an item of incompatible dtype is deprecated and will raise an error in a future version of pandas. Value '(Failed)' has dtype incompatible with float64, please explicitly cast to a compatible dtype first.\n",
      "\n",
      "c:\\Users\\pablosal\\AppData\\Local\\anaconda3\\envs\\upgrade-llm\\lib\\site-packages\\promptflow\\evals\\evaluate\\_batch_run_client\\proxy_client.py:35: FutureWarning:\n",
      "\n",
      "Downcasting behavior in `replace` is deprecated and will be removed in a future version. To retain the old behavior, explicitly call `result.infer_objects(copy=False)`. To opt-in to the future behavior, set `pd.set_option('future.no_silent_downcasting', True)`\n",
      "\n"
     ]
    }
   ],
   "source": [
    "result = evaluate(\n",
    "    data=r\"C:\\Users\\pablosal\\Desktop\\gbb-ai-llm-slm-evaluation-framework\\my_utils\\data\\evaluations\\jsonl\\F1ScoreEvaluator.jsonl\",\n",
    "    evaluators={\n",
    "        \"qa_eval\": qa_eval,\n",
    "        \"context_similarity\": context_similarity\n",
    "    },\n",
    "    # column mapping\n",
    "    evaluator_config={\n",
    "        \"qa_eval\": {\n",
    "            \"answer\": \"${data.answer}\",\n",
    "            \"ground_truth\": \"${data.ground_truth}\",\n",
    "        },\n",
    "        \"context_similarity\": {\n",
    "            \"question\": \"${data.question}\",\n",
    "            \"answer\": \"${data.answer}\",\n",
    "            \"ground_truth\": \"${data.ground_truth}\",\n",
    "        }\n",
    "    },\n",
    "    azure_ai_project=azure_ai_project\n",
    ")"
   ]
  },
  {
   "cell_type": "code",
   "execution_count": 42,
   "metadata": {},
   "outputs": [
    {
     "name": "stdout",
     "output_type": "stream",
     "text": [
      "{'metrics': {'context_similarity.gpt_similarity': 2.6296296296296298,\n",
      "             'qa_eval.f1_score': 0.7724547511300002},\n",
      " 'rows': [{'inputs.answer': 'Paris is the capital of France.',\n",
      "           'inputs.ground_truth': 'The capital of France is Paris.',\n",
      "           'inputs.question': 'What is the capital of France?',\n",
      "           'line_number': 0,\n",
      "           'outputs.context_similarity.gpt_similarity': 5.0,\n",
      "           'outputs.qa_eval.f1_score': 1.0},\n",
      "          {'inputs.answer': 'Albert Einstein developed the theory of '\n",
      "                            'relativity.',\n",
      "           'inputs.ground_truth': 'The theory of relativity was developed by '\n",
      "                                  'Albert Einstein.',\n",
      "           'inputs.question': 'Who developed the theory of relativity?',\n",
      "           'line_number': 1,\n",
      "           'outputs.context_similarity.gpt_similarity': 5.0,\n",
      "           'outputs.qa_eval.f1_score': 0.8571428571},\n",
      "          {'inputs.answer': 'The speed of light is approximately 299,792,458 '\n",
      "                            'meters per second.',\n",
      "           'inputs.ground_truth': 'Light travels at a speed of 299,792,458 '\n",
      "                                  'meters per second.',\n",
      "           'inputs.question': 'What is the speed of light?',\n",
      "           'line_number': 2,\n",
      "           'outputs.context_similarity.gpt_similarity': 5.0,\n",
      "           'outputs.qa_eval.f1_score': 0.7777777778},\n",
      "          {'inputs.answer': 'Mount Everest is the tallest mountain in the '\n",
      "                            'world.',\n",
      "           'inputs.ground_truth': \"The world's tallest mountain is Mount \"\n",
      "                                  'Everest.',\n",
      "           'inputs.question': 'Which is the tallest mountain in the world?',\n",
      "           'line_number': 3,\n",
      "           'outputs.context_similarity.gpt_similarity': 5.0,\n",
      "           'outputs.qa_eval.f1_score': 0.7692307692},\n",
      "          {'inputs.answer': \"George Orwell is the author of '1984'.\",\n",
      "           'inputs.ground_truth': \"The author of '1984' is George Orwell.\",\n",
      "           'inputs.question': \"Who wrote '1984'?\",\n",
      "           'line_number': 4,\n",
      "           'outputs.context_similarity.gpt_similarity': 5.0,\n",
      "           'outputs.qa_eval.f1_score': 1.0},\n",
      "          {'inputs.answer': 'Tokyo is the capital of Japan.',\n",
      "           'inputs.ground_truth': \"Japan's capital is Tokyo.\",\n",
      "           'inputs.question': 'What is the capital of Japan?',\n",
      "           'line_number': 5,\n",
      "           'outputs.context_similarity.gpt_similarity': 5.0,\n",
      "           'outputs.qa_eval.f1_score': 0.6666666667000001},\n",
      "          {'inputs.answer': 'Leonardo da Vinci painted the Mona Lisa.',\n",
      "           'inputs.ground_truth': 'The Mona Lisa was painted by Leonardo da '\n",
      "                                  'Vinci.',\n",
      "           'inputs.question': 'Who painted the Mona Lisa?',\n",
      "           'line_number': 6,\n",
      "           'outputs.context_similarity.gpt_similarity': 5.0,\n",
      "           'outputs.qa_eval.f1_score': 0.8571428571},\n",
      "          {'inputs.answer': 'Jupiter is the largest planet in our solar '\n",
      "                            'system.',\n",
      "           'inputs.ground_truth': 'The largest planet in our solar system is '\n",
      "                                  'Jupiter.',\n",
      "           'inputs.question': 'What is the largest planet in our solar system?',\n",
      "           'line_number': 7,\n",
      "           'outputs.context_similarity.gpt_similarity': 5.0,\n",
      "           'outputs.qa_eval.f1_score': 1.0},\n",
      "          {'inputs.answer': 'H2O is the chemical symbol for water.',\n",
      "           'inputs.ground_truth': 'The chemical symbol for water is H2O.',\n",
      "           'inputs.question': 'What is the chemical symbol for water?',\n",
      "           'line_number': 8,\n",
      "           'outputs.context_similarity.gpt_similarity': 5.0,\n",
      "           'outputs.qa_eval.f1_score': 1.0},\n",
      "          {'inputs.answer': 'The Pacific Ocean is the largest ocean on Earth.',\n",
      "           'inputs.ground_truth': 'The largest ocean on Earth is the Pacific '\n",
      "                                  'Ocean.',\n",
      "           'inputs.question': 'What is the largest ocean on Earth?',\n",
      "           'line_number': 9,\n",
      "           'outputs.context_similarity.gpt_similarity': 5.0,\n",
      "           'outputs.qa_eval.f1_score': 1.0},\n",
      "          {'inputs.answer': 'The Great Pyramid of Giza was built by Alexander '\n",
      "                            'the Great.',\n",
      "           'inputs.ground_truth': 'The Great Pyramid of Giza was built by the '\n",
      "                                  'Egyptians.',\n",
      "           'inputs.question': 'Who built the Great Pyramid of Giza?',\n",
      "           'line_number': 10,\n",
      "           'outputs.context_similarity.gpt_similarity': 1.0,\n",
      "           'outputs.qa_eval.f1_score': 0.8235294118},\n",
      "          {'inputs.answer': 'The human body has four senses.',\n",
      "           'inputs.ground_truth': 'The human body has five primary senses.',\n",
      "           'inputs.question': 'How many primary senses does the human body '\n",
      "                              'have?',\n",
      "           'line_number': 11,\n",
      "           'outputs.context_similarity.gpt_similarity': 1.0,\n",
      "           'outputs.qa_eval.f1_score': 0.7272727273},\n",
      "          {'inputs.answer': 'The Amazon is the longest river in the world.',\n",
      "           'inputs.ground_truth': 'The Nile is often cited as the longest '\n",
      "                                  'river in the world, but some sources claim '\n",
      "                                  'the Amazon is longer.',\n",
      "           'inputs.question': 'What is the longest river in the world?',\n",
      "           'line_number': 12,\n",
      "           'outputs.context_similarity.gpt_similarity': nan,\n",
      "           'outputs.qa_eval.f1_score': 0.5454545455},\n",
      "          {'inputs.answer': 'The internet was invented in the 1960s.',\n",
      "           'inputs.ground_truth': 'The foundational technology of the internet '\n",
      "                                  'was developed in the late 1960s.',\n",
      "           'inputs.question': 'When was the internet invented?',\n",
      "           'line_number': 13,\n",
      "           'outputs.context_similarity.gpt_similarity': nan,\n",
      "           'outputs.qa_eval.f1_score': 0.5714285714},\n",
      "          {'inputs.answer': 'The heart is on the right side of the human body.',\n",
      "           'inputs.ground_truth': 'The heart is located slightly to the left '\n",
      "                                  'side of the chest in the human body.',\n",
      "           'inputs.question': 'Where is the heart located in the human body?',\n",
      "           'line_number': 14,\n",
      "           'outputs.context_similarity.gpt_similarity': 1.0,\n",
      "           'outputs.qa_eval.f1_score': 0.6000000000000001},\n",
      "          {'inputs.answer': 'The sun revolves around the Earth.',\n",
      "           'inputs.ground_truth': 'The Earth revolves around the sun.',\n",
      "           'inputs.question': 'Does the Earth revolve around the sun, or does '\n",
      "                              'the sun revolve around the Earth?',\n",
      "           'line_number': 15,\n",
      "           'outputs.context_similarity.gpt_similarity': 1.0,\n",
      "           'outputs.qa_eval.f1_score': 1.0},\n",
      "          {'inputs.answer': 'Sharks are mammals.',\n",
      "           'inputs.ground_truth': 'Sharks are a group of fish characterized by '\n",
      "                                  'a cartilaginous skeleton.',\n",
      "           'inputs.question': 'Are sharks mammals or fish?',\n",
      "           'line_number': 16,\n",
      "           'outputs.context_similarity.gpt_similarity': 1.0,\n",
      "           'outputs.qa_eval.f1_score': 0.33333333330000003},\n",
      "          {'inputs.answer': 'The capital of Canada is Toronto.',\n",
      "           'inputs.ground_truth': 'The capital of Canada is Ottawa.',\n",
      "           'inputs.question': 'What is the capital of Canada?',\n",
      "           'line_number': 17,\n",
      "           'outputs.context_similarity.gpt_similarity': nan,\n",
      "           'outputs.qa_eval.f1_score': 0.8},\n",
      "          {'inputs.answer': 'The inventor of the telephone was Thomas Edison.',\n",
      "           'inputs.ground_truth': 'Alexander Graham Bell is credited with '\n",
      "                                  'inventing the first practical telephone.',\n",
      "           'inputs.question': 'Who invented the telephone?',\n",
      "           'line_number': 18,\n",
      "           'outputs.context_similarity.gpt_similarity': 1.0,\n",
      "           'outputs.qa_eval.f1_score': 0.125},\n",
      "          {'inputs.answer': 'The chemical symbol for gold is Ag.',\n",
      "           'inputs.ground_truth': 'The chemical symbol for gold is Au.',\n",
      "           'inputs.question': 'What is the chemical symbol for gold?',\n",
      "           'line_number': 19,\n",
      "           'outputs.context_similarity.gpt_similarity': 1.0,\n",
      "           'outputs.qa_eval.f1_score': 0.8333333333},\n",
      "          {'inputs.answer': 'The largest desert in the world is the Sahara.',\n",
      "           'inputs.ground_truth': 'The largest desert in the world is '\n",
      "                                  'Antarctica.',\n",
      "           'inputs.question': 'What is the largest desert in the world?',\n",
      "           'line_number': 20,\n",
      "           'outputs.context_similarity.gpt_similarity': 1.0,\n",
      "           'outputs.qa_eval.f1_score': 0.8333333333},\n",
      "          {'inputs.answer': 'The first man to step on the moon was Lance '\n",
      "                            'Armstrong.',\n",
      "           'inputs.ground_truth': 'The first man to step on the moon was Neil '\n",
      "                                  'Armstrong.',\n",
      "           'inputs.question': 'Who was the first man to step on the moon?',\n",
      "           'line_number': 21,\n",
      "           'outputs.context_similarity.gpt_similarity': 1.0,\n",
      "           'outputs.qa_eval.f1_score': 0.8888888889000001},\n",
      "          {'inputs.answer': 'The capital of Egypt is Cairo.',\n",
      "           'inputs.ground_truth': 'The capital of Egypt is Cairo.',\n",
      "           'inputs.question': 'What is the capital of Egypt?',\n",
      "           'line_number': 22,\n",
      "           'outputs.context_similarity.gpt_similarity': 5.0,\n",
      "           'outputs.qa_eval.f1_score': 1.0},\n",
      "          {'inputs.answer': 'Photosynthesis is performed by animals.',\n",
      "           'inputs.ground_truth': 'Photosynthesis is performed by plants.',\n",
      "           'inputs.question': 'Who performs photosynthesis?',\n",
      "           'line_number': 23,\n",
      "           'outputs.context_similarity.gpt_similarity': 1.0,\n",
      "           'outputs.qa_eval.f1_score': 0.8},\n",
      "          {'inputs.answer': 'The smallest bone in the human body is the femur.',\n",
      "           'inputs.ground_truth': 'The smallest bone in the human body is the '\n",
      "                                  'stapes bone in the ear.',\n",
      "           'inputs.question': 'What is the smallest bone in the human body?',\n",
      "           'line_number': 24,\n",
      "           'outputs.context_similarity.gpt_similarity': 1.0,\n",
      "           'outputs.qa_eval.f1_score': 0.7058823529},\n",
      "          {'inputs.answer': 'The Pacific Ocean is the warmest ocean.',\n",
      "           'inputs.ground_truth': 'The Indian Ocean is considered the warmest '\n",
      "                                  'ocean.',\n",
      "           'inputs.question': 'Which is the warmest ocean?',\n",
      "           'line_number': 25,\n",
      "           'outputs.context_similarity.gpt_similarity': 1.0,\n",
      "           'outputs.qa_eval.f1_score': 0.7272727273},\n",
      "          {'inputs.answer': 'The light bulb was invented by Nikola Tesla.',\n",
      "           'inputs.ground_truth': 'The light bulb was invented by Thomas '\n",
      "                                  'Edison.',\n",
      "           'inputs.question': 'Who invented the light bulb?',\n",
      "           'line_number': 26,\n",
      "           'outputs.context_similarity.gpt_similarity': 1.0,\n",
      "           'outputs.qa_eval.f1_score': 0.7142857143},\n",
      "          {'inputs.answer': 'The first president of the United States was John '\n",
      "                            'Adams.',\n",
      "           'inputs.ground_truth': 'The first president of the United States '\n",
      "                                  'was George Washington.',\n",
      "           'inputs.question': 'Who was the first president of the United '\n",
      "                              'States?',\n",
      "           'line_number': 27,\n",
      "           'outputs.context_similarity.gpt_similarity': 1.0,\n",
      "           'outputs.qa_eval.f1_score': 0.75},\n",
      "          {'inputs.answer': 'The formula for water is CO2.',\n",
      "           'inputs.ground_truth': 'The formula for water is H2O.',\n",
      "           'inputs.question': 'What is the formula for water?',\n",
      "           'line_number': 28,\n",
      "           'outputs.context_similarity.gpt_similarity': 1.0,\n",
      "           'outputs.qa_eval.f1_score': 0.8},\n",
      "          {'inputs.answer': 'The tallest building in the world is the Empire '\n",
      "                            'State Building.',\n",
      "           'inputs.ground_truth': 'The tallest building in the world is the '\n",
      "                                  'Burj Khalifa.',\n",
      "           'inputs.question': 'What is the tallest building in the world?',\n",
      "           'line_number': 29,\n",
      "           'outputs.context_similarity.gpt_similarity': 1.0,\n",
      "           'outputs.qa_eval.f1_score': 0.6666666667000001}],\n",
      " 'studio_url': 'https://ai.azure.com/build/evaluation/fc0fcb2b-3655-4a92-8070-a91466bf6d4e?wsid=/subscriptions/1a4bb722-f155-4502-8033-022a9eb1481b/resourceGroups/dev/providers/Microsoft.MachineLearningServices/workspaces/test-env'}\n"
     ]
    }
   ],
   "source": [
    "pprint(result)"
   ]
  },
  {
   "cell_type": "markdown",
   "metadata": {},
   "source": [
    "#### Scenario 2: Integration of Custom Evaluation with Built-in PromptFlow for Enhanced Contextual Accuracy in Q&A Matching\n",
    "\n",
    "**Objective**: To enhance the evaluation of our AI bot's (LLM/SLM) performance in responding to user queries, we have developed a custom evaluation framework. This framework focuses on the accuracy of responses and their contextual understanding, utilizing a predefined ground truth for comparison. It is designed to complement and extend the built-in evaluation methods provided by PromptFlow.\n",
    "\n",
    "**Custom Evaluation Framework**:\n",
    "- **Implementation**: We have implemented a custom evaluation module, `SemanticSimilarityEvaluator`, leveraging the `transformers` library to utilize pre-trained models for semantic similarity assessments.\n",
    "- **Functionality**: This module calculates the semantic similarity between the AI bot's response and the ground truth. It uses embeddings generated by a pre-trained model (`bert-base-uncased`) and computes cosine similarity to quantify semantic closeness.\n",
    "\n",
    "**Integration with PromptFlow**:\n",
    "- Our custom evaluation is seamlessly integrated with PromptFlow's built-in evaluation methods. This combination allows for a comprehensive assessment that covers both the nuanced contextual understanding and the accuracy of the AI bot's responses.\n",
    "- **Input**: User queries across various topics and complexities.\n",
    "- **AI Bot**: Our system, tasked with generating responses.\n",
    "- **Evaluation Criteria**:\n",
    "  - **Contextual Understanding**: Assesses the AI bot's grasp of the query's context and intent.\n",
    "  - **Response Accuracy**: Measures the alignment of the AI bot's responses with the expected answers, enriched by our custom semantic similarity evaluation.\n",
    "\n",
    "**Goal**: To ascertain the efficacy of our AI bot in providing contextually accurate and precise responses, leveraging both our custom evaluation and PromptFlow's built-in methods to highlight areas for improvement and ensure comprehensive coverage of evaluation metrics."
   ]
  },
  {
   "cell_type": "code",
   "execution_count": 8,
   "metadata": {},
   "outputs": [],
   "source": [
    "from src.quality.custom.custom_similarity import SemanticSimilarityEvaluator"
   ]
  },
  {
   "cell_type": "code",
   "execution_count": 9,
   "metadata": {},
   "outputs": [],
   "source": [
    "semantic_similarity_eval = SemanticSimilarityEvaluator(model_name='bert-base-uncased')"
   ]
  },
  {
   "cell_type": "code",
   "execution_count": 10,
   "metadata": {},
   "outputs": [
    {
     "name": "stderr",
     "output_type": "stream",
     "text": [
      "[2024-07-17 09:15:20 -0500][promptflow._sdk._orchestrator.run_submitter][INFO] - Upload run to cloud: True\n",
      "[2024-07-17 09:15:20 -0500][promptflow._sdk._orchestrator.run_submitter][INFO] - Upload run to cloud: True\n",
      "[2024-07-17 09:15:20 -0500][promptflow._sdk._orchestrator.run_submitter][INFO] - Upload run to cloud: True\n",
      "[2024-07-17 09:15:25 -0500][promptflow._core.entry_meta_generator][WARNING] - Generate meta in current process and timeout won't take effect. Please handle timeout manually outside current process.\n",
      "[2024-07-17 09:15:25 -0500][promptflow._sdk._orchestrator.run_submitter][INFO] - Submitting run src_quality_custom_custom_similarity_semanticsimilarityevaluator_f8hh8dri_20240717_091520_300807, log path: C:\\Users\\pablosal\\.promptflow\\.runs\\src_quality_custom_custom_similarity_semanticsimilarityevaluator_f8hh8dri_20240717_091520_300807\\logs.txt\n",
      "[2024-07-17 09:15:25 -0500][promptflow._core.entry_meta_generator][WARNING] - Generate meta in current process and timeout won't take effect. Please handle timeout manually outside current process.\n",
      "[2024-07-17 09:15:25 -0500][promptflow._sdk._orchestrator.run_submitter][INFO] - Submitting run promptflow_evals_evaluators_f1_score_f1_score_f1scoreevaluator_6iv1dtmm_20240717_091520_300807, log path: C:\\Users\\pablosal\\.promptflow\\.runs\\promptflow_evals_evaluators_f1_score_f1_score_f1scoreevaluator_6iv1dtmm_20240717_091520_300807\\logs.txt\n"
     ]
    },
    {
     "name": "stdout",
     "output_type": "stream",
     "text": [
      "Prompt flow service has started...\n",
      "You can view the traces in local from http://127.0.0.1:23333/v1.0/ui/traces/?#run=src_quality_custom_custom_similarity_semanticsimilarityevaluator_f8hh8dri_20240717_091520_300807\n",
      "You can view the traces in azure portal since trace destination is set to: azureml://subscriptions/1a4bb722-f155-4502-8033-022a9eb1481b/resourceGroups/dev/providers/Microsoft.MachineLearningServices/workspaces/test-env. The link will be printed once the run is finished.\n",
      "Prompt flow service has started...\n",
      "You can view the traces in local from http://127.0.0.1:23333/v1.0/ui/traces/?#run=promptflow_evals_evaluators_f1_score_f1_score_f1scoreevaluator_6iv1dtmm_20240717_091520_300807\n",
      "You can view the traces in azure portal since trace destination is set to: azureml://subscriptions/1a4bb722-f155-4502-8033-022a9eb1481b/resourceGroups/dev/providers/Microsoft.MachineLearningServices/workspaces/test-env. The link will be printed once the run is finished.\n"
     ]
    },
    {
     "name": "stderr",
     "output_type": "stream",
     "text": [
      "[2024-07-17 09:15:25 -0500][promptflow._core.entry_meta_generator][WARNING] - Generate meta in current process and timeout won't take effect. Please handle timeout manually outside current process.\n",
      "[2024-07-17 09:15:25 -0500][promptflow._sdk._orchestrator.run_submitter][INFO] - Submitting run promptflow_evals_evaluators_similarity_similarity_similarityevaluator_ag_1gi8y_20240717_091520_294143, log path: C:\\Users\\pablosal\\.promptflow\\.runs\\promptflow_evals_evaluators_similarity_similarity_similarityevaluator_ag_1gi8y_20240717_091520_294143\\logs.txt\n"
     ]
    },
    {
     "name": "stdout",
     "output_type": "stream",
     "text": [
      "Prompt flow service has started...\n",
      "You can view the traces in local from http://127.0.0.1:23333/v1.0/ui/traces/?#run=promptflow_evals_evaluators_similarity_similarity_similarityevaluator_ag_1gi8y_20240717_091520_294143\n",
      "You can view the traces in azure portal since trace destination is set to: azureml://subscriptions/1a4bb722-f155-4502-8033-022a9eb1481b/resourceGroups/dev/providers/Microsoft.MachineLearningServices/workspaces/test-env. The link will be printed once the run is finished.\n"
     ]
    },
    {
     "name": "stderr",
     "output_type": "stream",
     "text": [
      "[2024-07-17 09:15:47 -0500][promptflow._sdk._orchestrator.run_submitter][INFO] - Uploading run 'promptflow_evals_evaluators_f1_score_f1_score_f1scoreevaluator_6iv1dtmm_20240717_091520_300807' to cloud...\n"
     ]
    },
    {
     "name": "stdout",
     "output_type": "stream",
     "text": [
      "2024-07-17 09:15:48 -0500   32056 execution.bulk     INFO     Process name(SpawnProcess-6)-Process id(5772)-Line number(6) completed.\n",
      "2024-07-17 09:15:48 -0500   32056 execution.bulk     INFO     Process name(SpawnProcess-6)-Process id(5772)-Line number(7) start execution.\n",
      "2024-07-17 09:15:50 -0500   32056 execution.bulk     INFO     Process name(SpawnProcess-6)-Process id(5772)-Line number(7) completed.\n",
      "2024-07-17 09:15:50 -0500   32056 execution.bulk     INFO     Process name(SpawnProcess-6)-Process id(5772)-Line number(8) start execution.\n",
      "2024-07-17 09:15:51 -0500   32056 execution.bulk     INFO     Process name(SpawnProcess-6)-Process id(5772)-Line number(8) completed.\n",
      "2024-07-17 09:15:51 -0500   32056 execution.bulk     INFO     Process name(SpawnProcess-6)-Process id(5772)-Line number(9) start execution.\n",
      "2024-07-17 09:15:52 -0500   32056 execution.bulk     INFO     Finished 9 / 30 lines.\n",
      "2024-07-17 09:15:52 -0500   32056 execution.bulk     INFO     Average execution time for completed lines: 2.25 seconds. Estimated time for incomplete lines: 47.25 seconds.\n",
      "2024-07-17 09:15:52 -0500   32056 execution.bulk     INFO     Process name(SpawnProcess-6)-Process id(5772)-Line number(9) completed.\n",
      "2024-07-17 09:15:52 -0500   32056 execution.bulk     INFO     Process name(SpawnProcess-6)-Process id(5772)-Line number(10) start execution.\n",
      "2024-07-17 09:15:54 -0500   32056 execution.bulk     INFO     Process name(SpawnProcess-6)-Process id(5772)-Line number(10) completed.\n",
      "2024-07-17 09:15:54 -0500   32056 execution.bulk     INFO     Process name(SpawnProcess-6)-Process id(5772)-Line number(11) start execution.\n",
      "2024-07-17 09:15:55 -0500   32056 execution.bulk     INFO     Process name(SpawnProcess-5)-Process id(28940)-Line number(0) start execution.\n",
      "2024-07-17 09:15:55 -0500   32056 execution.bulk     INFO     Process name(SpawnProcess-6)-Process id(5772)-Line number(11) completed.\n",
      "2024-07-17 09:15:55 -0500   32056 execution.bulk     INFO     Process name(SpawnProcess-6)-Process id(5772)-Line number(12) start execution.\n"
     ]
    },
    {
     "name": "stderr",
     "output_type": "stream",
     "text": [
      "[2024-07-17 09:15:56 -0500][promptflow._sdk._orchestrator.run_submitter][INFO] - Updating run 'promptflow_evals_evaluators_f1_score_f1_score_f1scoreevaluator_6iv1dtmm_20240717_091520_300807' portal url to 'https://ai.azure.com/projectflows/trace/run/promptflow_evals_evaluators_f1_score_f1_score_f1scoreevaluator_6iv1dtmm_20240717_091520_300807/details?wsid=/subscriptions/1a4bb722-f155-4502-8033-022a9eb1481b/resourcegroups/dev/providers/Microsoft.MachineLearningServices/workspaces/test-env'.\n"
     ]
    },
    {
     "name": "stdout",
     "output_type": "stream",
     "text": [
      "Portal url: https://ai.azure.com/projectflows/trace/run/promptflow_evals_evaluators_f1_score_f1_score_f1scoreevaluator_6iv1dtmm_20240717_091520_300807/details?wsid=/subscriptions/1a4bb722-f155-4502-8033-022a9eb1481b/resourcegroups/dev/providers/Microsoft.MachineLearningServices/workspaces/test-env\n",
      "2024-07-17 09:15:25 -0500   32056 execution.bulk     INFO     Current thread is not main thread, skip signal handler registration in BatchEngine.\n",
      "2024-07-17 09:15:25 -0500   32056 execution.bulk     WARNING  Current system's available memory is 739.37890625MB, less than the memory 952.2109375MB required by the process. The maximum available worker count is 1.\n",
      "2024-07-17 09:15:25 -0500   32056 execution.bulk     INFO     Set process count to 1 by taking the minimum value among the factors of {'default_worker_count': 4, 'row_count': 30, 'estimated_worker_count_based_on_memory_usage': 1}.\n",
      "2024-07-17 09:15:32 -0500   32056 execution.bulk     INFO     Process name(SpawnProcess-4)-Process id(10340)-Line number(0) start execution.\n",
      "2024-07-17 09:15:37 -0500   32056 execution.bulk     INFO     Process name(SpawnProcess-4)-Process id(10340)-Line number(0) completed.\n",
      "2024-07-17 09:15:37 -0500   32056 execution.bulk     INFO     Process name(SpawnProcess-4)-Process id(10340)-Line number(1) start execution.\n",
      "2024-07-17 09:15:37 -0500   32056 execution.bulk     INFO     Process name(SpawnProcess-4)-Process id(10340)-Line number(1) completed.\n",
      "2024-07-17 09:15:37 -0500   32056 execution.bulk     INFO     Process name(SpawnProcess-4)-Process id(10340)-Line number(2) start execution.\n",
      "2024-07-17 09:15:37 -0500   32056 execution.bulk     INFO     Process name(SpawnProcess-4)-Process id(10340)-Line number(2) completed.\n",
      "2024-07-17 09:15:37 -0500   32056 execution.bulk     INFO     Process name(SpawnProcess-4)-Process id(10340)-Line number(3) start execution.\n",
      "2024-07-17 09:15:37 -0500   32056 execution.bulk     INFO     Process name(SpawnProcess-4)-Process id(10340)-Line number(3) completed.\n",
      "2024-07-17 09:15:37 -0500   32056 execution.bulk     INFO     Process name(SpawnProcess-4)-Process id(10340)-Line number(4) start execution.\n",
      "2024-07-17 09:15:37 -0500   32056 execution.bulk     INFO     Finished 5 / 30 lines.\n",
      "2024-07-17 09:15:37 -0500   32056 execution.bulk     INFO     Average execution time for completed lines: 1.01 seconds. Estimated time for incomplete lines: 25.25 seconds.\n",
      "2024-07-17 09:15:37 -0500   32056 execution.bulk     INFO     Process name(SpawnProcess-4)-Process id(10340)-Line number(4) completed.\n",
      "2024-07-17 09:15:37 -0500   32056 execution.bulk     INFO     Process name(SpawnProcess-4)-Process id(10340)-Line number(5) start execution.\n",
      "2024-07-17 09:15:37 -0500   32056 execution.bulk     INFO     Process name(SpawnProcess-4)-Process id(10340)-Line number(5) completed.\n",
      "2024-07-17 09:15:37 -0500   32056 execution.bulk     INFO     Process name(SpawnProcess-4)-Process id(10340)-Line number(6) start execution.\n",
      "2024-07-17 09:15:37 -0500   32056 execution.bulk     INFO     Process name(SpawnProcess-4)-Process id(10340)-Line number(6) completed.\n",
      "2024-07-17 09:15:37 -0500   32056 execution.bulk     INFO     Process name(SpawnProcess-4)-Process id(10340)-Line number(7) start execution.\n",
      "2024-07-17 09:15:37 -0500   32056 execution.bulk     INFO     Process name(SpawnProcess-4)-Process id(10340)-Line number(7) completed.\n",
      "2024-07-17 09:15:37 -0500   32056 execution.bulk     INFO     Process name(SpawnProcess-4)-Process id(10340)-Line number(8) start execution.\n",
      "2024-07-17 09:15:37 -0500   32056 execution.bulk     INFO     Process name(SpawnProcess-4)-Process id(10340)-Line number(8) completed.\n",
      "2024-07-17 09:15:37 -0500   32056 execution.bulk     INFO     Process name(SpawnProcess-4)-Process id(10340)-Line number(9) start execution.\n",
      "2024-07-17 09:15:37 -0500   32056 execution.bulk     INFO     Process name(SpawnProcess-4)-Process id(10340)-Line number(9) completed.\n",
      "2024-07-17 09:15:37 -0500   32056 execution.bulk     INFO     Process name(SpawnProcess-4)-Process id(10340)-Line number(10) start execution.\n",
      "2024-07-17 09:15:37 -0500   32056 execution.bulk     INFO     Process name(SpawnProcess-4)-Process id(10340)-Line number(10) completed.\n",
      "2024-07-17 09:15:37 -0500   32056 execution.bulk     INFO     Process name(SpawnProcess-4)-Process id(10340)-Line number(11) start execution.\n",
      "2024-07-17 09:15:37 -0500   32056 execution.bulk     INFO     Process name(SpawnProcess-4)-Process id(10340)-Line number(11) completed.\n",
      "2024-07-17 09:15:37 -0500   32056 execution.bulk     INFO     Process name(SpawnProcess-4)-Process id(10340)-Line number(12) start execution.\n",
      "2024-07-17 09:15:37 -0500   32056 execution.bulk     INFO     Process name(SpawnProcess-4)-Process id(10340)-Line number(12) completed.\n",
      "2024-07-17 09:15:37 -0500   32056 execution.bulk     INFO     Process name(SpawnProcess-4)-Process id(10340)-Line number(13) start execution.\n",
      "2024-07-17 09:15:37 -0500   32056 execution.bulk     INFO     Process name(SpawnProcess-4)-Process id(10340)-Line number(13) completed.\n",
      "2024-07-17 09:15:37 -0500   32056 execution.bulk     INFO     Process name(SpawnProcess-4)-Process id(10340)-Line number(14) start execution.\n",
      "2024-07-17 09:15:37 -0500   32056 execution.bulk     INFO     Process name(SpawnProcess-4)-Process id(10340)-Line number(14) completed.\n",
      "2024-07-17 09:15:37 -0500   32056 execution.bulk     INFO     Process name(SpawnProcess-4)-Process id(10340)-Line number(15) start execution.\n",
      "2024-07-17 09:15:37 -0500   32056 execution.bulk     INFO     Process name(SpawnProcess-4)-Process id(10340)-Line number(15) completed.\n",
      "2024-07-17 09:15:37 -0500   32056 execution.bulk     INFO     Process name(SpawnProcess-4)-Process id(10340)-Line number(16) start execution.\n",
      "2024-07-17 09:15:37 -0500   32056 execution.bulk     INFO     Process name(SpawnProcess-4)-Process id(10340)-Line number(16) completed.\n",
      "2024-07-17 09:15:37 -0500   32056 execution.bulk     INFO     Process name(SpawnProcess-4)-Process id(10340)-Line number(17) start execution.\n",
      "2024-07-17 09:15:38 -0500   32056 execution.bulk     INFO     Process name(SpawnProcess-4)-Process id(10340)-Line number(17) completed.\n",
      "2024-07-17 09:15:38 -0500   32056 execution.bulk     INFO     Process name(SpawnProcess-4)-Process id(10340)-Line number(18) start execution.\n",
      "2024-07-17 09:15:38 -0500   32056 execution.bulk     INFO     Process name(SpawnProcess-4)-Process id(10340)-Line number(18) completed.\n",
      "2024-07-17 09:15:38 -0500   32056 execution.bulk     INFO     Process name(SpawnProcess-4)-Process id(10340)-Line number(19) start execution.\n",
      "2024-07-17 09:15:38 -0500   32056 execution.bulk     INFO     Process name(SpawnProcess-4)-Process id(10340)-Line number(19) completed.\n",
      "2024-07-17 09:15:38 -0500   32056 execution.bulk     INFO     Process name(SpawnProcess-4)-Process id(10340)-Line number(20) start execution.\n",
      "2024-07-17 09:15:38 -0500   32056 execution.bulk     INFO     Process name(SpawnProcess-4)-Process id(10340)-Line number(20) completed.\n",
      "2024-07-17 09:15:38 -0500   32056 execution.bulk     INFO     Process name(SpawnProcess-4)-Process id(10340)-Line number(21) start execution.\n",
      "2024-07-17 09:15:38 -0500   32056 execution.bulk     INFO     Process name(SpawnProcess-4)-Process id(10340)-Line number(21) completed.\n",
      "2024-07-17 09:15:38 -0500   32056 execution.bulk     INFO     Process name(SpawnProcess-4)-Process id(10340)-Line number(22) start execution.\n",
      "2024-07-17 09:15:38 -0500   32056 execution.bulk     INFO     Process name(SpawnProcess-4)-Process id(10340)-Line number(22) completed.\n",
      "2024-07-17 09:15:38 -0500   32056 execution.bulk     INFO     Process name(SpawnProcess-4)-Process id(10340)-Line number(23) start execution.\n",
      "2024-07-17 09:15:38 -0500   32056 execution.bulk     INFO     Finished 23 / 30 lines.\n",
      "2024-07-17 09:15:38 -0500   32056 execution.bulk     INFO     Average execution time for completed lines: 0.26 seconds. Estimated time for incomplete lines: 1.82 seconds.\n",
      "2024-07-17 09:15:38 -0500   32056 execution.bulk     INFO     Process name(SpawnProcess-4)-Process id(10340)-Line number(23) completed.\n",
      "2024-07-17 09:15:38 -0500   32056 execution.bulk     INFO     Process name(SpawnProcess-4)-Process id(10340)-Line number(24) start execution.\n",
      "2024-07-17 09:15:38 -0500   32056 execution.bulk     INFO     Process name(SpawnProcess-4)-Process id(10340)-Line number(24) completed.\n",
      "2024-07-17 09:15:38 -0500   32056 execution.bulk     INFO     Process name(SpawnProcess-4)-Process id(10340)-Line number(25) start execution.\n",
      "2024-07-17 09:15:38 -0500   32056 execution.bulk     INFO     Process name(SpawnProcess-4)-Process id(10340)-Line number(25) completed.\n",
      "2024-07-17 09:15:38 -0500   32056 execution.bulk     INFO     Process name(SpawnProcess-4)-Process id(10340)-Line number(26) start execution.\n",
      "2024-07-17 09:15:38 -0500   32056 execution.bulk     INFO     Process name(SpawnProcess-4)-Process id(10340)-Line number(26) completed.\n",
      "2024-07-17 09:15:38 -0500   32056 execution.bulk     INFO     Process name(SpawnProcess-4)-Process id(10340)-Line number(27) start execution.\n",
      "2024-07-17 09:15:38 -0500   32056 execution.bulk     INFO     Process name(SpawnProcess-4)-Process id(10340)-Line number(27) completed.\n",
      "2024-07-17 09:15:38 -0500   32056 execution.bulk     INFO     Process name(SpawnProcess-4)-Process id(10340)-Line number(28) start execution.\n",
      "2024-07-17 09:15:39 -0500   32056 execution.bulk     INFO     Process name(SpawnProcess-4)-Process id(10340)-Line number(28) completed.\n",
      "2024-07-17 09:15:39 -0500   32056 execution.bulk     INFO     Process name(SpawnProcess-4)-Process id(10340)-Line number(29) start execution.\n",
      "2024-07-17 09:15:39 -0500   32056 execution.bulk     INFO     Process name(SpawnProcess-4)-Process id(10340)-Line number(29) completed.\n",
      "2024-07-17 09:15:39 -0500   32056 execution.bulk     INFO     Finished 30 / 30 lines.\n",
      "2024-07-17 09:15:39 -0500   32056 execution.bulk     INFO     Average execution time for completed lines: 0.24 seconds. Estimated time for incomplete lines: 0.0 seconds.\n",
      "2024-07-17 09:15:39 -0500   32056 execution.bulk     INFO     The thread monitoring the process [10340-SpawnProcess-4] will be terminated.\n",
      "2024-07-17 09:15:45 -0500   32056 execution.bulk     INFO     Process 10340 terminated.\n",
      "======= Run Summary =======\n",
      "\n",
      "Run name: \"promptflow_evals_evaluators_f1_score_f1_score_f1scoreevaluator_6iv1dtmm_20240717_091520_300807\"\n",
      "Run status: \"Completed\"\n",
      "Start time: \"2024-07-17 09:15:20.288882-05:00\"\n",
      "Duration: \"0:00:27.141296\"\n",
      "Output path: \"C:\\Users\\pablosal\\.promptflow\\.runs\\promptflow_evals_evaluators_f1_score_f1_score_f1scoreevaluator_6iv1dtmm_20240717_091520_300807\"\n",
      "\n",
      "2024-07-17 09:15:56 -0500   32056 execution.bulk     INFO     Finished 12 / 30 lines.\n",
      "2024-07-17 09:15:56 -0500   32056 execution.bulk     INFO     Average execution time for completed lines: 2.03 seconds. Estimated time for incomplete lines: 36.54 seconds.\n",
      "2024-07-17 09:15:57 -0500   32056 execution.bulk     INFO     Process name(SpawnProcess-6)-Process id(5772)-Line number(12) completed.\n",
      "2024-07-17 09:15:57 -0500   32056 execution.bulk     INFO     Process name(SpawnProcess-6)-Process id(5772)-Line number(13) start execution.\n",
      "2024-07-17 09:15:58 -0500   32056 execution.bulk     INFO     Process name(SpawnProcess-6)-Process id(5772)-Line number(13) completed.\n",
      "2024-07-17 09:15:58 -0500   32056 execution.bulk     INFO     Process name(SpawnProcess-6)-Process id(5772)-Line number(14) start execution.\n",
      "2024-07-17 09:15:59 -0500   32056 execution.bulk     INFO     Process name(SpawnProcess-6)-Process id(5772)-Line number(14) completed.\n",
      "2024-07-17 09:15:59 -0500   32056 execution.bulk     INFO     Process name(SpawnProcess-6)-Process id(5772)-Line number(15) start execution.\n",
      "2024-07-17 09:16:00 -0500   32056 execution.bulk     INFO     Process name(SpawnProcess-5)-Process id(28940)-Line number(0) completed.\n",
      "2024-07-17 09:16:00 -0500   32056 execution.bulk     INFO     Process name(SpawnProcess-5)-Process id(28940)-Line number(1) start execution.\n",
      "2024-07-17 09:16:00 -0500   32056 execution.bulk     INFO     Finished 15 / 30 lines.\n",
      "2024-07-17 09:16:00 -0500   32056 execution.bulk     INFO     Average execution time for completed lines: 1.89 seconds. Estimated time for incomplete lines: 28.35 seconds.\n",
      "2024-07-17 09:16:01 -0500   32056 execution.bulk     INFO     Process name(SpawnProcess-5)-Process id(28940)-Line number(1) completed.\n",
      "2024-07-17 09:16:01 -0500   32056 execution.bulk     INFO     Process name(SpawnProcess-5)-Process id(28940)-Line number(2) start execution.\n",
      "2024-07-17 09:16:01 -0500   32056 execution.bulk     INFO     Process name(SpawnProcess-6)-Process id(5772)-Line number(15) completed.\n",
      "2024-07-17 09:16:01 -0500   32056 execution.bulk     INFO     Process name(SpawnProcess-6)-Process id(5772)-Line number(16) start execution.\n",
      "2024-07-17 09:16:01 -0500   32056 execution.bulk     INFO     Process name(SpawnProcess-5)-Process id(28940)-Line number(2) completed.\n",
      "2024-07-17 09:16:01 -0500   32056 execution.bulk     INFO     Process name(SpawnProcess-5)-Process id(28940)-Line number(3) start execution.\n",
      "2024-07-17 09:16:02 -0500   32056 execution.bulk     INFO     Finished 3 / 30 lines.\n",
      "2024-07-17 09:16:02 -0500   32056 execution.bulk     INFO     Average execution time for completed lines: 2.35 seconds. Estimated time for incomplete lines: 63.45 seconds.\n",
      "2024-07-17 09:16:02 -0500   32056 execution.bulk     INFO     Process name(SpawnProcess-5)-Process id(28940)-Line number(3) completed.\n",
      "2024-07-17 09:16:02 -0500   32056 execution.bulk     INFO     Process name(SpawnProcess-5)-Process id(28940)-Line number(4) start execution.\n",
      "2024-07-17 09:16:03 -0500   32056 execution.bulk     INFO     Process name(SpawnProcess-6)-Process id(5772)-Line number(16) completed.\n",
      "2024-07-17 09:16:03 -0500   32056 execution.bulk     INFO     Process name(SpawnProcess-6)-Process id(5772)-Line number(17) start execution.\n",
      "2024-07-17 09:16:03 -0500   32056 execution.bulk     INFO     Process name(SpawnProcess-5)-Process id(28940)-Line number(4) completed.\n",
      "2024-07-17 09:16:03 -0500   32056 execution.bulk     INFO     Process name(SpawnProcess-5)-Process id(28940)-Line number(5) start execution.\n",
      "2024-07-17 09:16:03 -0500   32056 execution.bulk     INFO     Process name(SpawnProcess-5)-Process id(28940)-Line number(5) completed.\n",
      "2024-07-17 09:16:04 -0500   32056 execution.bulk     INFO     Process name(SpawnProcess-5)-Process id(28940)-Line number(6) start execution.\n",
      "2024-07-17 09:16:04 -0500   32056 execution.bulk     INFO     Finished 6 / 30 lines.\n",
      "2024-07-17 09:16:04 -0500   32056 execution.bulk     INFO     Average execution time for completed lines: 1.51 seconds. Estimated time for incomplete lines: 36.24 seconds.\n",
      "2024-07-17 09:16:04 -0500   32056 execution.bulk     INFO     Process name(SpawnProcess-5)-Process id(28940)-Line number(6) completed.\n",
      "2024-07-17 09:16:04 -0500   32056 execution.bulk     INFO     Process name(SpawnProcess-5)-Process id(28940)-Line number(7) start execution.\n",
      "2024-07-17 09:16:04 -0500   32056 execution.bulk     INFO     Process name(SpawnProcess-5)-Process id(28940)-Line number(7) completed.\n",
      "2024-07-17 09:16:04 -0500   32056 execution.bulk     INFO     Process name(SpawnProcess-5)-Process id(28940)-Line number(8) start execution.\n",
      "2024-07-17 09:16:05 -0500   32056 execution.bulk     INFO     Process name(SpawnProcess-6)-Process id(5772)-Line number(17) completed.\n",
      "2024-07-17 09:16:05 -0500   32056 execution.bulk     INFO     Process name(SpawnProcess-6)-Process id(5772)-Line number(18) start execution.\n",
      "2024-07-17 09:16:05 -0500   32056 execution.bulk     INFO     Process name(SpawnProcess-5)-Process id(28940)-Line number(8) completed.\n",
      "2024-07-17 09:16:05 -0500   32056 execution.bulk     INFO     Process name(SpawnProcess-5)-Process id(28940)-Line number(9) start execution.\n",
      "2024-07-17 09:16:05 -0500   32056 execution.bulk     INFO     Finished 18 / 30 lines.\n",
      "2024-07-17 09:16:05 -0500   32056 execution.bulk     INFO     Average execution time for completed lines: 1.86 seconds. Estimated time for incomplete lines: 22.32 seconds.\n",
      "2024-07-17 09:16:06 -0500   32056 execution.bulk     INFO     Process name(SpawnProcess-5)-Process id(28940)-Line number(9) completed.\n",
      "2024-07-17 09:16:06 -0500   32056 execution.bulk     INFO     Process name(SpawnProcess-5)-Process id(28940)-Line number(10) start execution.\n",
      "2024-07-17 09:16:06 -0500   32056 execution.bulk     INFO     Finished 10 / 30 lines.\n",
      "2024-07-17 09:16:06 -0500   32056 execution.bulk     INFO     Average execution time for completed lines: 1.11 seconds. Estimated time for incomplete lines: 22.2 seconds.\n",
      "2024-07-17 09:16:06 -0500   32056 execution.bulk     INFO     Process name(SpawnProcess-6)-Process id(5772)-Line number(18) completed.\n",
      "2024-07-17 09:16:06 -0500   32056 execution.bulk     INFO     Process name(SpawnProcess-6)-Process id(5772)-Line number(19) start execution.\n",
      "2024-07-17 09:16:07 -0500   32056 execution.bulk     INFO     Process name(SpawnProcess-5)-Process id(28940)-Line number(10) completed.\n",
      "2024-07-17 09:16:07 -0500   32056 execution.bulk     INFO     Process name(SpawnProcess-5)-Process id(28940)-Line number(11) start execution.\n",
      "2024-07-17 09:16:07 -0500   32056 execution.bulk     INFO     Process name(SpawnProcess-5)-Process id(28940)-Line number(11) completed.\n",
      "2024-07-17 09:16:07 -0500   32056 execution.bulk     INFO     Process name(SpawnProcess-5)-Process id(28940)-Line number(12) start execution.\n",
      "2024-07-17 09:16:08 -0500   32056 execution.bulk     INFO     Process name(SpawnProcess-5)-Process id(28940)-Line number(12) completed.\n",
      "2024-07-17 09:16:08 -0500   32056 execution.bulk     INFO     Process name(SpawnProcess-5)-Process id(28940)-Line number(13) start execution.\n",
      "2024-07-17 09:16:08 -0500   32056 execution.bulk     INFO     Process name(SpawnProcess-6)-Process id(5772)-Line number(19) completed.\n",
      "2024-07-17 09:16:08 -0500   32056 execution.bulk     INFO     Process name(SpawnProcess-6)-Process id(5772)-Line number(20) start execution.\n",
      "2024-07-17 09:16:08 -0500   32056 execution.bulk     INFO     Finished 13 / 30 lines.\n",
      "2024-07-17 09:16:08 -0500   32056 execution.bulk     INFO     Average execution time for completed lines: 1.01 seconds. Estimated time for incomplete lines: 17.17 seconds.\n",
      "2024-07-17 09:16:09 -0500   32056 execution.bulk     INFO     Process name(SpawnProcess-5)-Process id(28940)-Line number(13) completed.\n",
      "2024-07-17 09:16:09 -0500   32056 execution.bulk     INFO     Process name(SpawnProcess-5)-Process id(28940)-Line number(14) start execution.\n",
      "2024-07-17 09:16:09 -0500   32056 execution.bulk     INFO     Process name(SpawnProcess-5)-Process id(28940)-Line number(14) completed.\n",
      "2024-07-17 09:16:09 -0500   32056 execution.bulk     INFO     Process name(SpawnProcess-5)-Process id(28940)-Line number(15) start execution.\n",
      "2024-07-17 09:16:10 -0500   32056 execution.bulk     INFO     Process name(SpawnProcess-6)-Process id(5772)-Line number(20) completed.\n",
      "2024-07-17 09:16:10 -0500   32056 execution.bulk     INFO     Process name(SpawnProcess-6)-Process id(5772)-Line number(21) start execution.\n",
      "2024-07-17 09:16:10 -0500   32056 execution.bulk     INFO     Process name(SpawnProcess-5)-Process id(28940)-Line number(15) completed.\n",
      "2024-07-17 09:16:10 -0500   32056 execution.bulk     INFO     Process name(SpawnProcess-5)-Process id(28940)-Line number(16) start execution.\n",
      "2024-07-17 09:16:10 -0500   32056 execution.bulk     INFO     Finished 16 / 30 lines.\n",
      "2024-07-17 09:16:10 -0500   32056 execution.bulk     INFO     Average execution time for completed lines: 0.95 seconds. Estimated time for incomplete lines: 13.3 seconds.\n",
      "2024-07-17 09:16:10 -0500   32056 execution.bulk     INFO     Finished 21 / 30 lines.\n",
      "2024-07-17 09:16:10 -0500   32056 execution.bulk     INFO     Average execution time for completed lines: 1.83 seconds. Estimated time for incomplete lines: 16.47 seconds.\n",
      "2024-07-17 09:16:11 -0500   32056 execution.bulk     INFO     Process name(SpawnProcess-5)-Process id(28940)-Line number(16) completed.\n",
      "2024-07-17 09:16:11 -0500   32056 execution.bulk     INFO     Process name(SpawnProcess-5)-Process id(28940)-Line number(17) start execution.\n",
      "2024-07-17 09:16:11 -0500   32056 execution.bulk     INFO     Process name(SpawnProcess-5)-Process id(28940)-Line number(17) completed.\n",
      "2024-07-17 09:16:11 -0500   32056 execution.bulk     INFO     Process name(SpawnProcess-5)-Process id(28940)-Line number(18) start execution.\n",
      "2024-07-17 09:16:11 -0500   32056 execution.bulk     INFO     Process name(SpawnProcess-6)-Process id(5772)-Line number(21) completed.\n",
      "2024-07-17 09:16:11 -0500   32056 execution.bulk     INFO     Process name(SpawnProcess-6)-Process id(5772)-Line number(22) start execution.\n",
      "2024-07-17 09:16:12 -0500   32056 execution.bulk     INFO     Process name(SpawnProcess-5)-Process id(28940)-Line number(18) completed.\n",
      "2024-07-17 09:16:12 -0500   32056 execution.bulk     INFO     Process name(SpawnProcess-5)-Process id(28940)-Line number(19) start execution.\n",
      "2024-07-17 09:16:12 -0500   32056 execution.bulk     INFO     Process name(SpawnProcess-5)-Process id(28940)-Line number(19) completed.\n",
      "2024-07-17 09:16:12 -0500   32056 execution.bulk     INFO     Process name(SpawnProcess-5)-Process id(28940)-Line number(20) start execution.\n",
      "2024-07-17 09:16:12 -0500   32056 execution.bulk     INFO     Finished 20 / 30 lines.\n",
      "2024-07-17 09:16:12 -0500   32056 execution.bulk     INFO     Average execution time for completed lines: 0.86 seconds. Estimated time for incomplete lines: 8.6 seconds.\n",
      "2024-07-17 09:16:12 -0500   32056 execution.bulk     INFO     Process name(SpawnProcess-5)-Process id(28940)-Line number(20) completed.\n",
      "2024-07-17 09:16:12 -0500   32056 execution.bulk     INFO     Process name(SpawnProcess-5)-Process id(28940)-Line number(21) start execution.\n",
      "2024-07-17 09:16:13 -0500   32056 execution.bulk     INFO     Process name(SpawnProcess-6)-Process id(5772)-Line number(22) completed.\n",
      "2024-07-17 09:16:13 -0500   32056 execution.bulk     INFO     Process name(SpawnProcess-6)-Process id(5772)-Line number(23) start execution.\n",
      "2024-07-17 09:16:13 -0500   32056 execution.bulk     INFO     Process name(SpawnProcess-5)-Process id(28940)-Line number(21) completed.\n",
      "2024-07-17 09:16:13 -0500   32056 execution.bulk     INFO     Process name(SpawnProcess-5)-Process id(28940)-Line number(22) start execution.\n",
      "2024-07-17 09:16:13 -0500   32056 execution.bulk     INFO     Process name(SpawnProcess-5)-Process id(28940)-Line number(22) completed.\n",
      "2024-07-17 09:16:13 -0500   32056 execution.bulk     INFO     Process name(SpawnProcess-5)-Process id(28940)-Line number(23) start execution.\n",
      "2024-07-17 09:16:14 -0500   32056 execution.bulk     INFO     Process name(SpawnProcess-5)-Process id(28940)-Line number(23) completed.\n",
      "2024-07-17 09:16:14 -0500   32056 execution.bulk     INFO     Process name(SpawnProcess-5)-Process id(28940)-Line number(24) start execution.\n",
      "2024-07-17 09:16:14 -0500   32056 execution.bulk     INFO     Finished 24 / 30 lines.\n",
      "2024-07-17 09:16:14 -0500   32056 execution.bulk     INFO     Average execution time for completed lines: 0.8 seconds. Estimated time for incomplete lines: 4.8 seconds.\n",
      "2024-07-17 09:16:14 -0500   32056 execution.bulk     INFO     Process name(SpawnProcess-6)-Process id(5772)-Line number(23) completed.\n",
      "2024-07-17 09:16:14 -0500   32056 execution.bulk     INFO     Process name(SpawnProcess-6)-Process id(5772)-Line number(24) start execution.\n",
      "2024-07-17 09:16:14 -0500   32056 execution.bulk     INFO     Finished 24 / 30 lines.\n",
      "2024-07-17 09:16:14 -0500   32056 execution.bulk     INFO     Average execution time for completed lines: 1.77 seconds. Estimated time for incomplete lines: 10.62 seconds.\n",
      "2024-07-17 09:16:15 -0500   32056 execution.bulk     INFO     Process name(SpawnProcess-5)-Process id(28940)-Line number(24) completed.\n",
      "2024-07-17 09:16:15 -0500   32056 execution.bulk     INFO     Process name(SpawnProcess-5)-Process id(28940)-Line number(25) start execution.\n",
      "2024-07-17 09:16:15 -0500   32056 execution.bulk     INFO     Process name(SpawnProcess-5)-Process id(28940)-Line number(25) completed.\n",
      "2024-07-17 09:16:15 -0500   32056 execution.bulk     INFO     Process name(SpawnProcess-5)-Process id(28940)-Line number(26) start execution.\n",
      "2024-07-17 09:16:15 -0500   32056 execution.bulk     INFO     Process name(SpawnProcess-5)-Process id(28940)-Line number(26) completed.\n",
      "2024-07-17 09:16:15 -0500   32056 execution.bulk     INFO     Process name(SpawnProcess-5)-Process id(28940)-Line number(27) start execution.\n",
      "2024-07-17 09:16:15 -0500   32056 execution.bulk     INFO     Process name(SpawnProcess-6)-Process id(5772)-Line number(24) completed.\n",
      "2024-07-17 09:16:15 -0500   32056 execution.bulk     INFO     Process name(SpawnProcess-6)-Process id(5772)-Line number(25) start execution.\n",
      "2024-07-17 09:16:16 -0500   32056 execution.bulk     INFO     Finished 27 / 30 lines.\n",
      "2024-07-17 09:16:16 -0500   32056 execution.bulk     INFO     Average execution time for completed lines: 0.78 seconds. Estimated time for incomplete lines: 2.34 seconds.\n",
      "2024-07-17 09:16:16 -0500   32056 execution.bulk     INFO     Process name(SpawnProcess-5)-Process id(28940)-Line number(27) completed.\n",
      "2024-07-17 09:16:16 -0500   32056 execution.bulk     INFO     Process name(SpawnProcess-5)-Process id(28940)-Line number(28) start execution.\n",
      "2024-07-17 09:16:17 -0500   32056 execution.bulk     INFO     Process name(SpawnProcess-5)-Process id(28940)-Line number(28) completed.\n",
      "2024-07-17 09:16:17 -0500   32056 execution.bulk     INFO     Process name(SpawnProcess-5)-Process id(28940)-Line number(29) start execution.\n",
      "2024-07-17 09:16:17 -0500   32056 execution.bulk     INFO     Process name(SpawnProcess-6)-Process id(5772)-Line number(25) completed.\n",
      "2024-07-17 09:16:17 -0500   32056 execution.bulk     INFO     Process name(SpawnProcess-6)-Process id(5772)-Line number(26) start execution.\n",
      "2024-07-17 09:16:17 -0500   32056 execution.bulk     INFO     Process name(SpawnProcess-5)-Process id(28940)-Line number(29) completed.\n",
      "2024-07-17 09:16:18 -0500   32056 execution.bulk     INFO     Finished 30 / 30 lines.\n",
      "2024-07-17 09:16:18 -0500   32056 execution.bulk     INFO     Average execution time for completed lines: 0.77 seconds. Estimated time for incomplete lines: 0.0 seconds.\n",
      "2024-07-17 09:16:18 -0500   32056 execution.bulk     INFO     The thread monitoring the process [28940-SpawnProcess-5] will be terminated.\n",
      "2024-07-17 09:16:19 -0500   32056 execution.bulk     INFO     Process name(SpawnProcess-6)-Process id(5772)-Line number(26) completed.\n",
      "2024-07-17 09:16:19 -0500   32056 execution.bulk     INFO     Process name(SpawnProcess-6)-Process id(5772)-Line number(27) start execution.\n",
      "2024-07-17 09:16:19 -0500   32056 execution.bulk     INFO     Finished 27 / 30 lines.\n",
      "2024-07-17 09:16:19 -0500   32056 execution.bulk     INFO     Average execution time for completed lines: 1.76 seconds. Estimated time for incomplete lines: 5.28 seconds.\n",
      "2024-07-17 09:16:20 -0500   32056 execution.bulk     INFO     Process 28940 terminated.\n",
      "2024-07-17 09:16:20 -0500   32056 execution.bulk     INFO     Process name(SpawnProcess-6)-Process id(5772)-Line number(27) completed.\n",
      "2024-07-17 09:16:20 -0500   32056 execution.bulk     INFO     Process name(SpawnProcess-6)-Process id(5772)-Line number(28) start execution.\n"
     ]
    },
    {
     "name": "stderr",
     "output_type": "stream",
     "text": [
      "[2024-07-17 09:16:21 -0500][promptflow._sdk._orchestrator.run_submitter][INFO] - Uploading run 'src_quality_custom_custom_similarity_semanticsimilarityevaluator_f8hh8dri_20240717_091520_300807' to cloud...\n"
     ]
    },
    {
     "name": "stdout",
     "output_type": "stream",
     "text": [
      "2024-07-17 09:16:21 -0500   32056 execution.bulk     INFO     Process name(SpawnProcess-6)-Process id(5772)-Line number(28) completed.\n",
      "2024-07-17 09:16:21 -0500   32056 execution.bulk     INFO     Process name(SpawnProcess-6)-Process id(5772)-Line number(29) start execution.\n",
      "2024-07-17 09:16:23 -0500   32056 execution.bulk     INFO     Process name(SpawnProcess-6)-Process id(5772)-Line number(29) completed.\n",
      "2024-07-17 09:16:23 -0500   32056 execution.bulk     INFO     Finished 30 / 30 lines.\n",
      "2024-07-17 09:16:23 -0500   32056 execution.bulk     INFO     Average execution time for completed lines: 1.72 seconds. Estimated time for incomplete lines: 0.0 seconds.\n",
      "2024-07-17 09:16:23 -0500   32056 execution.bulk     INFO     The thread monitoring the process [5772-SpawnProcess-6] will be terminated.\n",
      "2024-07-17 09:16:24 -0500   32056 execution.bulk     INFO     Process 5772 terminated.\n"
     ]
    },
    {
     "name": "stderr",
     "output_type": "stream",
     "text": [
      "[2024-07-17 09:16:25 -0500][promptflow._sdk._orchestrator.run_submitter][INFO] - Uploading run 'promptflow_evals_evaluators_similarity_similarity_similarityevaluator_ag_1gi8y_20240717_091520_294143' to cloud...\n",
      "[2024-07-17 09:16:27 -0500][promptflow._sdk._orchestrator.run_submitter][INFO] - Updating run 'src_quality_custom_custom_similarity_semanticsimilarityevaluator_f8hh8dri_20240717_091520_300807' portal url to 'https://ai.azure.com/projectflows/trace/run/src_quality_custom_custom_similarity_semanticsimilarityevaluator_f8hh8dri_20240717_091520_300807/details?wsid=/subscriptions/1a4bb722-f155-4502-8033-022a9eb1481b/resourcegroups/dev/providers/Microsoft.MachineLearningServices/workspaces/test-env'.\n"
     ]
    },
    {
     "name": "stdout",
     "output_type": "stream",
     "text": [
      "Portal url: https://ai.azure.com/projectflows/trace/run/src_quality_custom_custom_similarity_semanticsimilarityevaluator_f8hh8dri_20240717_091520_300807/details?wsid=/subscriptions/1a4bb722-f155-4502-8033-022a9eb1481b/resourcegroups/dev/providers/Microsoft.MachineLearningServices/workspaces/test-env\n",
      "2024-07-17 09:15:25 -0500   32056 execution.bulk     INFO     Current thread is not main thread, skip signal handler registration in BatchEngine.\n",
      "2024-07-17 09:15:25 -0500   32056 execution.bulk     WARNING  Current system's available memory is 713.09375MB, less than the memory 951.8359375MB required by the process. The maximum available worker count is 1.\n",
      "2024-07-17 09:15:25 -0500   32056 execution.bulk     INFO     Set process count to 1 by taking the minimum value among the factors of {'default_worker_count': 4, 'row_count': 30, 'estimated_worker_count_based_on_memory_usage': 1}.\n",
      "2024-07-17 09:15:55 -0500   32056 execution.bulk     INFO     Process name(SpawnProcess-5)-Process id(28940)-Line number(0) start execution.\n",
      "2024-07-17 09:16:00 -0500   32056 execution.bulk     INFO     Process name(SpawnProcess-5)-Process id(28940)-Line number(0) completed.\n",
      "2024-07-17 09:16:00 -0500   32056 execution.bulk     INFO     Process name(SpawnProcess-5)-Process id(28940)-Line number(1) start execution.\n",
      "2024-07-17 09:16:01 -0500   32056 execution.bulk     INFO     Process name(SpawnProcess-5)-Process id(28940)-Line number(1) completed.\n",
      "2024-07-17 09:16:01 -0500   32056 execution.bulk     INFO     Process name(SpawnProcess-5)-Process id(28940)-Line number(2) start execution.\n",
      "2024-07-17 09:16:01 -0500   32056 execution.bulk     INFO     Process name(SpawnProcess-5)-Process id(28940)-Line number(2) completed.\n",
      "2024-07-17 09:16:01 -0500   32056 execution.bulk     INFO     Process name(SpawnProcess-5)-Process id(28940)-Line number(3) start execution.\n",
      "2024-07-17 09:16:02 -0500   32056 execution.bulk     INFO     Finished 3 / 30 lines.\n",
      "2024-07-17 09:16:02 -0500   32056 execution.bulk     INFO     Average execution time for completed lines: 2.35 seconds. Estimated time for incomplete lines: 63.45 seconds.\n",
      "2024-07-17 09:16:02 -0500   32056 execution.bulk     INFO     Process name(SpawnProcess-5)-Process id(28940)-Line number(3) completed.\n",
      "2024-07-17 09:16:02 -0500   32056 execution.bulk     INFO     Process name(SpawnProcess-5)-Process id(28940)-Line number(4) start execution.\n",
      "2024-07-17 09:16:03 -0500   32056 execution.bulk     INFO     Process name(SpawnProcess-5)-Process id(28940)-Line number(4) completed.\n",
      "2024-07-17 09:16:03 -0500   32056 execution.bulk     INFO     Process name(SpawnProcess-5)-Process id(28940)-Line number(5) start execution.\n",
      "2024-07-17 09:16:03 -0500   32056 execution.bulk     INFO     Process name(SpawnProcess-5)-Process id(28940)-Line number(5) completed.\n",
      "2024-07-17 09:16:04 -0500   32056 execution.bulk     INFO     Process name(SpawnProcess-5)-Process id(28940)-Line number(6) start execution.\n",
      "2024-07-17 09:16:04 -0500   32056 execution.bulk     INFO     Finished 6 / 30 lines.\n",
      "2024-07-17 09:16:04 -0500   32056 execution.bulk     INFO     Average execution time for completed lines: 1.51 seconds. Estimated time for incomplete lines: 36.24 seconds.\n",
      "2024-07-17 09:16:04 -0500   32056 execution.bulk     INFO     Process name(SpawnProcess-5)-Process id(28940)-Line number(6) completed.\n",
      "2024-07-17 09:16:04 -0500   32056 execution.bulk     INFO     Process name(SpawnProcess-5)-Process id(28940)-Line number(7) start execution.\n",
      "2024-07-17 09:16:04 -0500   32056 execution.bulk     INFO     Process name(SpawnProcess-5)-Process id(28940)-Line number(7) completed.\n",
      "2024-07-17 09:16:04 -0500   32056 execution.bulk     INFO     Process name(SpawnProcess-5)-Process id(28940)-Line number(8) start execution.\n",
      "2024-07-17 09:16:05 -0500   32056 execution.bulk     INFO     Process name(SpawnProcess-5)-Process id(28940)-Line number(8) completed.\n",
      "2024-07-17 09:16:05 -0500   32056 execution.bulk     INFO     Process name(SpawnProcess-5)-Process id(28940)-Line number(9) start execution.\n",
      "2024-07-17 09:16:06 -0500   32056 execution.bulk     INFO     Process name(SpawnProcess-5)-Process id(28940)-Line number(9) completed.\n",
      "2024-07-17 09:16:06 -0500   32056 execution.bulk     INFO     Process name(SpawnProcess-5)-Process id(28940)-Line number(10) start execution.\n",
      "2024-07-17 09:16:06 -0500   32056 execution.bulk     INFO     Finished 10 / 30 lines.\n",
      "2024-07-17 09:16:06 -0500   32056 execution.bulk     INFO     Average execution time for completed lines: 1.11 seconds. Estimated time for incomplete lines: 22.2 seconds.\n",
      "2024-07-17 09:16:07 -0500   32056 execution.bulk     INFO     Process name(SpawnProcess-5)-Process id(28940)-Line number(10) completed.\n",
      "2024-07-17 09:16:07 -0500   32056 execution.bulk     INFO     Process name(SpawnProcess-5)-Process id(28940)-Line number(11) start execution.\n",
      "2024-07-17 09:16:07 -0500   32056 execution.bulk     INFO     Process name(SpawnProcess-5)-Process id(28940)-Line number(11) completed.\n",
      "2024-07-17 09:16:07 -0500   32056 execution.bulk     INFO     Process name(SpawnProcess-5)-Process id(28940)-Line number(12) start execution.\n",
      "2024-07-17 09:16:08 -0500   32056 execution.bulk     INFO     Process name(SpawnProcess-5)-Process id(28940)-Line number(12) completed.\n",
      "2024-07-17 09:16:08 -0500   32056 execution.bulk     INFO     Process name(SpawnProcess-5)-Process id(28940)-Line number(13) start execution.\n",
      "2024-07-17 09:16:08 -0500   32056 execution.bulk     INFO     Finished 13 / 30 lines.\n",
      "2024-07-17 09:16:08 -0500   32056 execution.bulk     INFO     Average execution time for completed lines: 1.01 seconds. Estimated time for incomplete lines: 17.17 seconds.\n",
      "2024-07-17 09:16:09 -0500   32056 execution.bulk     INFO     Process name(SpawnProcess-5)-Process id(28940)-Line number(13) completed.\n",
      "2024-07-17 09:16:09 -0500   32056 execution.bulk     INFO     Process name(SpawnProcess-5)-Process id(28940)-Line number(14) start execution.\n",
      "2024-07-17 09:16:09 -0500   32056 execution.bulk     INFO     Process name(SpawnProcess-5)-Process id(28940)-Line number(14) completed.\n",
      "2024-07-17 09:16:09 -0500   32056 execution.bulk     INFO     Process name(SpawnProcess-5)-Process id(28940)-Line number(15) start execution.\n",
      "2024-07-17 09:16:10 -0500   32056 execution.bulk     INFO     Process name(SpawnProcess-5)-Process id(28940)-Line number(15) completed.\n",
      "2024-07-17 09:16:10 -0500   32056 execution.bulk     INFO     Process name(SpawnProcess-5)-Process id(28940)-Line number(16) start execution.\n",
      "2024-07-17 09:16:10 -0500   32056 execution.bulk     INFO     Finished 16 / 30 lines.\n",
      "2024-07-17 09:16:10 -0500   32056 execution.bulk     INFO     Average execution time for completed lines: 0.95 seconds. Estimated time for incomplete lines: 13.3 seconds.\n",
      "2024-07-17 09:16:11 -0500   32056 execution.bulk     INFO     Process name(SpawnProcess-5)-Process id(28940)-Line number(16) completed.\n",
      "2024-07-17 09:16:11 -0500   32056 execution.bulk     INFO     Process name(SpawnProcess-5)-Process id(28940)-Line number(17) start execution.\n",
      "2024-07-17 09:16:11 -0500   32056 execution.bulk     INFO     Process name(SpawnProcess-5)-Process id(28940)-Line number(17) completed.\n",
      "2024-07-17 09:16:11 -0500   32056 execution.bulk     INFO     Process name(SpawnProcess-5)-Process id(28940)-Line number(18) start execution.\n",
      "2024-07-17 09:16:12 -0500   32056 execution.bulk     INFO     Process name(SpawnProcess-5)-Process id(28940)-Line number(18) completed.\n",
      "2024-07-17 09:16:12 -0500   32056 execution.bulk     INFO     Process name(SpawnProcess-5)-Process id(28940)-Line number(19) start execution.\n",
      "2024-07-17 09:16:12 -0500   32056 execution.bulk     INFO     Process name(SpawnProcess-5)-Process id(28940)-Line number(19) completed.\n",
      "2024-07-17 09:16:12 -0500   32056 execution.bulk     INFO     Process name(SpawnProcess-5)-Process id(28940)-Line number(20) start execution.\n",
      "2024-07-17 09:16:12 -0500   32056 execution.bulk     INFO     Finished 20 / 30 lines.\n",
      "2024-07-17 09:16:12 -0500   32056 execution.bulk     INFO     Average execution time for completed lines: 0.86 seconds. Estimated time for incomplete lines: 8.6 seconds.\n",
      "2024-07-17 09:16:12 -0500   32056 execution.bulk     INFO     Process name(SpawnProcess-5)-Process id(28940)-Line number(20) completed.\n",
      "2024-07-17 09:16:12 -0500   32056 execution.bulk     INFO     Process name(SpawnProcess-5)-Process id(28940)-Line number(21) start execution.\n",
      "2024-07-17 09:16:13 -0500   32056 execution.bulk     INFO     Process name(SpawnProcess-5)-Process id(28940)-Line number(21) completed.\n",
      "2024-07-17 09:16:13 -0500   32056 execution.bulk     INFO     Process name(SpawnProcess-5)-Process id(28940)-Line number(22) start execution.\n",
      "2024-07-17 09:16:13 -0500   32056 execution.bulk     INFO     Process name(SpawnProcess-5)-Process id(28940)-Line number(22) completed.\n",
      "2024-07-17 09:16:13 -0500   32056 execution.bulk     INFO     Process name(SpawnProcess-5)-Process id(28940)-Line number(23) start execution.\n",
      "2024-07-17 09:16:14 -0500   32056 execution.bulk     INFO     Process name(SpawnProcess-5)-Process id(28940)-Line number(23) completed.\n",
      "2024-07-17 09:16:14 -0500   32056 execution.bulk     INFO     Process name(SpawnProcess-5)-Process id(28940)-Line number(24) start execution.\n",
      "2024-07-17 09:16:14 -0500   32056 execution.bulk     INFO     Finished 24 / 30 lines.\n",
      "2024-07-17 09:16:14 -0500   32056 execution.bulk     INFO     Average execution time for completed lines: 0.8 seconds. Estimated time for incomplete lines: 4.8 seconds.\n",
      "2024-07-17 09:16:15 -0500   32056 execution.bulk     INFO     Process name(SpawnProcess-5)-Process id(28940)-Line number(24) completed.\n",
      "2024-07-17 09:16:15 -0500   32056 execution.bulk     INFO     Process name(SpawnProcess-5)-Process id(28940)-Line number(25) start execution.\n",
      "2024-07-17 09:16:15 -0500   32056 execution.bulk     INFO     Process name(SpawnProcess-5)-Process id(28940)-Line number(25) completed.\n",
      "2024-07-17 09:16:15 -0500   32056 execution.bulk     INFO     Process name(SpawnProcess-5)-Process id(28940)-Line number(26) start execution.\n",
      "2024-07-17 09:16:15 -0500   32056 execution.bulk     INFO     Process name(SpawnProcess-5)-Process id(28940)-Line number(26) completed.\n",
      "2024-07-17 09:16:15 -0500   32056 execution.bulk     INFO     Process name(SpawnProcess-5)-Process id(28940)-Line number(27) start execution.\n",
      "2024-07-17 09:16:16 -0500   32056 execution.bulk     INFO     Finished 27 / 30 lines.\n",
      "2024-07-17 09:16:16 -0500   32056 execution.bulk     INFO     Average execution time for completed lines: 0.78 seconds. Estimated time for incomplete lines: 2.34 seconds.\n",
      "2024-07-17 09:16:16 -0500   32056 execution.bulk     INFO     Process name(SpawnProcess-5)-Process id(28940)-Line number(27) completed.\n",
      "2024-07-17 09:16:16 -0500   32056 execution.bulk     INFO     Process name(SpawnProcess-5)-Process id(28940)-Line number(28) start execution.\n",
      "2024-07-17 09:16:17 -0500   32056 execution.bulk     INFO     Process name(SpawnProcess-5)-Process id(28940)-Line number(28) completed.\n",
      "2024-07-17 09:16:17 -0500   32056 execution.bulk     INFO     Process name(SpawnProcess-5)-Process id(28940)-Line number(29) start execution.\n",
      "2024-07-17 09:16:17 -0500   32056 execution.bulk     INFO     Process name(SpawnProcess-5)-Process id(28940)-Line number(29) completed.\n",
      "2024-07-17 09:16:18 -0500   32056 execution.bulk     INFO     Finished 30 / 30 lines.\n",
      "2024-07-17 09:16:18 -0500   32056 execution.bulk     INFO     Average execution time for completed lines: 0.77 seconds. Estimated time for incomplete lines: 0.0 seconds.\n",
      "2024-07-17 09:16:18 -0500   32056 execution.bulk     INFO     The thread monitoring the process [28940-SpawnProcess-5] will be terminated.\n",
      "2024-07-17 09:16:20 -0500   32056 execution.bulk     INFO     Process 28940 terminated.\n",
      "======= Run Summary =======\n",
      "\n",
      "Run name: \"src_quality_custom_custom_similarity_semanticsimilarityevaluator_f8hh8dri_20240717_091520_300807\"\n",
      "Run status: \"Completed\"\n",
      "Start time: \"2024-07-17 09:15:20.289871-05:00\"\n",
      "Duration: \"0:01:00.862416\"\n",
      "Output path: \"C:\\Users\\pablosal\\.promptflow\\.runs\\src_quality_custom_custom_similarity_semanticsimilarityevaluator_f8hh8dri_20240717_091520_300807\"\n",
      "\n"
     ]
    },
    {
     "name": "stderr",
     "output_type": "stream",
     "text": [
      "[2024-07-17 09:16:32 -0500][promptflow._sdk._orchestrator.run_submitter][INFO] - Updating run 'promptflow_evals_evaluators_similarity_similarity_similarityevaluator_ag_1gi8y_20240717_091520_294143' portal url to 'https://ai.azure.com/projectflows/trace/run/promptflow_evals_evaluators_similarity_similarity_similarityevaluator_ag_1gi8y_20240717_091520_294143/details?wsid=/subscriptions/1a4bb722-f155-4502-8033-022a9eb1481b/resourcegroups/dev/providers/Microsoft.MachineLearningServices/workspaces/test-env'.\n"
     ]
    },
    {
     "name": "stdout",
     "output_type": "stream",
     "text": [
      "Portal url: https://ai.azure.com/projectflows/trace/run/promptflow_evals_evaluators_similarity_similarity_similarityevaluator_ag_1gi8y_20240717_091520_294143/details?wsid=/subscriptions/1a4bb722-f155-4502-8033-022a9eb1481b/resourcegroups/dev/providers/Microsoft.MachineLearningServices/workspaces/test-env\n",
      "2024-07-17 09:15:25 -0500   32056 execution.bulk     INFO     Current thread is not main thread, skip signal handler registration in BatchEngine.\n",
      "2024-07-17 09:15:25 -0500   32056 execution.bulk     WARNING  Current system's available memory is 739.3984375MB, less than the memory 952.2109375MB required by the process. The maximum available worker count is 1.\n",
      "2024-07-17 09:15:25 -0500   32056 execution.bulk     INFO     Set process count to 1 by taking the minimum value among the factors of {'default_worker_count': 4, 'row_count': 30, 'estimated_worker_count_based_on_memory_usage': 1}.\n",
      "2024-07-17 09:15:32 -0500   32056 execution.bulk     INFO     Process name(SpawnProcess-6)-Process id(5772)-Line number(0) start execution.\n",
      "2024-07-17 09:15:36 -0500   10340 execution          WARNING  [Flex in line 0 (index starts from 0)] stderr> [2024-07-17 09:15:36 -0500][flowinvoker][INFO] - Getting connections from pf client with provider from args: local...\n",
      "2024-07-17 09:15:37 -0500   10340 execution          WARNING  [Flex in line 0 (index starts from 0)] stderr> [2024-07-17 09:15:37 -0500][flowinvoker][INFO] - Promptflow get connections successfully. keys: dict_keys([])\n",
      "2024-07-17 09:15:37 -0500   10340 execution          WARNING  [Flex in line 0 (index starts from 0)] stderr> [2024-07-17 09:15:37 -0500][flowinvoker][INFO] - Promptflow executor starts initializing...\n",
      "2024-07-17 09:15:37 -0500   10340 execution          WARNING  [Flex in line 0 (index starts from 0)] stderr> [2024-07-17 09:15:37 -0500][flowinvoker][INFO] - Promptflow executor initiated successfully.\n",
      "2024-07-17 09:15:37 -0500   10340 execution          WARNING  [Flex in line 0 (index starts from 0)] stderr> [2024-07-17 09:15:37 -0500][flowinvoker][INFO] - Validating flow input with data {'answer': 'Paris is the capital of France.', 'ground_truth': 'The capital of France is Paris.'}\n",
      "2024-07-17 09:15:37 -0500   10340 execution          WARNING  [Flex in line 0 (index starts from 0)] stderr> [2024-07-17 09:15:37 -0500][flowinvoker][INFO] - Execute flow with data {'answer': 'Paris is the capital of France.', 'ground_truth': 'The capital of France is Paris.'}\n",
      "2024-07-17 09:15:37 -0500   10340 execution          WARNING  [Flex in line 0 (index starts from 0)] stderr> [2024-07-17 09:15:37 -0500][flowinvoker][INFO] - Validating flow input with data {'answer': 'Albert Einstein developed the theory of relativity.', 'ground_truth': 'The theory of relativity was developed by Albert Einstein.'}\n",
      "2024-07-17 09:15:37 -0500   10340 execution          WARNING  [Flex in line 0 (index starts from 0)] stderr> [2024-07-17 09:15:37 -0500][flowinvoker][INFO] - Execute flow with data {'answer': 'Albert Einstein developed the theory of relativity.', 'ground_truth': 'The theory of relativity was developed by Albert Einstein.'}\n",
      "2024-07-17 09:15:37 -0500   10340 execution          WARNING  [Flex in line 0 (index starts from 0)] stderr> [2024-07-17 09:15:37 -0500][flowinvoker][INFO] - Validating flow input with data {'answer': 'The speed of light is approximately 299,792,458 meters per second.', 'ground_truth': 'Light travels at a speed of 299,792,458 meters per second.'}\n",
      "2024-07-17 09:15:37 -0500   10340 execution          WARNING  [Flex in line 0 (index starts from 0)] stderr> [2024-07-17 09:15:37 -0500][flowinvoker][INFO] - Execute flow with data {'answer': 'The speed of light is approximately 299,792,458 meters per second.', 'ground_truth': 'Light travels at a speed of 299,792,458 meters per second.'}\n",
      "2024-07-17 09:15:37 -0500   10340 execution          WARNING  [Flex in line 0 (index starts from 0)] stderr> [2024-07-17 09:15:37 -0500][flowinvoker][INFO] - Validating flow input with data {'answer': 'Mount Everest is the tallest mountain in the world.', 'ground_truth': \"The world's tallest mountain is Mount Everest.\"}\n",
      "2024-07-17 09:15:37 -0500   10340 execution          WARNING  [Flex in line 0 (index starts from 0)] stderr> [2024-07-17 09:15:37 -0500][flowinvoker][INFO] - Execute flow with data {'answer': 'Mount Everest is the tallest mountain in the world.', 'ground_truth': \"The world's tallest mountain is Mount Everest.\"}\n",
      "2024-07-17 09:15:37 -0500   10340 execution          WARNING  [Flex in line 0 (index starts from 0)] stderr> [2024-07-17 09:15:37 -0500][flowinvoker][INFO] - Validating flow input with data {'answer': \"George Orwell is the author of '1984'.\", 'ground_truth': \"The author of '1984' is George Orwell.\"}\n",
      "2024-07-17 09:15:37 -0500   10340 execution          WARNING  [Flex in line 0 (index starts from 0)] stderr> [2024-07-17 09:15:37 -0500][flowinvoker][INFO] - Execute flow with data {'answer': \"George Orwell is the author of '1984'.\", 'ground_truth': \"The author of '1984' is George Orwell.\"}\n",
      "2024-07-17 09:15:37 -0500   10340 execution          WARNING  [Flex in line 0 (index starts from 0)] stderr> [2024-07-17 09:15:37 -0500][flowinvoker][INFO] - Validating flow input with data {'answer': 'Tokyo is the capital of Japan.', 'ground_truth': \"Japan's capital is Tokyo.\"}\n",
      "2024-07-17 09:15:37 -0500   10340 execution          WARNING  [Flex in line 0 (index starts from 0)] stderr> [2024-07-17 09:15:37 -0500][flowinvoker][INFO] - Execute flow with data {'answer': 'Tokyo is the capital of Japan.', 'ground_truth': \"Japan's capital is Tokyo.\"}\n",
      "2024-07-17 09:15:37 -0500   10340 execution          WARNING  [Flex in line 0 (index starts from 0)] stderr> [2024-07-17 09:15:37 -0500][flowinvoker][INFO] - Validating flow input with data {'answer': 'Leonardo da Vinci painted the Mona Lisa.', 'ground_truth': 'The Mona Lisa was painted by Leonardo da Vinci.'}\n",
      "2024-07-17 09:15:37 -0500   10340 execution          WARNING  [Flex in line 0 (index starts from 0)] stderr> [2024-07-17 09:15:37 -0500][flowinvoker][INFO] - Execute flow with data {'answer': 'Leonardo da Vinci painted the Mona Lisa.', 'ground_truth': 'The Mona Lisa was painted by Leonardo da Vinci.'}\n",
      "2024-07-17 09:15:37 -0500   10340 execution          WARNING  [Flex in line 0 (index starts from 0)] stderr> [2024-07-17 09:15:37 -0500][flowinvoker][INFO] - Validating flow input with data {'answer': 'Jupiter is the largest planet in our solar system.', 'ground_truth': 'The largest planet in our solar system is Jupiter.'}\n",
      "2024-07-17 09:15:37 -0500   10340 execution          WARNING  [Flex in line 0 (index starts from 0)] stderr> [2024-07-17 09:15:37 -0500][flowinvoker][INFO] - Execute flow with data {'answer': 'Jupiter is the largest planet in our solar system.', 'ground_truth': 'The largest planet in our solar system is Jupiter.'}\n",
      "2024-07-17 09:15:37 -0500   10340 execution          WARNING  [Flex in line 0 (index starts from 0)] stderr> [2024-07-17 09:15:37 -0500][flowinvoker][INFO] - Validating flow input with data {'answer': 'H2O is the chemical symbol for water.', 'ground_truth': 'The chemical symbol for water is H2O.'}\n",
      "2024-07-17 09:15:37 -0500   10340 execution          WARNING  [Flex in line 0 (index starts from 0)] stderr> [2024-07-17 09:15:37 -0500][flowinvoker][INFO] - Execute flow with data {'answer': 'H2O is the chemical symbol for water.', 'ground_truth': 'The chemical symbol for water is H2O.'}\n",
      "2024-07-17 09:15:37 -0500   10340 execution          WARNING  [Flex in line 0 (index starts from 0)] stderr> [2024-07-17 09:15:37 -0500][flowinvoker][INFO] - Validating flow input with data {'answer': 'The Pacific Ocean is the largest ocean on Earth.', 'ground_truth': 'The largest ocean on Earth is the Pacific Ocean.'}\n",
      "2024-07-17 09:15:37 -0500   10340 execution          WARNING  [Flex in line 0 (index starts from 0)] stderr> [2024-07-17 09:15:37 -0500][flowinvoker][INFO] - Execute flow with data {'answer': 'The Pacific Ocean is the largest ocean on Earth.', 'ground_truth': 'The largest ocean on Earth is the Pacific Ocean.'}\n",
      "2024-07-17 09:15:37 -0500   10340 execution          WARNING  [Flex in line 0 (index starts from 0)] stderr> [2024-07-17 09:15:37 -0500][flowinvoker][INFO] - Validating flow input with data {'answer': 'The Great Pyramid of Giza was built by Alexander the Great.', 'ground_truth': 'The Great Pyramid of Giza was built by the Egyptians.'}\n",
      "2024-07-17 09:15:37 -0500   10340 execution          WARNING  [Flex in line 0 (index starts from 0)] stderr> [2024-07-17 09:15:37 -0500][flowinvoker][INFO] - Execute flow with data {'answer': 'The Great Pyramid of Giza was built by Alexander the Great.', 'ground_truth': 'The Great Pyramid of Giza was built by the Egyptians.'}\n",
      "2024-07-17 09:15:37 -0500   10340 execution          WARNING  [Flex in line 0 (index starts from 0)] stderr> [2024-07-17 09:15:37 -0500][flowinvoker][INFO] - Validating flow input with data {'answer': 'The human body has four senses.', 'ground_truth': 'The human body has five primary senses.'}\n",
      "2024-07-17 09:15:37 -0500   10340 execution          WARNING  [Flex in line 0 (index starts from 0)] stderr> [2024-07-17 09:15:37 -0500][flowinvoker][INFO] - Execute flow with data {'answer': 'The human body has four senses.', 'ground_truth': 'The human body has five primary senses.'}\n",
      "2024-07-17 09:15:37 -0500   10340 execution          WARNING  [Flex in line 0 (index starts from 0)] stderr> [2024-07-17 09:15:37 -0500][flowinvoker][INFO] - Validating flow input with data {'answer': 'The Amazon is the longest river in the world.', 'ground_truth': 'The Nile is often cited as the longest river in the world, but some sources claim the Amazon is longer.'}\n",
      "2024-07-17 09:15:37 -0500   10340 execution          WARNING  [Flex in line 0 (index starts from 0)] stderr> [2024-07-17 09:15:37 -0500][flowinvoker][INFO] - Execute flow with data {'answer': 'The Amazon is the longest river in the world.', 'ground_truth': 'The Nile is often cited as the longest river in the world, but some sources claim the Amazon is longer.'}\n",
      "2024-07-17 09:15:37 -0500   10340 execution          WARNING  [Flex in line 0 (index starts from 0)] stderr> [2024-07-17 09:15:37 -0500][flowinvoker][INFO] - Validating flow input with data {'answer': 'The internet was invented in the 1960s.', 'ground_truth': 'The foundational technology of the internet was developed in the late 1960s.'}\n",
      "2024-07-17 09:15:37 -0500   10340 execution          WARNING  [Flex in line 0 (index starts from 0)] stderr> [2024-07-17 09:15:37 -0500][flowinvoker][INFO] - Execute flow with data {'answer': 'The internet was invented in the 1960s.', 'ground_truth': 'The foundational technology of the internet was developed in the late 1960s.'}\n",
      "2024-07-17 09:15:37 -0500   10340 execution          WARNING  [Flex in line 0 (index starts from 0)] stderr> [2024-07-17 09:15:37 -0500][flowinvoker][INFO] - Validating flow input with data {'answer': 'The heart is on the right side of the human body.', 'ground_truth': 'The heart is located slightly to the left side of the chest in the human body.'}\n",
      "2024-07-17 09:15:37 -0500   10340 execution          WARNING  [Flex in line 0 (index starts from 0)] stderr> [2024-07-17 09:15:37 -0500][flowinvoker][INFO] - Execute flow with data {'answer': 'The heart is on the right side of the human body.', 'ground_truth': 'The heart is located slightly to the left side of the chest in the human body.'}\n",
      "2024-07-17 09:15:37 -0500   10340 execution          WARNING  [Flex in line 0 (index starts from 0)] stderr> [2024-07-17 09:15:37 -0500][flowinvoker][INFO] - Validating flow input with data {'answer': 'The sun revolves around the Earth.', 'ground_truth': 'The Earth revolves around the sun.'}\n",
      "2024-07-17 09:15:37 -0500   10340 execution          WARNING  [Flex in line 0 (index starts from 0)] stderr> [2024-07-17 09:15:37 -0500][flowinvoker][INFO] - Execute flow with data {'answer': 'The sun revolves around the Earth.', 'ground_truth': 'The Earth revolves around the sun.'}\n",
      "2024-07-17 09:15:37 -0500   10340 execution          WARNING  [Flex in line 0 (index starts from 0)] stderr> [2024-07-17 09:15:37 -0500][flowinvoker][INFO] - Validating flow input with data {'answer': 'Sharks are mammals.', 'ground_truth': 'Sharks are a group of fish characterized by a cartilaginous skeleton.'}\n",
      "2024-07-17 09:15:37 -0500   10340 execution          WARNING  [Flex in line 0 (index starts from 0)] stderr> [2024-07-17 09:15:37 -0500][flowinvoker][INFO] - Execute flow with data {'answer': 'Sharks are mammals.', 'ground_truth': 'Sharks are a group of fish characterized by a cartilaginous skeleton.'}\n",
      "2024-07-17 09:15:37 -0500   10340 execution          WARNING  [Flex in line 0 (index starts from 0)] stderr> [2024-07-17 09:15:37 -0500][flowinvoker][INFO] - Validating flow input with data {'answer': 'The capital of Canada is Toronto.', 'ground_truth': 'The capital of Canada is Ottawa.'}\n",
      "2024-07-17 09:15:37 -0500   10340 execution          WARNING  [Flex in line 0 (index starts from 0)] stderr> [2024-07-17 09:15:37 -0500][flowinvoker][INFO] - Execute flow with data {'answer': 'The capital of Canada is Toronto.', 'ground_truth': 'The capital of Canada is Ottawa.'}\n",
      "2024-07-17 09:15:38 -0500   10340 execution          WARNING  [Flex in line 0 (index starts from 0)] stderr> [2024-07-17 09:15:38 -0500][flowinvoker][INFO] - Validating flow input with data {'answer': 'The inventor of the telephone was Thomas Edison.', 'ground_truth': 'Alexander Graham Bell is credited with inventing the first practical telephone.'}\n",
      "2024-07-17 09:15:38 -0500   10340 execution          WARNING  [Flex in line 0 (index starts from 0)] stderr> [2024-07-17 09:15:38 -0500][flowinvoker][INFO] - Execute flow with data {'answer': 'The inventor of the telephone was Thomas Edison.', 'ground_truth': 'Alexander Graham Bell is credited with inventing the first practical telephone.'}\n",
      "2024-07-17 09:15:38 -0500   10340 execution          WARNING  [Flex in line 0 (index starts from 0)] stderr> [2024-07-17 09:15:38 -0500][flowinvoker][INFO] - Validating flow input with data {'answer': 'The chemical symbol for gold is Ag.', 'ground_truth': 'The chemical symbol for gold is Au.'}\n",
      "2024-07-17 09:15:38 -0500   10340 execution          WARNING  [Flex in line 0 (index starts from 0)] stderr> [2024-07-17 09:15:38 -0500][flowinvoker][INFO] - Execute flow with data {'answer': 'The chemical symbol for gold is Ag.', 'ground_truth': 'The chemical symbol for gold is Au.'}\n",
      "2024-07-17 09:15:38 -0500   10340 execution          WARNING  [Flex in line 0 (index starts from 0)] stderr> [2024-07-17 09:15:38 -0500][flowinvoker][INFO] - Validating flow input with data {'answer': 'The largest desert in the world is the Sahara.', 'ground_truth': 'The largest desert in the world is Antarctica.'}\n",
      "2024-07-17 09:15:38 -0500   10340 execution          WARNING  [Flex in line 0 (index starts from 0)] stderr> [2024-07-17 09:15:38 -0500][flowinvoker][INFO] - Execute flow with data {'answer': 'The largest desert in the world is the Sahara.', 'ground_truth': 'The largest desert in the world is Antarctica.'}\n",
      "2024-07-17 09:15:38 -0500   10340 execution          WARNING  [Flex in line 0 (index starts from 0)] stderr> [2024-07-17 09:15:38 -0500][flowinvoker][INFO] - Validating flow input with data {'answer': 'The first man to step on the moon was Lance Armstrong.', 'ground_truth': 'The first man to step on the moon was Neil Armstrong.'}\n",
      "2024-07-17 09:15:38 -0500   10340 execution          WARNING  [Flex in line 0 (index starts from 0)] stderr> [2024-07-17 09:15:38 -0500][flowinvoker][INFO] - Execute flow with data {'answer': 'The first man to step on the moon was Lance Armstrong.', 'ground_truth': 'The first man to step on the moon was Neil Armstrong.'}\n",
      "2024-07-17 09:15:38 -0500   10340 execution          WARNING  [Flex in line 0 (index starts from 0)] stderr> [2024-07-17 09:15:38 -0500][flowinvoker][INFO] - Validating flow input with data {'answer': 'The capital of Egypt is Cairo.', 'ground_truth': 'The capital of Egypt is Cairo.'}\n",
      "2024-07-17 09:15:38 -0500   10340 execution          WARNING  [Flex in line 0 (index starts from 0)] stderr> [2024-07-17 09:15:38 -0500][flowinvoker][INFO] - Execute flow with data {'answer': 'The capital of Egypt is Cairo.', 'ground_truth': 'The capital of Egypt is Cairo.'}\n",
      "2024-07-17 09:15:38 -0500   10340 execution          WARNING  [Flex in line 0 (index starts from 0)] stderr> [2024-07-17 09:15:38 -0500][flowinvoker][INFO] - Validating flow input with data {'answer': 'Photosynthesis is performed by animals.', 'ground_truth': 'Photosynthesis is performed by plants.'}\n",
      "2024-07-17 09:15:38 -0500   10340 execution          WARNING  [Flex in line 0 (index starts from 0)] stderr> [2024-07-17 09:15:38 -0500][flowinvoker][INFO] - Execute flow with data {'answer': 'Photosynthesis is performed by animals.', 'ground_truth': 'Photosynthesis is performed by plants.'}\n",
      "2024-07-17 09:15:38 -0500   10340 execution          WARNING  [Flex in line 0 (index starts from 0)] stderr> [2024-07-17 09:15:38 -0500][flowinvoker][INFO] - Validating flow input with data {'answer': 'The smallest bone in the human body is the femur.', 'ground_truth': 'The smallest bone in the human body is the stapes bone in the ear.'}\n",
      "2024-07-17 09:15:38 -0500   10340 execution          WARNING  [Flex in line 0 (index starts from 0)] stderr> [2024-07-17 09:15:38 -0500][flowinvoker][INFO] - Execute flow with data {'answer': 'The smallest bone in the human body is the femur.', 'ground_truth': 'The smallest bone in the human body is the stapes bone in the ear.'}\n",
      "2024-07-17 09:15:38 -0500   32056 execution.bulk     INFO     Process name(SpawnProcess-6)-Process id(5772)-Line number(0) completed.\n",
      "2024-07-17 09:15:38 -0500   32056 execution.bulk     INFO     Process name(SpawnProcess-6)-Process id(5772)-Line number(1) start execution.\n",
      "2024-07-17 09:15:38 -0500   10340 execution          WARNING  [Flex in line 0 (index starts from 0)] stderr> [2024-07-17 09:15:38 -0500][flowinvoker][INFO] - Validating flow input with data {'answer': 'The Pacific Ocean is the warmest ocean.', 'ground_truth': 'The Indian Ocean is considered the warmest ocean.'}\n",
      "2024-07-17 09:15:38 -0500   10340 execution          WARNING  [Flex in line 0 (index starts from 0)] stderr> [2024-07-17 09:15:38 -0500][flowinvoker][INFO] - Execute flow with data {'answer': 'The Pacific Ocean is the warmest ocean.', 'ground_truth': 'The Indian Ocean is considered the warmest ocean.'}\n",
      "2024-07-17 09:15:38 -0500   10340 execution          WARNING  [Flex in line 0 (index starts from 0)] stderr> [2024-07-17 09:15:38 -0500][flowinvoker][INFO] - Validating flow input with data {'answer': 'The light bulb was invented by Nikola Tesla.', 'ground_truth': 'The light bulb was invented by Thomas Edison.'}\n",
      "2024-07-17 09:15:38 -0500   10340 execution          WARNING  [Flex in line 0 (index starts from 0)] stderr> [2024-07-17 09:15:38 -0500][flowinvoker][INFO] - Execute flow with data {'answer': 'The light bulb was invented by Nikola Tesla.', 'ground_truth': 'The light bulb was invented by Thomas Edison.'}\n",
      "2024-07-17 09:15:38 -0500   10340 execution          WARNING  [Flex in line 0 (index starts from 0)] stderr> [2024-07-17 09:15:38 -0500][flowinvoker][INFO] - Validating flow input with data {'answer': 'The first president of the United States was John Adams.', 'ground_truth': 'The first president of the United States was George Washington.'}\n",
      "2024-07-17 09:15:38 -0500   10340 execution          WARNING  [Flex in line 0 (index starts from 0)] stderr> [2024-07-17 09:15:38 -0500][flowinvoker][INFO] - Execute flow with data {'answer': 'The first president of the United States was John Adams.', 'ground_truth': 'The first president of the United States was George Washington.'}\n",
      "2024-07-17 09:15:38 -0500   10340 execution          WARNING  [Flex in line 0 (index starts from 0)] stderr> [2024-07-17 09:15:38 -0500][flowinvoker][INFO] - Validating flow input with data {'answer': 'The formula for water is CO2.', 'ground_truth': 'The formula for water is H2O.'}\n",
      "2024-07-17 09:15:38 -0500   10340 execution          WARNING  [Flex in line 0 (index starts from 0)] stderr> [2024-07-17 09:15:38 -0500][flowinvoker][INFO] - Execute flow with data {'answer': 'The formula for water is CO2.', 'ground_truth': 'The formula for water is H2O.'}\n",
      "2024-07-17 09:15:39 -0500   10340 execution          WARNING  [Flex in line 0 (index starts from 0)] stderr> [2024-07-17 09:15:39 -0500][flowinvoker][INFO] - Validating flow input with data {'answer': 'The tallest building in the world is the Empire State Building.', 'ground_truth': 'The tallest building in the world is the Burj Khalifa.'}\n",
      "2024-07-17 09:15:39 -0500   10340 execution          WARNING  [Flex in line 0 (index starts from 0)] stderr> [2024-07-17 09:15:39 -0500][flowinvoker][INFO] - Execute flow with data {'answer': 'The tallest building in the world is the Empire State Building.', 'ground_truth': 'The tallest building in the world is the Burj Khalifa.'}\n",
      "2024-07-17 09:15:39 -0500   10340 execution.bulk     INFO     The process [10340] has received a terminate signal.\n",
      "2024-07-17 09:15:40 -0500   32056 execution.bulk     INFO     Process name(SpawnProcess-6)-Process id(5772)-Line number(1) completed.\n",
      "2024-07-17 09:15:40 -0500   32056 execution.bulk     INFO     Process name(SpawnProcess-6)-Process id(5772)-Line number(2) start execution.\n",
      "2024-07-17 09:15:41 -0500   32056 execution.bulk     INFO     Process name(SpawnProcess-6)-Process id(5772)-Line number(2) completed.\n",
      "2024-07-17 09:15:41 -0500   32056 execution.bulk     INFO     Process name(SpawnProcess-6)-Process id(5772)-Line number(3) start execution.\n",
      "2024-07-17 09:15:42 -0500   32056 execution.bulk     INFO     Finished 3 / 30 lines.\n",
      "2024-07-17 09:15:42 -0500   32056 execution.bulk     INFO     Average execution time for completed lines: 3.36 seconds. Estimated time for incomplete lines: 90.72 seconds.\n",
      "2024-07-17 09:15:43 -0500   32056 execution.bulk     INFO     Process name(SpawnProcess-6)-Process id(5772)-Line number(3) completed.\n",
      "2024-07-17 09:15:43 -0500   32056 execution.bulk     INFO     Process name(SpawnProcess-6)-Process id(5772)-Line number(4) start execution.\n",
      "2024-07-17 09:15:44 -0500   32056 execution.bulk     INFO     Process name(SpawnProcess-6)-Process id(5772)-Line number(4) completed.\n",
      "2024-07-17 09:15:44 -0500   32056 execution.bulk     INFO     Process name(SpawnProcess-6)-Process id(5772)-Line number(5) start execution.\n",
      "2024-07-17 09:15:46 -0500   32056 execution.bulk     INFO     Process name(SpawnProcess-6)-Process id(5772)-Line number(5) completed.\n",
      "2024-07-17 09:15:46 -0500   32056 execution.bulk     INFO     Process name(SpawnProcess-6)-Process id(5772)-Line number(6) start execution.\n",
      "2024-07-17 09:15:46 -0500   32056 execution.bulk     INFO     Finished 6 / 30 lines.\n",
      "2024-07-17 09:15:46 -0500   32056 execution.bulk     INFO     Average execution time for completed lines: 2.36 seconds. Estimated time for incomplete lines: 56.64 seconds.\n",
      "2024-07-17 09:15:48 -0500   32056 execution.bulk     INFO     Process name(SpawnProcess-6)-Process id(5772)-Line number(6) completed.\n",
      "2024-07-17 09:15:48 -0500   32056 execution.bulk     INFO     Process name(SpawnProcess-6)-Process id(5772)-Line number(7) start execution.\n",
      "2024-07-17 09:15:50 -0500   32056 execution.bulk     INFO     Process name(SpawnProcess-6)-Process id(5772)-Line number(7) completed.\n",
      "2024-07-17 09:15:50 -0500   32056 execution.bulk     INFO     Process name(SpawnProcess-6)-Process id(5772)-Line number(8) start execution.\n",
      "2024-07-17 09:15:51 -0500   32056 execution.bulk     INFO     Process name(SpawnProcess-6)-Process id(5772)-Line number(8) completed.\n",
      "2024-07-17 09:15:51 -0500   32056 execution.bulk     INFO     Process name(SpawnProcess-6)-Process id(5772)-Line number(9) start execution.\n",
      "2024-07-17 09:15:52 -0500   32056 execution.bulk     INFO     Finished 9 / 30 lines.\n",
      "2024-07-17 09:15:52 -0500   32056 execution.bulk     INFO     Average execution time for completed lines: 2.25 seconds. Estimated time for incomplete lines: 47.25 seconds.\n",
      "2024-07-17 09:15:52 -0500   32056 execution.bulk     INFO     Process name(SpawnProcess-6)-Process id(5772)-Line number(9) completed.\n",
      "2024-07-17 09:15:52 -0500   32056 execution.bulk     INFO     Process name(SpawnProcess-6)-Process id(5772)-Line number(10) start execution.\n",
      "2024-07-17 09:15:54 -0500   32056 execution.bulk     INFO     Process name(SpawnProcess-6)-Process id(5772)-Line number(10) completed.\n",
      "2024-07-17 09:15:54 -0500   32056 execution.bulk     INFO     Process name(SpawnProcess-6)-Process id(5772)-Line number(11) start execution.\n",
      "2024-07-17 09:15:55 -0500   32056 execution.bulk     INFO     Process name(SpawnProcess-6)-Process id(5772)-Line number(11) completed.\n",
      "2024-07-17 09:15:55 -0500   32056 execution.bulk     INFO     Process name(SpawnProcess-6)-Process id(5772)-Line number(12) start execution.\n",
      "2024-07-17 09:15:56 -0500   32056 execution.bulk     INFO     Finished 12 / 30 lines.\n",
      "2024-07-17 09:15:56 -0500   32056 execution.bulk     INFO     Average execution time for completed lines: 2.03 seconds. Estimated time for incomplete lines: 36.54 seconds.\n",
      "2024-07-17 09:15:57 -0500   32056 execution.bulk     INFO     Process name(SpawnProcess-6)-Process id(5772)-Line number(12) completed.\n",
      "2024-07-17 09:15:57 -0500   32056 execution.bulk     INFO     Process name(SpawnProcess-6)-Process id(5772)-Line number(13) start execution.\n",
      "2024-07-17 09:15:58 -0500   32056 execution.bulk     INFO     Process name(SpawnProcess-6)-Process id(5772)-Line number(13) completed.\n",
      "2024-07-17 09:15:58 -0500   32056 execution.bulk     INFO     Process name(SpawnProcess-6)-Process id(5772)-Line number(14) start execution.\n",
      "2024-07-17 09:15:59 -0500   32056 execution.bulk     INFO     Process name(SpawnProcess-6)-Process id(5772)-Line number(14) completed.\n",
      "2024-07-17 09:15:59 -0500   32056 execution.bulk     INFO     Process name(SpawnProcess-6)-Process id(5772)-Line number(15) start execution.\n",
      "2024-07-17 09:16:00 -0500   32056 execution.bulk     INFO     Finished 15 / 30 lines.\n",
      "2024-07-17 09:16:00 -0500   32056 execution.bulk     INFO     Average execution time for completed lines: 1.89 seconds. Estimated time for incomplete lines: 28.35 seconds.\n",
      "2024-07-17 09:16:01 -0500   32056 execution.bulk     INFO     Process name(SpawnProcess-6)-Process id(5772)-Line number(15) completed.\n",
      "2024-07-17 09:16:01 -0500   32056 execution.bulk     INFO     Process name(SpawnProcess-6)-Process id(5772)-Line number(16) start execution.\n",
      "2024-07-17 09:16:03 -0500   32056 execution.bulk     INFO     Process name(SpawnProcess-6)-Process id(5772)-Line number(16) completed.\n",
      "2024-07-17 09:16:03 -0500   32056 execution.bulk     INFO     Process name(SpawnProcess-6)-Process id(5772)-Line number(17) start execution.\n",
      "2024-07-17 09:16:05 -0500   32056 execution.bulk     INFO     Process name(SpawnProcess-6)-Process id(5772)-Line number(17) completed.\n",
      "2024-07-17 09:16:05 -0500   32056 execution.bulk     INFO     Process name(SpawnProcess-6)-Process id(5772)-Line number(18) start execution.\n",
      "2024-07-17 09:16:05 -0500   32056 execution.bulk     INFO     Finished 18 / 30 lines.\n",
      "2024-07-17 09:16:05 -0500   32056 execution.bulk     INFO     Average execution time for completed lines: 1.86 seconds. Estimated time for incomplete lines: 22.32 seconds.\n",
      "2024-07-17 09:16:06 -0500   32056 execution.bulk     INFO     Process name(SpawnProcess-6)-Process id(5772)-Line number(18) completed.\n",
      "2024-07-17 09:16:06 -0500   32056 execution.bulk     INFO     Process name(SpawnProcess-6)-Process id(5772)-Line number(19) start execution.\n",
      "2024-07-17 09:16:08 -0500   32056 execution.bulk     INFO     Process name(SpawnProcess-6)-Process id(5772)-Line number(19) completed.\n",
      "2024-07-17 09:16:08 -0500   32056 execution.bulk     INFO     Process name(SpawnProcess-6)-Process id(5772)-Line number(20) start execution.\n",
      "2024-07-17 09:16:10 -0500   32056 execution.bulk     INFO     Process name(SpawnProcess-6)-Process id(5772)-Line number(20) completed.\n",
      "2024-07-17 09:16:10 -0500   32056 execution.bulk     INFO     Process name(SpawnProcess-6)-Process id(5772)-Line number(21) start execution.\n",
      "2024-07-17 09:16:10 -0500   32056 execution.bulk     INFO     Finished 21 / 30 lines.\n",
      "2024-07-17 09:16:10 -0500   32056 execution.bulk     INFO     Average execution time for completed lines: 1.83 seconds. Estimated time for incomplete lines: 16.47 seconds.\n",
      "2024-07-17 09:16:11 -0500   32056 execution.bulk     INFO     Process name(SpawnProcess-6)-Process id(5772)-Line number(21) completed.\n",
      "2024-07-17 09:16:11 -0500   32056 execution.bulk     INFO     Process name(SpawnProcess-6)-Process id(5772)-Line number(22) start execution.\n",
      "2024-07-17 09:16:13 -0500   32056 execution.bulk     INFO     Process name(SpawnProcess-6)-Process id(5772)-Line number(22) completed.\n",
      "2024-07-17 09:16:13 -0500   32056 execution.bulk     INFO     Process name(SpawnProcess-6)-Process id(5772)-Line number(23) start execution.\n",
      "2024-07-17 09:16:14 -0500   32056 execution.bulk     INFO     Process name(SpawnProcess-6)-Process id(5772)-Line number(23) completed.\n",
      "2024-07-17 09:16:14 -0500   32056 execution.bulk     INFO     Process name(SpawnProcess-6)-Process id(5772)-Line number(24) start execution.\n",
      "2024-07-17 09:16:14 -0500   32056 execution.bulk     INFO     Finished 24 / 30 lines.\n",
      "2024-07-17 09:16:14 -0500   32056 execution.bulk     INFO     Average execution time for completed lines: 1.77 seconds. Estimated time for incomplete lines: 10.62 seconds.\n",
      "2024-07-17 09:16:15 -0500   32056 execution.bulk     INFO     Process name(SpawnProcess-6)-Process id(5772)-Line number(24) completed.\n",
      "2024-07-17 09:16:15 -0500   32056 execution.bulk     INFO     Process name(SpawnProcess-6)-Process id(5772)-Line number(25) start execution.\n",
      "2024-07-17 09:16:17 -0500   32056 execution.bulk     INFO     Process name(SpawnProcess-6)-Process id(5772)-Line number(25) completed.\n",
      "2024-07-17 09:16:17 -0500   32056 execution.bulk     INFO     Process name(SpawnProcess-6)-Process id(5772)-Line number(26) start execution.\n",
      "2024-07-17 09:16:18 -0500   28940 execution.bulk     INFO     The process [28940] has received a terminate signal.\n",
      "2024-07-17 09:16:19 -0500   32056 execution.bulk     INFO     Process name(SpawnProcess-6)-Process id(5772)-Line number(26) completed.\n",
      "2024-07-17 09:16:19 -0500   32056 execution.bulk     INFO     Process name(SpawnProcess-6)-Process id(5772)-Line number(27) start execution.\n",
      "2024-07-17 09:16:19 -0500   32056 execution.bulk     INFO     Finished 27 / 30 lines.\n",
      "2024-07-17 09:16:19 -0500   32056 execution.bulk     INFO     Average execution time for completed lines: 1.76 seconds. Estimated time for incomplete lines: 5.28 seconds.\n",
      "2024-07-17 09:16:20 -0500   32056 execution.bulk     INFO     Process name(SpawnProcess-6)-Process id(5772)-Line number(27) completed.\n",
      "2024-07-17 09:16:20 -0500   32056 execution.bulk     INFO     Process name(SpawnProcess-6)-Process id(5772)-Line number(28) start execution.\n",
      "2024-07-17 09:16:21 -0500   32056 execution.bulk     INFO     Process name(SpawnProcess-6)-Process id(5772)-Line number(28) completed.\n",
      "2024-07-17 09:16:21 -0500   32056 execution.bulk     INFO     Process name(SpawnProcess-6)-Process id(5772)-Line number(29) start execution.\n",
      "2024-07-17 09:16:23 -0500   32056 execution.bulk     INFO     Process name(SpawnProcess-6)-Process id(5772)-Line number(29) completed.\n",
      "2024-07-17 09:16:23 -0500   32056 execution.bulk     INFO     Finished 30 / 30 lines.\n",
      "2024-07-17 09:16:23 -0500   32056 execution.bulk     INFO     Average execution time for completed lines: 1.72 seconds. Estimated time for incomplete lines: 0.0 seconds.\n",
      "2024-07-17 09:16:23 -0500   32056 execution.bulk     INFO     The thread monitoring the process [5772-SpawnProcess-6] will be terminated.\n",
      "2024-07-17 09:16:23 -0500    5772 execution.bulk     INFO     The process [5772] has received a terminate signal.\n",
      "2024-07-17 09:16:24 -0500   32056 execution.bulk     INFO     Process 5772 terminated.\n",
      "======= Run Summary =======\n",
      "\n",
      "Run name: \"promptflow_evals_evaluators_similarity_similarity_similarityevaluator_ag_1gi8y_20240717_091520_294143\"\n",
      "Run status: \"Completed\"\n",
      "Start time: \"2024-07-17 09:15:20.285872-05:00\"\n",
      "Duration: \"0:01:05.619430\"\n",
      "Output path: \"C:\\Users\\pablosal\\.promptflow\\.runs\\promptflow_evals_evaluators_similarity_similarity_similarityevaluator_ag_1gi8y_20240717_091520_294143\"\n",
      "\n"
     ]
    },
    {
     "name": "stderr",
     "output_type": "stream",
     "text": [
      "c:\\Users\\pablosal\\AppData\\Local\\anaconda3\\envs\\upgrade-llm\\lib\\site-packages\\promptflow\\_sdk\\operations\\_local_storage_operations.py:516: FutureWarning: Setting an item of incompatible dtype is deprecated and will raise an error in a future version of pandas. Value '(Failed)' has dtype incompatible with float64, please explicitly cast to a compatible dtype first.\n",
      "  outputs.fillna(value=\"(Failed)\", inplace=True)  # replace nan with explicit prompt\n",
      "c:\\Users\\pablosal\\AppData\\Local\\anaconda3\\envs\\upgrade-llm\\lib\\site-packages\\promptflow\\evals\\evaluate\\_batch_run_client\\proxy_client.py:35: FutureWarning: Downcasting behavior in `replace` is deprecated and will be removed in a future version. To retain the old behavior, explicitly call `result.infer_objects(copy=False)`. To opt-in to the future behavior, set `pd.set_option('future.no_silent_downcasting', True)`\n",
      "  result_df.replace(\"(Failed)\", np.nan, inplace=True)\n"
     ]
    },
    {
     "name": "stdout",
     "output_type": "stream",
     "text": [
      "[{\"variableName\": \"azure_ai_project\", \"type\": \"dictionary\", \"supportedEngines\": [\"pandas\"], \"isLocalVariable\": false}, {\"variableName\": \"result\", \"type\": \"dictionary\", \"supportedEngines\": [\"pandas\"], \"isLocalVariable\": false}]\n",
      "[{\"variableName\": \"azure_ai_project\", \"type\": \"dictionary\", \"supportedEngines\": [\"pandas\"], \"isLocalVariable\": false}, {\"variableName\": \"result\", \"type\": \"dictionary\", \"supportedEngines\": [\"pandas\"], \"isLocalVariable\": false}]\n",
      "[{\"variableName\": \"azure_ai_project\", \"type\": \"dictionary\", \"supportedEngines\": [\"pandas\"], \"isLocalVariable\": false}, {\"variableName\": \"result\", \"type\": \"dictionary\", \"supportedEngines\": [\"pandas\"], \"isLocalVariable\": false}]\n",
      "[{\"variableName\": \"azure_ai_project\", \"type\": \"dictionary\", \"supportedEngines\": [\"pandas\"], \"isLocalVariable\": false}, {\"variableName\": \"result\", \"type\": \"dictionary\", \"supportedEngines\": [\"pandas\"], \"isLocalVariable\": false}]\n",
      "[{\"variableName\": \"azure_ai_project\", \"type\": \"dictionary\", \"supportedEngines\": [\"pandas\"], \"isLocalVariable\": false}, {\"variableName\": \"result\", \"type\": \"dictionary\", \"supportedEngines\": [\"pandas\"], \"isLocalVariable\": false}]\n",
      "[{\"variableName\": \"azure_ai_project\", \"type\": \"dictionary\", \"supportedEngines\": [\"pandas\"], \"isLocalVariable\": false}, {\"variableName\": \"result\", \"type\": \"dictionary\", \"supportedEngines\": [\"pandas\"], \"isLocalVariable\": false}]\n",
      "[{\"variableName\": \"azure_ai_project\", \"type\": \"dictionary\", \"supportedEngines\": [\"pandas\"], \"isLocalVariable\": false}, {\"variableName\": \"result\", \"type\": \"dictionary\", \"supportedEngines\": [\"pandas\"], \"isLocalVariable\": false}]\n",
      "[{\"variableName\": \"azure_ai_project\", \"type\": \"dictionary\", \"supportedEngines\": [\"pandas\"], \"isLocalVariable\": false}, {\"variableName\": \"result\", \"type\": \"dictionary\", \"supportedEngines\": [\"pandas\"], \"isLocalVariable\": false}]\n",
      "[{\"variableName\": \"azure_ai_project\", \"type\": \"dictionary\", \"supportedEngines\": [\"pandas\"], \"isLocalVariable\": false}, {\"variableName\": \"result\", \"type\": \"dictionary\", \"supportedEngines\": [\"pandas\"], \"isLocalVariable\": false}]\n",
      "[{\"variableName\": \"azure_ai_project\", \"type\": \"dictionary\", \"supportedEngines\": [\"pandas\"], \"isLocalVariable\": false}, {\"variableName\": \"result\", \"type\": \"dictionary\", \"supportedEngines\": [\"pandas\"], \"isLocalVariable\": false}]\n",
      "[{\"variableName\": \"azure_ai_project\", \"type\": \"dictionary\", \"supportedEngines\": [\"pandas\"], \"isLocalVariable\": false}, {\"variableName\": \"result\", \"type\": \"dictionary\", \"supportedEngines\": [\"pandas\"], \"isLocalVariable\": false}]\n",
      "[{\"variableName\": \"azure_ai_project\", \"type\": \"dictionary\", \"supportedEngines\": [\"pandas\"], \"isLocalVariable\": false}, {\"variableName\": \"result\", \"type\": \"dictionary\", \"supportedEngines\": [\"pandas\"], \"isLocalVariable\": false}]\n",
      "[{\"variableName\": \"azure_ai_project\", \"type\": \"dictionary\", \"supportedEngines\": [\"pandas\"], \"isLocalVariable\": false}, {\"variableName\": \"result\", \"type\": \"dictionary\", \"supportedEngines\": [\"pandas\"], \"isLocalVariable\": false}]\n",
      "[{\"variableName\": \"azure_ai_project\", \"type\": \"dictionary\", \"supportedEngines\": [\"pandas\"], \"isLocalVariable\": false}, {\"variableName\": \"result\", \"type\": \"dictionary\", \"supportedEngines\": [\"pandas\"], \"isLocalVariable\": false}]\n",
      "[{\"variableName\": \"azure_ai_project\", \"type\": \"dictionary\", \"supportedEngines\": [\"pandas\"], \"isLocalVariable\": false}, {\"variableName\": \"result\", \"type\": \"dictionary\", \"supportedEngines\": [\"pandas\"], \"isLocalVariable\": false}]\n",
      "[{\"variableName\": \"azure_ai_project\", \"type\": \"dictionary\", \"supportedEngines\": [\"pandas\"], \"isLocalVariable\": false}, {\"variableName\": \"result\", \"type\": \"dictionary\", \"supportedEngines\": [\"pandas\"], \"isLocalVariable\": false}]\n",
      "[{\"variableName\": \"azure_ai_project\", \"type\": \"dictionary\", \"supportedEngines\": [\"pandas\"], \"isLocalVariable\": false}, {\"variableName\": \"result\", \"type\": \"dictionary\", \"supportedEngines\": [\"pandas\"], \"isLocalVariable\": false}]\n",
      "[{\"variableName\": \"azure_ai_project\", \"type\": \"dictionary\", \"supportedEngines\": [\"pandas\"], \"isLocalVariable\": false}, {\"variableName\": \"result\", \"type\": \"dictionary\", \"supportedEngines\": [\"pandas\"], \"isLocalVariable\": false}]\n"
     ]
    }
   ],
   "source": [
    "result = evaluate(\n",
    "    data=r\"C:\\Users\\pablosal\\Desktop\\gbb-ai-llm-slm-evaluation-framework\\my_utils\\data\\evaluations\\jsonl\\F1ScoreEvaluator.jsonl\",\n",
    "    evaluators={\n",
    "        \"qa_eval\": qa_eval,\n",
    "        \"context_similarity\": context_similarity,\n",
    "        \"semantic_similarity\": semantic_similarity_eval\n",
    "    },\n",
    "    # column mapping\n",
    "    evaluator_config={\n",
    "        \"qa_eval\": {\n",
    "            \"answer\": \"${data.answer}\",\n",
    "            \"ground_truth\": \"${data.ground_truth}\",\n",
    "        },\n",
    "        \"context_similarity\": {\n",
    "            \"question\": \"${data.question}\",\n",
    "            \"answer\": \"${data.answer}\",\n",
    "            \"ground_truth\": \"${data.ground_truth}\",\n",
    "        },\n",
    "        \"semantic_similarity\": {\n",
    "        \"response\": \"${data.answer}\",\n",
    "        \"ground_truth\": \"${data.ground_truth}\",\n",
    "    }\n",
    "    },\n",
    "    azure_ai_project=azure_ai_project\n",
    ")"
   ]
  },
  {
   "cell_type": "code",
   "execution_count": 11,
   "metadata": {},
   "outputs": [
    {
     "data": {
      "text/plain": [
       "{'rows': [{'inputs.answer': 'Paris is the capital of France.',\n",
       "   'inputs.ground_truth': 'The capital of France is Paris.',\n",
       "   'inputs.question': 'What is the capital of France?',\n",
       "   'outputs.qa_eval.f1_score': 1.0,\n",
       "   'outputs.context_similarity.gpt_similarity': 5.0,\n",
       "   'outputs.semantic_similarity.semantic_similarity': 0.9259476662,\n",
       "   'line_number': 0},\n",
       "  {'inputs.answer': 'Albert Einstein developed the theory of relativity.',\n",
       "   'inputs.ground_truth': 'The theory of relativity was developed by Albert Einstein.',\n",
       "   'inputs.question': 'Who developed the theory of relativity?',\n",
       "   'outputs.qa_eval.f1_score': 0.8571428571,\n",
       "   'outputs.context_similarity.gpt_similarity': 5.0,\n",
       "   'outputs.semantic_similarity.semantic_similarity': 0.8779066801000001,\n",
       "   'line_number': 1},\n",
       "  {'inputs.answer': 'The speed of light is approximately 299,792,458 meters per second.',\n",
       "   'inputs.ground_truth': 'Light travels at a speed of 299,792,458 meters per second.',\n",
       "   'inputs.question': 'What is the speed of light?',\n",
       "   'outputs.qa_eval.f1_score': 0.7777777778,\n",
       "   'outputs.context_similarity.gpt_similarity': 5.0,\n",
       "   'outputs.semantic_similarity.semantic_similarity': 0.9612010717,\n",
       "   'line_number': 2},\n",
       "  {'inputs.answer': 'Mount Everest is the tallest mountain in the world.',\n",
       "   'inputs.ground_truth': \"The world's tallest mountain is Mount Everest.\",\n",
       "   'inputs.question': 'Which is the tallest mountain in the world?',\n",
       "   'outputs.qa_eval.f1_score': 0.7692307692,\n",
       "   'outputs.context_similarity.gpt_similarity': 5.0,\n",
       "   'outputs.semantic_similarity.semantic_similarity': 0.9308595061,\n",
       "   'line_number': 3},\n",
       "  {'inputs.answer': \"George Orwell is the author of '1984'.\",\n",
       "   'inputs.ground_truth': \"The author of '1984' is George Orwell.\",\n",
       "   'inputs.question': \"Who wrote '1984'?\",\n",
       "   'outputs.qa_eval.f1_score': 1.0,\n",
       "   'outputs.context_similarity.gpt_similarity': 5.0,\n",
       "   'outputs.semantic_similarity.semantic_similarity': 0.9466774464000001,\n",
       "   'line_number': 4},\n",
       "  {'inputs.answer': 'Tokyo is the capital of Japan.',\n",
       "   'inputs.ground_truth': \"Japan's capital is Tokyo.\",\n",
       "   'inputs.question': 'What is the capital of Japan?',\n",
       "   'outputs.qa_eval.f1_score': 0.6666666667000001,\n",
       "   'outputs.context_similarity.gpt_similarity': 5.0,\n",
       "   'outputs.semantic_similarity.semantic_similarity': 0.879247725,\n",
       "   'line_number': 5},\n",
       "  {'inputs.answer': 'Leonardo da Vinci painted the Mona Lisa.',\n",
       "   'inputs.ground_truth': 'The Mona Lisa was painted by Leonardo da Vinci.',\n",
       "   'inputs.question': 'Who painted the Mona Lisa?',\n",
       "   'outputs.qa_eval.f1_score': 0.8571428571,\n",
       "   'outputs.context_similarity.gpt_similarity': 5.0,\n",
       "   'outputs.semantic_similarity.semantic_similarity': 0.9377337098,\n",
       "   'line_number': 6},\n",
       "  {'inputs.answer': 'Jupiter is the largest planet in our solar system.',\n",
       "   'inputs.ground_truth': 'The largest planet in our solar system is Jupiter.',\n",
       "   'inputs.question': 'What is the largest planet in our solar system?',\n",
       "   'outputs.qa_eval.f1_score': 1.0,\n",
       "   'outputs.context_similarity.gpt_similarity': 5.0,\n",
       "   'outputs.semantic_similarity.semantic_similarity': 0.9765796661,\n",
       "   'line_number': 7},\n",
       "  {'inputs.answer': 'H2O is the chemical symbol for water.',\n",
       "   'inputs.ground_truth': 'The chemical symbol for water is H2O.',\n",
       "   'inputs.question': 'What is the chemical symbol for water?',\n",
       "   'outputs.qa_eval.f1_score': 1.0,\n",
       "   'outputs.context_similarity.gpt_similarity': 5.0,\n",
       "   'outputs.semantic_similarity.semantic_similarity': 0.9534006715000001,\n",
       "   'line_number': 8},\n",
       "  {'inputs.answer': 'The Pacific Ocean is the largest ocean on Earth.',\n",
       "   'inputs.ground_truth': 'The largest ocean on Earth is the Pacific Ocean.',\n",
       "   'inputs.question': 'What is the largest ocean on Earth?',\n",
       "   'outputs.qa_eval.f1_score': 1.0,\n",
       "   'outputs.context_similarity.gpt_similarity': 5.0,\n",
       "   'outputs.semantic_similarity.semantic_similarity': 0.9738156199,\n",
       "   'line_number': 9},\n",
       "  {'inputs.answer': 'The Great Pyramid of Giza was built by Alexander the Great.',\n",
       "   'inputs.ground_truth': 'The Great Pyramid of Giza was built by the Egyptians.',\n",
       "   'inputs.question': 'Who built the Great Pyramid of Giza?',\n",
       "   'outputs.qa_eval.f1_score': 0.8235294118,\n",
       "   'outputs.context_similarity.gpt_similarity': 1.0,\n",
       "   'outputs.semantic_similarity.semantic_similarity': 0.9609907269,\n",
       "   'line_number': 10},\n",
       "  {'inputs.answer': 'The human body has four senses.',\n",
       "   'inputs.ground_truth': 'The human body has five primary senses.',\n",
       "   'inputs.question': 'How many primary senses does the human body have?',\n",
       "   'outputs.qa_eval.f1_score': 0.7272727273,\n",
       "   'outputs.context_similarity.gpt_similarity': 1.0,\n",
       "   'outputs.semantic_similarity.semantic_similarity': 0.9754078388,\n",
       "   'line_number': 11},\n",
       "  {'inputs.answer': 'The Amazon is the longest river in the world.',\n",
       "   'inputs.ground_truth': 'The Nile is often cited as the longest river in the world, but some sources claim the Amazon is longer.',\n",
       "   'inputs.question': 'What is the longest river in the world?',\n",
       "   'outputs.qa_eval.f1_score': 0.5454545455,\n",
       "   'outputs.context_similarity.gpt_similarity': nan,\n",
       "   'outputs.semantic_similarity.semantic_similarity': 0.8770133257,\n",
       "   'line_number': 12},\n",
       "  {'inputs.answer': 'The internet was invented in the 1960s.',\n",
       "   'inputs.ground_truth': 'The foundational technology of the internet was developed in the late 1960s.',\n",
       "   'inputs.question': 'When was the internet invented?',\n",
       "   'outputs.qa_eval.f1_score': 0.5714285714,\n",
       "   'outputs.context_similarity.gpt_similarity': nan,\n",
       "   'outputs.semantic_similarity.semantic_similarity': 0.8925940394,\n",
       "   'line_number': 13},\n",
       "  {'inputs.answer': 'The heart is on the right side of the human body.',\n",
       "   'inputs.ground_truth': 'The heart is located slightly to the left side of the chest in the human body.',\n",
       "   'inputs.question': 'Where is the heart located in the human body?',\n",
       "   'outputs.qa_eval.f1_score': 0.6000000000000001,\n",
       "   'outputs.context_similarity.gpt_similarity': 1.0,\n",
       "   'outputs.semantic_similarity.semantic_similarity': 0.8798233867,\n",
       "   'line_number': 14},\n",
       "  {'inputs.answer': 'The sun revolves around the Earth.',\n",
       "   'inputs.ground_truth': 'The Earth revolves around the sun.',\n",
       "   'inputs.question': 'Does the Earth revolve around the sun, or does the sun revolve around the Earth?',\n",
       "   'outputs.qa_eval.f1_score': 1.0,\n",
       "   'outputs.context_similarity.gpt_similarity': 1.0,\n",
       "   'outputs.semantic_similarity.semantic_similarity': 0.9539681077000001,\n",
       "   'line_number': 15},\n",
       "  {'inputs.answer': 'Sharks are mammals.',\n",
       "   'inputs.ground_truth': 'Sharks are a group of fish characterized by a cartilaginous skeleton.',\n",
       "   'inputs.question': 'Are sharks mammals or fish?',\n",
       "   'outputs.qa_eval.f1_score': 0.33333333330000003,\n",
       "   'outputs.context_similarity.gpt_similarity': 1.0,\n",
       "   'outputs.semantic_similarity.semantic_similarity': 0.6559372544000001,\n",
       "   'line_number': 16},\n",
       "  {'inputs.answer': 'The capital of Canada is Toronto.',\n",
       "   'inputs.ground_truth': 'The capital of Canada is Ottawa.',\n",
       "   'inputs.question': 'What is the capital of Canada?',\n",
       "   'outputs.qa_eval.f1_score': 0.8,\n",
       "   'outputs.context_similarity.gpt_similarity': 1.0,\n",
       "   'outputs.semantic_similarity.semantic_similarity': 0.9620543718000001,\n",
       "   'line_number': 17},\n",
       "  {'inputs.answer': 'The inventor of the telephone was Thomas Edison.',\n",
       "   'inputs.ground_truth': 'Alexander Graham Bell is credited with inventing the first practical telephone.',\n",
       "   'inputs.question': 'Who invented the telephone?',\n",
       "   'outputs.qa_eval.f1_score': 0.125,\n",
       "   'outputs.context_similarity.gpt_similarity': 1.0,\n",
       "   'outputs.semantic_similarity.semantic_similarity': 0.9110912681000001,\n",
       "   'line_number': 18},\n",
       "  {'inputs.answer': 'The chemical symbol for gold is Ag.',\n",
       "   'inputs.ground_truth': 'The chemical symbol for gold is Au.',\n",
       "   'inputs.question': 'What is the chemical symbol for gold?',\n",
       "   'outputs.qa_eval.f1_score': 0.8333333333,\n",
       "   'outputs.context_similarity.gpt_similarity': 1.0,\n",
       "   'outputs.semantic_similarity.semantic_similarity': 0.9421272278,\n",
       "   'line_number': 19},\n",
       "  {'inputs.answer': 'The largest desert in the world is the Sahara.',\n",
       "   'inputs.ground_truth': 'The largest desert in the world is Antarctica.',\n",
       "   'inputs.question': 'What is the largest desert in the world?',\n",
       "   'outputs.qa_eval.f1_score': 0.8333333333,\n",
       "   'outputs.context_similarity.gpt_similarity': 1.0,\n",
       "   'outputs.semantic_similarity.semantic_similarity': 0.9212703109,\n",
       "   'line_number': 20},\n",
       "  {'inputs.answer': 'The first man to step on the moon was Lance Armstrong.',\n",
       "   'inputs.ground_truth': 'The first man to step on the moon was Neil Armstrong.',\n",
       "   'inputs.question': 'Who was the first man to step on the moon?',\n",
       "   'outputs.qa_eval.f1_score': 0.8888888889000001,\n",
       "   'outputs.context_similarity.gpt_similarity': 1.0,\n",
       "   'outputs.semantic_similarity.semantic_similarity': 0.9809671044,\n",
       "   'line_number': 21},\n",
       "  {'inputs.answer': 'The capital of Egypt is Cairo.',\n",
       "   'inputs.ground_truth': 'The capital of Egypt is Cairo.',\n",
       "   'inputs.question': 'What is the capital of Egypt?',\n",
       "   'outputs.qa_eval.f1_score': 1.0,\n",
       "   'outputs.context_similarity.gpt_similarity': 5.0,\n",
       "   'outputs.semantic_similarity.semantic_similarity': 1.0,\n",
       "   'line_number': 22},\n",
       "  {'inputs.answer': 'Photosynthesis is performed by animals.',\n",
       "   'inputs.ground_truth': 'Photosynthesis is performed by plants.',\n",
       "   'inputs.question': 'Who performs photosynthesis?',\n",
       "   'outputs.qa_eval.f1_score': 0.8,\n",
       "   'outputs.context_similarity.gpt_similarity': 1.0,\n",
       "   'outputs.semantic_similarity.semantic_similarity': 0.9610488415,\n",
       "   'line_number': 23},\n",
       "  {'inputs.answer': 'The smallest bone in the human body is the femur.',\n",
       "   'inputs.ground_truth': 'The smallest bone in the human body is the stapes bone in the ear.',\n",
       "   'inputs.question': 'What is the smallest bone in the human body?',\n",
       "   'outputs.qa_eval.f1_score': 0.7058823529,\n",
       "   'outputs.context_similarity.gpt_similarity': 1.0,\n",
       "   'outputs.semantic_similarity.semantic_similarity': 0.9176359177000001,\n",
       "   'line_number': 24},\n",
       "  {'inputs.answer': 'The Pacific Ocean is the warmest ocean.',\n",
       "   'inputs.ground_truth': 'The Indian Ocean is considered the warmest ocean.',\n",
       "   'inputs.question': 'Which is the warmest ocean?',\n",
       "   'outputs.qa_eval.f1_score': 0.7272727273,\n",
       "   'outputs.context_similarity.gpt_similarity': 1.0,\n",
       "   'outputs.semantic_similarity.semantic_similarity': 0.9462221265,\n",
       "   'line_number': 25},\n",
       "  {'inputs.answer': 'The light bulb was invented by Nikola Tesla.',\n",
       "   'inputs.ground_truth': 'The light bulb was invented by Thomas Edison.',\n",
       "   'inputs.question': 'Who invented the light bulb?',\n",
       "   'outputs.qa_eval.f1_score': 0.7142857143,\n",
       "   'outputs.context_similarity.gpt_similarity': 1.0,\n",
       "   'outputs.semantic_similarity.semantic_similarity': 0.9513564706000001,\n",
       "   'line_number': 26},\n",
       "  {'inputs.answer': 'The first president of the United States was John Adams.',\n",
       "   'inputs.ground_truth': 'The first president of the United States was George Washington.',\n",
       "   'inputs.question': 'Who was the first president of the United States?',\n",
       "   'outputs.qa_eval.f1_score': 0.75,\n",
       "   'outputs.context_similarity.gpt_similarity': 1.0,\n",
       "   'outputs.semantic_similarity.semantic_similarity': 0.9537732601000001,\n",
       "   'line_number': 27},\n",
       "  {'inputs.answer': 'The formula for water is CO2.',\n",
       "   'inputs.ground_truth': 'The formula for water is H2O.',\n",
       "   'inputs.question': 'What is the formula for water?',\n",
       "   'outputs.qa_eval.f1_score': 0.8,\n",
       "   'outputs.context_similarity.gpt_similarity': 1.0,\n",
       "   'outputs.semantic_similarity.semantic_similarity': 0.9180343151,\n",
       "   'line_number': 28},\n",
       "  {'inputs.answer': 'The tallest building in the world is the Empire State Building.',\n",
       "   'inputs.ground_truth': 'The tallest building in the world is the Burj Khalifa.',\n",
       "   'inputs.question': 'What is the tallest building in the world?',\n",
       "   'outputs.qa_eval.f1_score': 0.6666666667000001,\n",
       "   'outputs.context_similarity.gpt_similarity': 1.0,\n",
       "   'outputs.semantic_similarity.semantic_similarity': 0.8955240846,\n",
       "   'line_number': 29}],\n",
       " 'metrics': {'qa_eval.f1_score': 0.7724547511300002,\n",
       "  'context_similarity.gpt_similarity': 2.5714285714285716,\n",
       "  'semantic_similarity.semantic_similarity': 0.9273403247166668},\n",
       " 'studio_url': 'https://ai.azure.com/build/evaluation/ffd932d9-6a97-400d-ba9a-063bd5a69627?wsid=/subscriptions/1a4bb722-f155-4502-8033-022a9eb1481b/resourceGroups/dev/providers/Microsoft.MachineLearningServices/workspaces/test-env'}"
      ]
     },
     "execution_count": 11,
     "metadata": {},
     "output_type": "execute_result"
    }
   ],
   "source": [
    "result"
   ]
  }
 ],
 "metadata": {
  "kernelspec": {
   "display_name": "capacity-aoai",
   "language": "python",
   "name": "python3"
  },
  "language_info": {
   "codemirror_mode": {
    "name": "ipython",
    "version": 3
   },
   "file_extension": ".py",
   "mimetype": "text/x-python",
   "name": "python",
   "nbconvert_exporter": "python",
   "pygments_lexer": "ipython3",
   "version": "3.9.19"
  }
 },
 "nbformat": 4,
 "nbformat_minor": 2
}
